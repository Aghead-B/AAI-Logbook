{
 "cells": [
  {
   "attachments": {},
   "cell_type": "markdown",
   "metadata": {},
   "source": [
    "# Spam Filter"
   ]
  },
  {
   "attachments": {},
   "cell_type": "markdown",
   "metadata": {},
   "source": [
    "In dit notebook maken we een spamfilter."
   ]
  },
  {
   "attachments": {},
   "cell_type": "markdown",
   "metadata": {},
   "source": [
    "## Verover de data"
   ]
  },
  {
   "attachments": {},
   "cell_type": "markdown",
   "metadata": {},
   "source": [
    "We maken gebruik van publieke data van Apache Spamassassin. Deze data gaan we downloaden van het internet. Zorg dat hieronder bij `SPAM_PATH` de naam van de map staat waar je het resultaat wilt opslaan."
   ]
  },
  {
   "cell_type": "code",
   "execution_count": 140,
   "metadata": {},
   "outputs": [],
   "source": [
    "import os\n",
    "import tarfile\n",
    "from six.moves import urllib\n",
    "\n",
    "import numpy as np\n",
    "import pandas as pd\n",
    "\n",
    "from sklearn.metrics import accuracy_score\n",
    "from sklearn.model_selection import train_test_split\n",
    "\n",
    "DOWNLOAD_ROOT = \"http://spamassassin.apache.org/old/publiccorpus/\"\n",
    "HAM_URL = DOWNLOAD_ROOT + \"20030228_easy_ham.tar.bz2\"\n",
    "SPAM_URL = DOWNLOAD_ROOT + \"20030228_spam.tar.bz2\"\n",
    "\n",
    "# verander onderstaande url in de map waarin je het resultaat wilt opslaan\n",
    "SPAM_PATH = \"D:/University/3e_jaar/AAI-Minor/minor-logboek-aai-2/deeplearning/NLP(RNN)\""
   ]
  },
  {
   "attachments": {},
   "cell_type": "markdown",
   "metadata": {},
   "source": [
    "We maken een pythonfunctie om de bestanden van internet te halen. Zoek uit wat deze functie doet."
   ]
  },
  {
   "cell_type": "code",
   "execution_count": 141,
   "metadata": {},
   "outputs": [],
   "source": [
    "def fetch_spam_data(spam_url=SPAM_URL, spam_path=SPAM_PATH):\n",
    "    if not os.path.isdir(spam_path):# als de map nog niet bestaat...\n",
    "        os.makedirs(spam_path)\n",
    "    \n",
    "    for filename, url in ((\"ham.tar.bz2\", HAM_URL), (\"spam.tar.bz2\", SPAM_URL)):\n",
    "        path = os.path.join(spam_path, filename)\n",
    "        \n",
    "        if not os.path.isfile(path): # als het bestand nog niet bestaat...\n",
    "            urllib.request.urlretrieve(url, path)\n",
    "        \n",
    "        tar_bz2_file = tarfile.open(path)\n",
    "        tar_bz2_file.extractall(path=SPAM_PATH)\n",
    "        tar_bz2_file.close()"
   ]
  },
  {
   "attachments": {},
   "cell_type": "markdown",
   "metadata": {},
   "source": [
    "Na het aanroepen van de functie moet er een map `easy_ham` en een map `spam` zijn toegevoegd binnen `SPAM_PATH`. Roep de functie aan en controleer dat dit het geval is."
   ]
  },
  {
   "cell_type": "code",
   "execution_count": 142,
   "metadata": {},
   "outputs": [],
   "source": [
    "fetch_spam_data()"
   ]
  },
  {
   "attachments": {},
   "cell_type": "markdown",
   "metadata": {},
   "source": [
    "Om makkelijk bij de bestanden te kunnen, maken we voor beide categorieën een lijst met bestandsnamen.\n",
    "\n",
    "De methode `os.listdir()` geeft je een lijst van bestandsnamen in een map. Die kunnen we eventueel sorteren met `sorted()`. We gebruiken deze functies om zowel voor ham als voor spam een lijst te maken van alle bestandsnamen waarvan de lengte groter is dan 20 tekens."
   ]
  },
  {
   "cell_type": "code",
   "execution_count": 143,
   "metadata": {},
   "outputs": [],
   "source": [
    "HAM_DIR = os.path.join(SPAM_PATH, \"easy_ham\")\n",
    "SPAM_DIR = os.path.join(SPAM_PATH, \"spam\")\n",
    "\n",
    "ham_filenames = [name for name in sorted(os.listdir(HAM_DIR)) if len(name) > 20]\n",
    "spam_filenames = [name for name in sorted(os.listdir(SPAM_DIR)) if len(name) > 20]"
   ]
  },
  {
   "attachments": {},
   "cell_type": "markdown",
   "metadata": {},
   "source": [
    "Hoeveel bestanden met spam zijn er?"
   ]
  },
  {
   "cell_type": "code",
   "execution_count": 144,
   "metadata": {},
   "outputs": [
    {
     "name": "stdout",
     "output_type": "stream",
     "text": [
      "Aantal spam bestanden:  500\n"
     ]
    }
   ],
   "source": [
    "print(\"Aantal spam bestanden: \", len(spam_filenames))"
   ]
  },
  {
   "attachments": {},
   "cell_type": "markdown",
   "metadata": {},
   "source": [
    "Hoeveel bestanden zonder spam (met ham) zijn er?"
   ]
  },
  {
   "cell_type": "code",
   "execution_count": 145,
   "metadata": {},
   "outputs": [
    {
     "name": "stdout",
     "output_type": "stream",
     "text": [
      "Aantal ham bestanden:  2500\n"
     ]
    }
   ],
   "source": [
    "print(\"Aantal ham bestanden: \", len(ham_filenames))"
   ]
  },
  {
   "attachments": {},
   "cell_type": "markdown",
   "metadata": {},
   "source": [
    "Laten we eens zo'n bestand bekijken, bijvoorbeeld het 4e bestand zonder spam."
   ]
  },
  {
   "cell_type": "code",
   "execution_count": 146,
   "metadata": {},
   "outputs": [
    {
     "name": "stdout",
     "output_type": "stream",
     "text": [
      "['From irregulars-admin@tb.tf  Thu Aug 22 14:23:39 2002\\n', 'Return-Path: <irregulars-admin@tb.tf>\\n', 'Delivered-To: zzzz@localhost.netnoteinc.com\\n', 'Received: from localhost (localhost [127.0.0.1])\\n', '\\tby phobos.labs.netnoteinc.com (Postfix) with ESMTP id 9DAE147C66\\n', '\\tfor <zzzz@localhost>; Thu, 22 Aug 2002 09:23:38 -0400 (EDT)\\n', 'Received: from phobos [127.0.0.1]\\n', '\\tby localhost with IMAP (fetchmail-5.9.0)\\n', '\\tfor zzzz@localhost (single-drop); Thu, 22 Aug 2002 14:23:38 +0100 (IST)\\n', 'Received: from web.tb.tf (route-64-131-126-36.telocity.com\\n', '    [64.131.126.36]) by dogma.slashnull.org (8.11.6/8.11.6) with ESMTP id\\n', '    g7MDGOZ07922 for <zzzz-irr@spamassassin.taint.org>; Thu, 22 Aug 2002 14:16:24 +0100\\n', 'Received: from web.tb.tf (localhost.localdomain [127.0.0.1]) by web.tb.tf\\n', '    (8.11.6/8.11.6) with ESMTP id g7MDP9I16418; Thu, 22 Aug 2002 09:25:09\\n', '    -0400\\n', 'Received: from red.harvee.home (red [192.168.25.1] (may be forged)) by\\n', '    web.tb.tf (8.11.6/8.11.6) with ESMTP id g7MDO4I16408 for\\n', '    <irregulars@tb.tf>; Thu, 22 Aug 2002 09:24:04 -0400\\n', 'Received: from prserv.net (out4.prserv.net [32.97.166.34]) by\\n', '    red.harvee.home (8.11.6/8.11.6) with ESMTP id g7MDFBD29237 for\\n', '    <irregulars@tb.tf>; Thu, 22 Aug 2002 09:15:12 -0400\\n', 'Received: from [209.202.248.109]\\n', '    (slip-32-103-249-10.ma.us.prserv.net[32.103.249.10]) by prserv.net (out4)\\n', '    with ESMTP id <2002082213150220405qu8jce>; Thu, 22 Aug 2002 13:15:07 +0000\\n', 'MIME-Version: 1.0\\n', 'X-Sender: @ (Unverified)\\n', 'Message-Id: <p04330137b98a941c58a8@[209.202.248.109]>\\n', 'To: undisclosed-recipient: ;\\n', 'From: Monty Solomon <monty@roscom.com>\\n', 'Content-Type: text/plain; charset=\"us-ascii\"\\n', \"Subject: [IRR] Klez: The Virus That  Won't Die\\n\", 'Sender: irregulars-admin@tb.tf\\n', 'Errors-To: irregulars-admin@tb.tf\\n', 'X-Beenthere: irregulars@tb.tf\\n', 'X-Mailman-Version: 2.0.6\\n', 'Precedence: bulk\\n', 'List-Help: <mailto:irregulars-request@tb.tf?subject=help>\\n', 'List-Post: <mailto:irregulars@tb.tf>\\n', 'List-Subscribe: <http://tb.tf/mailman/listinfo/irregulars>,\\n', '    <mailto:irregulars-request@tb.tf?subject=subscribe>\\n', 'List-Id: New home of the TBTF Irregulars mailing list <irregulars.tb.tf>\\n', 'List-Unsubscribe: <http://tb.tf/mailman/listinfo/irregulars>,\\n', '    <mailto:irregulars-request@tb.tf?subject=unsubscribe>\\n', 'List-Archive: <http://tb.tf/mailman/private/irregulars/>\\n', 'Date: Thu, 22 Aug 2002 09:15:25 -0400\\n', '\\n', \"Klez: The Virus That Won't Die\\n\", ' \\n', 'Already the most prolific virus ever, Klez continues to wreak havoc.\\n', '\\n', 'Andrew Brandt\\n', '>>From the September 2002 issue of PC World magazine\\n', 'Posted Thursday, August 01, 2002\\n', '\\n', '\\n', 'The Klez worm is approaching its seventh month of wriggling across \\n', 'the Web, making it one of the most persistent viruses ever. And \\n', 'experts warn that it may be a harbinger of new viruses that use a \\n', 'combination of pernicious approaches to go from PC to PC.\\n', '\\n', 'Antivirus software makers Symantec and McAfee both report more than \\n', '2000 new infections daily, with no sign of letup at press time. The \\n', 'British security firm MessageLabs estimates that 1 in every 300 \\n', 'e-mail messages holds a variation of the Klez virus, and says that \\n', \"Klez has already surpassed last summer's SirCam as the most prolific \\n\", 'virus ever.\\n', '\\n', \"And some newer Klez variants aren't merely nuisances--they can carry \\n\", 'other viruses in them that corrupt your data.\\n', '\\n', '...\\n', '\\n', 'http://www.pcworld.com/news/article/0,aid,103259,00.asp\\n', '_______________________________________________\\n', 'Irregulars mailing list\\n', 'Irregulars@tb.tf\\n', 'http://tb.tf/mailman/listinfo/irregulars\\n', '\\n']\n"
     ]
    }
   ],
   "source": [
    "with open(os.path.join(SPAM_PATH, 'easy_ham', ham_filenames[3])) as myfile:\n",
    "    lines = myfile.readlines()\n",
    "print(lines)"
   ]
  },
  {
   "attachments": {},
   "cell_type": "markdown",
   "metadata": {},
   "source": [
    "Hierboven zie je de ruwe tekst van de e-mail. We kunnen dit iets leesbaarder maken door te zorgen dat elke nieuwe regel in het bestand ook op een eigen regel wordt afgedrukt. Bekijk vervolgens de tekst. Wat valt je op?"
   ]
  },
  {
   "cell_type": "code",
   "execution_count": 147,
   "metadata": {},
   "outputs": [
    {
     "name": "stdout",
     "output_type": "stream",
     "text": [
      "From irregulars-admin@tb.tf  Thu Aug 22 14:23:39 2002\n",
      "\n",
      "Return-Path: <irregulars-admin@tb.tf>\n",
      "\n",
      "Delivered-To: zzzz@localhost.netnoteinc.com\n",
      "\n",
      "Received: from localhost (localhost [127.0.0.1])\n",
      "\n",
      "\tby phobos.labs.netnoteinc.com (Postfix) with ESMTP id 9DAE147C66\n",
      "\n",
      "\tfor <zzzz@localhost>; Thu, 22 Aug 2002 09:23:38 -0400 (EDT)\n",
      "\n",
      "Received: from phobos [127.0.0.1]\n",
      "\n",
      "\tby localhost with IMAP (fetchmail-5.9.0)\n",
      "\n",
      "\tfor zzzz@localhost (single-drop); Thu, 22 Aug 2002 14:23:38 +0100 (IST)\n",
      "\n",
      "Received: from web.tb.tf (route-64-131-126-36.telocity.com\n",
      "\n",
      "    [64.131.126.36]) by dogma.slashnull.org (8.11.6/8.11.6) with ESMTP id\n",
      "\n",
      "    g7MDGOZ07922 for <zzzz-irr@spamassassin.taint.org>; Thu, 22 Aug 2002 14:16:24 +0100\n",
      "\n",
      "Received: from web.tb.tf (localhost.localdomain [127.0.0.1]) by web.tb.tf\n",
      "\n",
      "    (8.11.6/8.11.6) with ESMTP id g7MDP9I16418; Thu, 22 Aug 2002 09:25:09\n",
      "\n",
      "    -0400\n",
      "\n",
      "Received: from red.harvee.home (red [192.168.25.1] (may be forged)) by\n",
      "\n",
      "    web.tb.tf (8.11.6/8.11.6) with ESMTP id g7MDO4I16408 for\n",
      "\n",
      "    <irregulars@tb.tf>; Thu, 22 Aug 2002 09:24:04 -0400\n",
      "\n",
      "Received: from prserv.net (out4.prserv.net [32.97.166.34]) by\n",
      "\n",
      "    red.harvee.home (8.11.6/8.11.6) with ESMTP id g7MDFBD29237 for\n",
      "\n",
      "    <irregulars@tb.tf>; Thu, 22 Aug 2002 09:15:12 -0400\n",
      "\n",
      "Received: from [209.202.248.109]\n",
      "\n",
      "    (slip-32-103-249-10.ma.us.prserv.net[32.103.249.10]) by prserv.net (out4)\n",
      "\n",
      "    with ESMTP id <2002082213150220405qu8jce>; Thu, 22 Aug 2002 13:15:07 +0000\n",
      "\n",
      "MIME-Version: 1.0\n",
      "\n",
      "X-Sender: @ (Unverified)\n",
      "\n",
      "Message-Id: <p04330137b98a941c58a8@[209.202.248.109]>\n",
      "\n",
      "To: undisclosed-recipient: ;\n",
      "\n",
      "From: Monty Solomon <monty@roscom.com>\n",
      "\n",
      "Content-Type: text/plain; charset=\"us-ascii\"\n",
      "\n",
      "Subject: [IRR] Klez: The Virus That  Won't Die\n",
      "\n",
      "Sender: irregulars-admin@tb.tf\n",
      "\n",
      "Errors-To: irregulars-admin@tb.tf\n",
      "\n",
      "X-Beenthere: irregulars@tb.tf\n",
      "\n",
      "X-Mailman-Version: 2.0.6\n",
      "\n",
      "Precedence: bulk\n",
      "\n",
      "List-Help: <mailto:irregulars-request@tb.tf?subject=help>\n",
      "\n",
      "List-Post: <mailto:irregulars@tb.tf>\n",
      "\n",
      "List-Subscribe: <http://tb.tf/mailman/listinfo/irregulars>,\n",
      "\n",
      "    <mailto:irregulars-request@tb.tf?subject=subscribe>\n",
      "\n",
      "List-Id: New home of the TBTF Irregulars mailing list <irregulars.tb.tf>\n",
      "\n",
      "List-Unsubscribe: <http://tb.tf/mailman/listinfo/irregulars>,\n",
      "\n",
      "    <mailto:irregulars-request@tb.tf?subject=unsubscribe>\n",
      "\n",
      "List-Archive: <http://tb.tf/mailman/private/irregulars/>\n",
      "\n",
      "Date: Thu, 22 Aug 2002 09:15:25 -0400\n",
      "\n",
      "\n",
      "\n",
      "Klez: The Virus That Won't Die\n",
      "\n",
      " \n",
      "\n",
      "Already the most prolific virus ever, Klez continues to wreak havoc.\n",
      "\n",
      "\n",
      "\n",
      "Andrew Brandt\n",
      "\n",
      ">>From the September 2002 issue of PC World magazine\n",
      "\n",
      "Posted Thursday, August 01, 2002\n",
      "\n",
      "\n",
      "\n",
      "\n",
      "\n",
      "The Klez worm is approaching its seventh month of wriggling across \n",
      "\n",
      "the Web, making it one of the most persistent viruses ever. And \n",
      "\n",
      "experts warn that it may be a harbinger of new viruses that use a \n",
      "\n",
      "combination of pernicious approaches to go from PC to PC.\n",
      "\n",
      "\n",
      "\n",
      "Antivirus software makers Symantec and McAfee both report more than \n",
      "\n",
      "2000 new infections daily, with no sign of letup at press time. The \n",
      "\n",
      "British security firm MessageLabs estimates that 1 in every 300 \n",
      "\n",
      "e-mail messages holds a variation of the Klez virus, and says that \n",
      "\n",
      "Klez has already surpassed last summer's SirCam as the most prolific \n",
      "\n",
      "virus ever.\n",
      "\n",
      "\n",
      "\n",
      "And some newer Klez variants aren't merely nuisances--they can carry \n",
      "\n",
      "other viruses in them that corrupt your data.\n",
      "\n",
      "\n",
      "\n",
      "...\n",
      "\n",
      "\n",
      "\n",
      "http://www.pcworld.com/news/article/0,aid,103259,00.asp\n",
      "\n",
      "_______________________________________________\n",
      "\n",
      "Irregulars mailing list\n",
      "\n",
      "Irregulars@tb.tf\n",
      "\n",
      "http://tb.tf/mailman/listinfo/irregulars\n",
      "\n",
      "\n",
      "\n"
     ]
    }
   ],
   "source": [
    "with open(os.path.join(SPAM_PATH, 'easy_ham', ham_filenames[3])) as myfile:\n",
    "    for line in myfile.readlines():\n",
    "        print(line)"
   ]
  },
  {
   "attachments": {},
   "cell_type": "markdown",
   "metadata": {},
   "source": [
    "Wat we zien, is een e-mail zoals een e-mailprogramma dit ontvangt. Een e-mail bestaat uit een header, waar aan we o.a. kunnen zien wie de afzender en ontvanger zijn en langs welke tussenstations de mail verstuurd is. Na de header volgt een lege regel en dan de inhoud van de e-mail.\n",
    "\n",
    "We kunnen de emails inlezen als tekstbestanden zoals we zojuist hebben gedaan, maar dan zal blijken dat sommig e-mails ander gecodeerd zijn en we niet alle bestanden kunnen openen. In plaats daarvan laten we Python het werk voor ons opknappen door de `email` library te gebruiken."
   ]
  },
  {
   "cell_type": "code",
   "execution_count": 148,
   "metadata": {},
   "outputs": [],
   "source": [
    "import email\n",
    "import email.policy\n",
    "\n",
    "def load_email(is_spam, filename, spam_path=SPAM_PATH):\n",
    "    directory = \"spam\" if is_spam else \"easy_ham\"\n",
    "    with open(os.path.join(spam_path, directory, filename), \"rb\") as f:\n",
    "        return email.parser.BytesParser(policy=email.policy.default).parse(f)"
   ]
  },
  {
   "attachments": {},
   "cell_type": "markdown",
   "metadata": {},
   "source": [
    "We maken met behulp van de functie `load_email` nu een lijst met ham emails en een lijst met spam emails."
   ]
  },
  {
   "cell_type": "code",
   "execution_count": 149,
   "metadata": {},
   "outputs": [],
   "source": [
    "ham_emails = [load_email(is_spam=False, filename=name) for name in ham_filenames]\n",
    "spam_emails = [load_email(is_spam=True, filename=name) for name in spam_filenames]"
   ]
  },
  {
   "attachments": {},
   "cell_type": "markdown",
   "metadata": {},
   "source": [
    "Druk ter controle een ham email en een spam email af. Gebruik hiervoor de methode 'as_string()' van het 'email' object."
   ]
  },
  {
   "cell_type": "code",
   "execution_count": 150,
   "metadata": {},
   "outputs": [
    {
     "name": "stdout",
     "output_type": "stream",
     "text": [
      "Return-Path: <Steve_Burt@cursor-system.com>\n",
      "Delivered-To: zzzz@localhost.netnoteinc.com\n",
      "Received: from localhost (localhost [127.0.0.1])\n",
      "\tby phobos.labs.netnoteinc.com (Postfix) with ESMTP id BE12E43C34\n",
      "\tfor <zzzz@localhost>; Thu, 22 Aug 2002 07:46:38 -0400 (EDT)\n",
      "Received: from phobos [127.0.0.1]\n",
      "\tby localhost with IMAP (fetchmail-5.9.0)\n",
      "\tfor zzzz@localhost (single-drop); Thu, 22 Aug 2002 12:46:38 +0100 (IST)\n",
      "Received: from n20.grp.scd.yahoo.com (n20.grp.scd.yahoo.com    [66.218.66.76])\n",
      " by dogma.slashnull.org (8.11.6/8.11.6) with SMTP id    g7MBkTZ05087 for\n",
      " <zzzz@spamassassin.taint.org>; Thu, 22 Aug 2002 12:46:29 +0100\n",
      "X-Egroups-Return: =?utf-8?q?sentto-2242572-52726-1030016790-zzzz=3Dspamassas?=\n",
      " =?utf-8?q?sin=2Etaint=2Eorg=40returns=2Egroups=2Eyahoo=2Ecom?=\n",
      "Received: from [66.218.67.196] by n20.grp.scd.yahoo.com with NNFMP;\n",
      "    22 Aug 2002 11:46:30 -0000\n",
      "X-Sender: steve.burt@cursor-system.com\n",
      "X-Apparently-To: zzzzteana@yahoogroups.com\n",
      "Received: (EGP: mail-8_1_0_1); 22 Aug 2002 11:46:29 -0000\n",
      "Received: (qmail 11764 invoked from network); 22 Aug 2002 11:46:29 -0000\n",
      "Received: from unknown (66.218.66.217) by m3.grp.scd.yahoo.com with QMQP;\n",
      "    22 Aug 2002 11:46:29 -0000\n",
      "Received: from unknown (HELO mailgateway.cursor-system.com) (62.189.7.27)\n",
      "    by mta2.grp.scd.yahoo.com with SMTP; 22 Aug 2002 11:46:29 -0000\n",
      "Received: from exchange1.cps.local (unverified) by\n",
      "    mailgateway.cursor-system.com (Content Technologies SMTPRS 4.2.10) with\n",
      "    ESMTP id <T5cde81f695ac1d100407d@mailgateway.cursor-system.com> for\n",
      "    <forteana@yahoogroups.com>; Thu, 22 Aug 2002 13:14:10 +0100\n",
      "Received: by exchange1.cps.local with Internet Mail Service (5.5.2653.19)\n",
      "    id <PXX6AT23>; Thu, 22 Aug 2002 12:46:27 +0100\n",
      "Message-Id: <5EC2AD6D2314D14FB64BDA287D25D9EF12B4F6@exchange1.cps.local>\n",
      "To: \"'zzzzteana@yahoogroups.com'\" <zzzzteana@yahoogroups.com>\n",
      "X-Mailer: Internet Mail Service (5.5.2653.19)\n",
      "X-Egroups-From: Steve Burt <steve.burt@cursor-system.com>\n",
      "From: Steve Burt <Steve_Burt@cursor-system.com>\n",
      "X-Yahoo-Profile: pyruse\n",
      "MIME-Version: 1.0\n",
      "Mailing-List: list zzzzteana@yahoogroups.com; contact\n",
      "    forteana-owner@yahoogroups.com\n",
      "Delivered-To: mailing list zzzzteana@yahoogroups.com\n",
      "Precedence: bulk\n",
      "List-Unsubscribe: <mailto:zzzzteana-unsubscribe@yahoogroups.com>\n",
      "Date: Thu, 22 Aug 2002 12:46:18 +0100\n",
      "Subject: [zzzzteana] RE: Alexander\n",
      "Reply-To: zzzzteana@yahoogroups.com\n",
      "Content-Type: text/plain; charset=US-ASCII\n",
      "Content-Transfer-Encoding: 7bit\n",
      "\n",
      "Martin A posted:\n",
      "Tassos Papadopoulos, the Greek sculptor behind the plan, judged that the\n",
      " limestone of Mount Kerdylio, 70 miles east of Salonika and not far from the\n",
      " Mount Athos monastic community, was ideal for the patriotic sculpture. \n",
      " \n",
      " As well as Alexander's granite features, 240 ft high and 170 ft wide, a\n",
      " museum, a restored amphitheatre and car park for admiring crowds are\n",
      "planned\n",
      "---------------------\n",
      "So is this mountain limestone or granite?\n",
      "If it's limestone, it'll weather pretty fast.\n",
      "\n",
      "------------------------ Yahoo! Groups Sponsor ---------------------~-->\n",
      "4 DVDs Free +s&p Join Now\n",
      "http://us.click.yahoo.com/pt6YBB/NXiEAA/mG3HAA/7gSolB/TM\n",
      "---------------------------------------------------------------------~->\n",
      "\n",
      "To unsubscribe from this group, send an email to:\n",
      "forteana-unsubscribe@egroups.com\n",
      "\n",
      " \n",
      "\n",
      "Your use of Yahoo! Groups is subject to http://docs.yahoo.com/info/terms/ \n",
      "\n",
      "\n",
      "\n",
      "\n"
     ]
    }
   ],
   "source": [
    "print(ham_emails[1].as_string())"
   ]
  },
  {
   "cell_type": "code",
   "execution_count": 151,
   "metadata": {},
   "outputs": [
    {
     "name": "stdout",
     "output_type": "stream",
     "text": [
      "Return-Path: <fort@bluemail.dk>\n",
      "Delivered-To: zzzz@localhost.spamassassin.taint.org\n",
      "Received: from localhost (localhost [127.0.0.1])\n",
      "\tby phobos.labs.spamassassin.taint.org (Postfix) with ESMTP id 9367F43F99\n",
      "\tfor <zzzz@localhost>; Thu, 22 Aug 2002 13:28:06 -0400 (EDT)\n",
      "Received: from mail.webnote.net [193.120.211.219]\n",
      "\tby localhost with POP3 (fetchmail-5.9.0)\n",
      "\tfor zzzz@localhost (single-drop); Thu, 22 Aug 2002 18:28:06 +0100 (IST)\n",
      "Received: from smtp.easydns.com (smtp.easydns.com [205.210.42.30])\n",
      "\tby webnote.net (8.9.3/8.9.3) with ESMTP id SAA05963;\n",
      "\tThu, 22 Aug 2002 18:25:04 +0100\n",
      "From: fort@bluemail.dk\n",
      "Received: from bluemail.dk (217-127-249-196.uc.nombres.ttd.es\n",
      " [217.127.249.196])\tby smtp.easydns.com (Postfix) with SMTP\tid 3FBEB2EEF1;\n",
      " Thu, 22 Aug 2002 13:24:37 -0400 (EDT)\n",
      "Reply-To: <fort@bluemail.dk>\n",
      "Message-ID: <000c84d37aae$7338a0a4$3ab55ec5@bjjwxv>\n",
      "To: mike23@hotmail.com\n",
      "Subject: FORTUNE 500 COMPANY HIRING, AT HOME REPS.\n",
      "MiME-Version: 1.0\n",
      "Content-Type: text/plain;\n",
      "\tcharset=\"iso-8859-1\"\n",
      "X-Priority: 3 (Normal)\n",
      "X-MSMail-Priority: Normal\n",
      "X-Mailer: Microsoft Outlook Express 5.00.2919.6700\n",
      "Importance: Normal\n",
      "Date: Thu, 22 Aug 2002 13:24:37 -0400 (EDT)\n",
      "Content-Transfer-Encoding: 8bit\n",
      "\n",
      "Help wanted.  We are a 14 year old fortune 500 company, that is\n",
      "growing at a tremendous rate.  We are looking for individuals who\n",
      "want to work from home.\n",
      "\n",
      "This is an opportunity to make an excellent income.  No experience\n",
      "is required.  We will train you.\n",
      "\n",
      "So if you are looking to be employed from home with a career that has\n",
      "vast opportunities, then go:\n",
      "\n",
      "http://www.basetel.com/wealthnow\n",
      "\n",
      "We are looking for energetic and self motivated people.  If that is you\n",
      "than click on the link and fill out the form, and one of our\n",
      "employement specialist will contact you.\n",
      "\n",
      "To be removed from our link simple go to:\n",
      "\n",
      "http://www.basetel.com/remove.html\n",
      "\n",
      "\n",
      "4139vOLW7-758DoDY1425FRhM1-764SMFc8513fCsLl40\n",
      "\n",
      "\n"
     ]
    }
   ],
   "source": [
    "print(spam_emails[6].as_string())"
   ]
  },
  {
   "attachments": {},
   "cell_type": "markdown",
   "metadata": {},
   "source": [
    "## Maak de data geschikt voor Machine Learning"
   ]
  },
  {
   "attachments": {},
   "cell_type": "markdown",
   "metadata": {},
   "source": [
    "Nu hebben we onze data in de vorm van lijsten met e-mails. Om machine learning toe te kunnen passen hebben we echter getallen nodig. In de volgende stappen passen we de data zo aan dat deze bruikbaar wordt voor machine learning.\n",
    "\n",
    "We werken dit eerst uit op een enkel bestand om het daarna in een functie op alle emails toe te passen.\n",
    "\n",
    "We maken alleen gebruik van de tekst van de e-mails (hoewel er in de headers vast ook allerlei nuttige informatie staat om te bepalen of het om spam gaat)."
   ]
  },
  {
   "cell_type": "code",
   "execution_count": 152,
   "metadata": {
    "scrolled": true
   },
   "outputs": [
    {
     "name": "stdout",
     "output_type": "stream",
     "text": [
      "<HTML><HEAD><TITLE>FREE Motorola Cell Phone with $50 Cash Back!</TITLE>\n",
      "<STYLE></STYLE>\n",
      "</HEAD>\n",
      "<BODY bgColor=#ffffff>\n",
      "<TABLE align=\"center\" border=0 cellPadding=0 cellSpacing=0 width=450>\n",
      "  <TBODY>\n",
      "  <TR>\n",
      "    <TD><IMG height=1 src=\"images/spacer.gif\" width=185></TD>\n",
      "    <TD><IMG height=1 src=\"images/spacer.gif\" width=65></TD>\n",
      "    <TD><IMG height=1 src=\"images/spacer.gif\" width=50></TD>\n",
      "    <TD><IMG height=1 src=\"images/spacer.gif\" width=150></TD></TR>\n",
      "  <TR>\n",
      "    <TD colSpan=2 rowSpan=2><A href=\"http://theadmanager.com/server/c.asp?ad_key=QBFUIEXORXKL&ext=1\"><IMG border=0\n",
      "      height=150\n",
      "      src=\"http://168.143.181.42/htmlemails/images/T193no_option_01.gif\"\n",
      "      width=250></A></TD>\n",
      "    <TD rowSpan=2><A href=\"http://theadmanager.com/server/c.asp?ad_key=QBFUIEXORXKL&ext=1\"><IMG border=0\n",
      "      height=150\n",
      "      src=\"http://168.143.181.42/htmlemails/images/T193no_option_02.gif\"\n",
      "      width=50></A></TD>\n",
      "    <TD><A href=\"http://theadmanager.com/server/c.asp?ad_key=QBFUIEXORXKL&ext=1\"><IMG\n"
     ]
    }
   ],
   "source": [
    "body = spam_emails[13].get_content().strip()\n",
    "print(body[:1000])"
   ]
  },
  {
   "attachments": {},
   "cell_type": "markdown",
   "metadata": {},
   "source": [
    "Sommige e-mails bevatten HTML code. Om deze te verwijderen maken we gebruik van een library met de naam `Beautiful Soup`."
   ]
  },
  {
   "cell_type": "code",
   "execution_count": 153,
   "metadata": {},
   "outputs": [],
   "source": [
    "from bs4 import BeautifulSoup\n",
    "soup = BeautifulSoup(body, 'html.parser')"
   ]
  },
  {
   "cell_type": "code",
   "execution_count": 154,
   "metadata": {},
   "outputs": [
    {
     "name": "stdout",
     "output_type": "stream",
     "text": [
      "FREE Motorola Cell Phone with $50 Cash Back!\n",
      "\n",
      "\n",
      "\n",
      "\n",
      "\n",
      "\n",
      "\n",
      "\n",
      "\n",
      "\n",
      "\n",
      "\n",
      "\n",
      "\n",
      "\n",
      "\n",
      "\n",
      "\n",
      "\n",
      "\n",
      "\n",
      "\n",
      "\n",
      "\n",
      "\n",
      "\n",
      "\n",
      "\n",
      "\n",
      "\n",
      "\n",
      "\n",
      "\n",
      "\n",
      "*Free phone\n",
      "      offer subject to VoiceStream Wireless credit approval. Must activate a new\n",
      "      line of service to receive a free phone. A one-time activation fee of $25\n",
      "      applies to all new activations. Coverage not available in all areas. Offer\n",
      "      fulfilled by SimplyWireless.com, a VoiceStream authorized dealer. See site\n",
      "      for additional offer details.\n",
      "      **$50 mail-in rebate is available for new VoiceStream service plans\n",
      "      $29.99 and greater. Rebate ends\n",
      "8/31/02.\n",
      "\n",
      "\n",
      "\n",
      "You are receiving this mailing because you are a\n",
      "member of SendGreatOffers.com and subscribed as:JM@NETNOTEINC.COM\n",
      "To unsubscribe \n",
      "Click Here\n",
      "(http://admanmail.com/subscription.asp?em=JM@NETNOTEINC.COM&l=SGO)\n",
      "or reply to this email with REMOVE in the subject line - you must\n",
      "also include the body of this message to be unsubscribed. Any correspondence about\n",
      "the products/services should be directed to\n",
      "the company in the ad.\n",
      "%EM%JM@NETNOTEINC.COM%/EM%\n",
      "  \n"
     ]
    }
   ],
   "source": [
    "body = soup.get_text()\n",
    "print(body)"
   ]
  },
  {
   "attachments": {},
   "cell_type": "markdown",
   "metadata": {},
   "source": [
    "Spam bevat vaker html dan andere e-mails, dus we willen wel weten of een e-mail html bevat. We tellen we het aantal html-tags met behulp van `Beautiful Soup`."
   ]
  },
  {
   "cell_type": "code",
   "execution_count": 155,
   "metadata": {},
   "outputs": [],
   "source": [
    "nhtml = len(soup.find_all())"
   ]
  },
  {
   "attachments": {},
   "cell_type": "markdown",
   "metadata": {},
   "source": [
    "Om dezelfde reden zijn het aantal links naar websites ook interessant (een link heeft html code `a`). Tel ook deze met `Beautiful Soup` en sla het resultaat op in een variable `nlinks`:"
   ]
  },
  {
   "cell_type": "code",
   "execution_count": 156,
   "metadata": {},
   "outputs": [],
   "source": [
    "nlinks = len(soup.find_all('a'))"
   ]
  },
  {
   "attachments": {},
   "cell_type": "markdown",
   "metadata": {},
   "source": [
    "Voeg nu voor elke keer dat een htmltag voorkomt het woord `\" htmltag \"` aan de tekst van de e-mail toe en voeg voor elke keer dat een link voorkomt het woord `\" htmllink \"` toe. Op deze manier coderen we deze informatie in de tekst zelf."
   ]
  },
  {
   "cell_type": "code",
   "execution_count": 157,
   "metadata": {},
   "outputs": [],
   "source": [
    "body = body + nhtml*\" htmltag \" + nlinks*\" linktag \""
   ]
  },
  {
   "attachments": {},
   "cell_type": "markdown",
   "metadata": {},
   "source": [
    "Zet nu alle tekst om naar kleine letters (lowercase)."
   ]
  },
  {
   "cell_type": "code",
   "execution_count": 158,
   "metadata": {},
   "outputs": [
    {
     "name": "stdout",
     "output_type": "stream",
     "text": [
      "free motorola cell phone with $50 cash back!\n",
      "\n",
      "\n",
      "\n",
      "\n",
      "\n",
      "\n",
      "\n",
      "\n",
      "\n",
      "\n",
      "\n",
      "\n",
      "\n",
      "\n",
      "\n",
      "\n",
      "\n",
      "\n",
      "\n",
      "\n",
      "\n",
      "\n",
      "\n",
      "\n",
      "\n",
      "\n",
      "\n",
      "\n",
      "\n",
      "\n",
      "\n",
      "\n",
      "\n",
      "\n",
      "*free phone\n",
      "      offer subject to voicestream wireless credit approval. must activate a new\n",
      "      line of service to receive a free phone. a one-time activation fee of $25\n",
      "      applies to all new activations. coverage not available in all areas. offer\n",
      "      fulfilled by simplywireless.com, a voicestream authorized dealer. see site\n",
      "      for additional offer details.\n",
      "      **$50 mail-in rebate is available for new voicestream service plans\n",
      "      $29.99 and greater. rebate ends\n",
      "8/31/02.\n",
      "\n",
      "\n",
      "\n",
      "you are receiving this mailing because you are a\n",
      "member of sendgreatoffers.com and subscribed as:jm@netnoteinc.com\n",
      "to unsubscribe \n",
      "click here\n",
      "(http://admanmail.com/subscription.asp?em=jm@netnoteinc.com&l=sgo)\n",
      "or reply to this email with remove in the subject line - you must\n",
      "also include the body of this message to be unsubscribed. any correspondence about\n",
      "the products/services should be directed to\n",
      "the company in the ad.\n",
      "%em%jm@netnoteinc.com%/em%\n",
      "   htmltag  htmltag  htmltag  htmltag  htmltag  htmltag  htmltag  htmltag  htmltag  htmltag  htmltag  htmltag  htmltag  htmltag  htmltag  htmltag  htmltag  htmltag  htmltag  htmltag  htmltag  htmltag  htmltag  htmltag  htmltag  htmltag  htmltag  htmltag  htmltag  htmltag  htmltag  htmltag  htmltag  htmltag  htmltag  htmltag  htmltag  htmltag  htmltag  htmltag  htmltag  htmltag  htmltag  htmltag  htmltag  htmltag  htmltag  htmltag  htmltag  htmltag  htmltag  htmltag  htmltag  htmltag  htmltag  htmltag  htmltag  htmltag  htmltag  htmltag  htmltag  htmltag  htmltag  htmltag  htmltag  htmltag  htmltag  htmltag  htmltag  htmltag  htmltag  htmltag  htmltag  htmltag  htmltag  htmltag  htmltag  htmltag  htmltag  linktag  linktag  linktag  linktag  linktag  linktag  linktag  linktag  linktag  linktag  linktag  linktag  linktag  linktag  linktag  linktag \n"
     ]
    }
   ],
   "source": [
    "body = body.lower()\n",
    "print(body)"
   ]
  },
  {
   "attachments": {},
   "cell_type": "markdown",
   "metadata": {},
   "source": [
    "De tekst bevat nu nog onnodige lege regels. Deze kunnen we verwijderen met een zogenaamde reguliere expressie. Zoek uit wat de volgende code doet."
   ]
  },
  {
   "cell_type": "code",
   "execution_count": 159,
   "metadata": {},
   "outputs": [
    {
     "name": "stdout",
     "output_type": "stream",
     "text": [
      "free motorola cell phone with $50 cash back!\n",
      "*free phone\n",
      "      offer subject to voicestream wireless credit approval. must activate a new\n",
      "      line of service to receive a free phone. a one-time activation fee of $25\n",
      "      applies to all new activations. coverage not available in all areas. offer\n",
      "      fulfilled by simplywireless.com, a voicestream authorized dealer. see site\n",
      "      for additional offer details.\n",
      "      **$50 mail-in rebate is available for new voicestream service plans\n",
      "      $29.99 and greater. rebate ends\n",
      "8/31/02.\n",
      "you are receiving this mailing because you are a\n",
      "member of sendgreatoffers.com and subscribed as:jm@netnoteinc.com\n",
      "to unsubscribe\n",
      "click here\n",
      "(http://admanmail.com/subscription.asp?em=jm@netnoteinc.com&l=sgo)\n",
      "or reply to this email with remove in the subject line - you must\n",
      "also include the body of this message to be unsubscribed. any correspondence about\n",
      "the products/services should be directed to\n",
      "the company in the ad.\n",
      "%em%jm@netnoteinc.com%/em%\n",
      "   htmltag  htmltag  htmltag  htmltag  htmltag  htmltag  htmltag  htmltag  htmltag  htmltag  htmltag  htmltag  htmltag  htmltag  htmltag  htmltag  htmltag  htmltag  htmltag  htmltag  htmltag  htmltag  htmltag  htmltag  htmltag  htmltag  htmltag  htmltag  htmltag  htmltag  htmltag  htmltag  htmltag  htmltag  htmltag  htmltag  htmltag  htmltag  htmltag  htmltag  htmltag  htmltag  htmltag  htmltag  htmltag  htmltag  htmltag  htmltag  htmltag  htmltag  htmltag  htmltag  htmltag  htmltag  htmltag  htmltag  htmltag  htmltag  htmltag  htmltag  htmltag  htmltag  htmltag  htmltag  htmltag  htmltag  htmltag  htmltag  htmltag  htmltag  htmltag  htmltag  htmltag  htmltag  htmltag  htmltag  htmltag  htmltag  htmltag  linktag  linktag  linktag  linktag  linktag  linktag  linktag  linktag  linktag  linktag  linktag  linktag  linktag  linktag  linktag  linktag \n"
     ]
    }
   ],
   "source": [
    "import re\n",
    "\n",
    "body = re.sub(r'(\\s*\\n)+', '\\n', body)\n",
    "\n",
    "print(body)"
   ]
  },
  {
   "attachments": {},
   "cell_type": "markdown",
   "metadata": {},
   "source": [
    "Maak nu zelf onderstaande regular expression af, zodat deze alle opeenvolgende spaties en tabs vervangt door een enkele spatie."
   ]
  },
  {
   "cell_type": "code",
   "execution_count": 160,
   "metadata": {},
   "outputs": [
    {
     "name": "stdout",
     "output_type": "stream",
     "text": [
      "free motorola cell phone with $50 cash back!\n",
      "*free phone\n",
      "      offer subject to voicestream wireless credit approval. must activate a new\n",
      "      line of service to receive a free phone. a one-time activation fee of $25\n",
      "      applies to all new activations. coverage not available in all areas. offer\n",
      "      fulfilled by simplywireless.com, a voicestream authorized dealer. see site\n",
      "      for additional offer details.\n",
      "      **$50 mail-in rebate is available for new voicestream service plans\n",
      "      $29.99 and greater. rebate ends\n",
      "8/31/02.\n",
      "you are receiving this mailing because you are a\n",
      "member of sendgreatoffers.com and subscribed as:jm@netnoteinc.com\n",
      "to unsubscribe\n",
      "click here\n",
      "(http://admanmail.com/subscription.asp?em=jm@netnoteinc.com&l=sgo)\n",
      "or reply to this email with remove in the subject line - you must\n",
      "also include the body of this message to be unsubscribed. any correspondence about\n",
      "the products/services should be directed to\n",
      "the company in the ad.\n",
      "%em%jm@netnoteinc.com%/em%\n",
      "   htmltag  htmltag  htmltag  htmltag  htmltag  htmltag  htmltag  htmltag  htmltag  htmltag  htmltag  htmltag  htmltag  htmltag  htmltag  htmltag  htmltag  htmltag  htmltag  htmltag  htmltag  htmltag  htmltag  htmltag  htmltag  htmltag  htmltag  htmltag  htmltag  htmltag  htmltag  htmltag  htmltag  htmltag  htmltag  htmltag  htmltag  htmltag  htmltag  htmltag  htmltag  htmltag  htmltag  htmltag  htmltag  htmltag  htmltag  htmltag  htmltag  htmltag  htmltag  htmltag  htmltag  htmltag  htmltag  htmltag  htmltag  htmltag  htmltag  htmltag  htmltag  htmltag  htmltag  htmltag  htmltag  htmltag  htmltag  htmltag  htmltag  htmltag  htmltag  htmltag  htmltag  htmltag  htmltag  htmltag  htmltag  htmltag  htmltag  linktag  linktag  linktag  linktag  linktag  linktag  linktag  linktag  linktag  linktag  linktag  linktag  linktag  linktag  linktag  linktag \n"
     ]
    }
   ],
   "source": [
    "body = re.sub(r'(\\s*\\t)+', ' ', body)\n",
    "\n",
    "print(body)"
   ]
  },
  {
   "attachments": {},
   "cell_type": "markdown",
   "metadata": {},
   "source": [
    "Nummers en getallen in tekst zijn lastig omdat er heel veel verschillende van zijn. Het is maar de vraag of bijvoorbeeld een datum iets zegt over spam. We gaan daarom alle getallen vervangen door het woord `\" NUMMMER \"`."
   ]
  },
  {
   "cell_type": "code",
   "execution_count": 161,
   "metadata": {},
   "outputs": [
    {
     "name": "stdout",
     "output_type": "stream",
     "text": [
      "free motorola cell phone with $ NUMMER  cash back!\n",
      "*free phone\n",
      "      offer subject to voicestream wireless credit approval. must activate a new\n",
      "      line of service to receive a free phone. a one-time activation fee of $ NUMMER \n",
      "      applies to all new activations. coverage not available in all areas. offer\n",
      "      fulfilled by simplywireless NUMMER com, a voicestream authorized dealer. see site\n",
      "      for additional offer details.\n",
      "      **$ NUMMER  mail-in rebate is available for new voicestream service plans\n",
      "      $ NUMMER  and greater. rebate ends\n",
      " NUMMER / NUMMER / NUMMER .\n",
      "you are receiving this mailing because you are a\n",
      "member of sendgreatoffers NUMMER com and subscribed as:jm@netnoteinc NUMMER com\n",
      "to unsubscribe\n",
      "click here\n",
      "(http://admanmail NUMMER com/subscription NUMMER asp?em=jm@netnoteinc NUMMER com&l=sgo)\n",
      "or reply to this email with remove in the subject line - you must\n",
      "also include the body of this message to be unsubscribed. any correspondence about\n",
      "the products/services should be directed to\n",
      "the company in the ad.\n",
      "%em%jm@netnoteinc NUMMER com%/em%\n",
      "   htmltag  htmltag  htmltag  htmltag  htmltag  htmltag  htmltag  htmltag  htmltag  htmltag  htmltag  htmltag  htmltag  htmltag  htmltag  htmltag  htmltag  htmltag  htmltag  htmltag  htmltag  htmltag  htmltag  htmltag  htmltag  htmltag  htmltag  htmltag  htmltag  htmltag  htmltag  htmltag  htmltag  htmltag  htmltag  htmltag  htmltag  htmltag  htmltag  htmltag  htmltag  htmltag  htmltag  htmltag  htmltag  htmltag  htmltag  htmltag  htmltag  htmltag  htmltag  htmltag  htmltag  htmltag  htmltag  htmltag  htmltag  htmltag  htmltag  htmltag  htmltag  htmltag  htmltag  htmltag  htmltag  htmltag  htmltag  htmltag  htmltag  htmltag  htmltag  htmltag  htmltag  htmltag  htmltag  htmltag  htmltag  htmltag  htmltag  linktag  linktag  linktag  linktag  linktag  linktag  linktag  linktag  linktag  linktag  linktag  linktag  linktag  linktag  linktag  linktag \n"
     ]
    }
   ],
   "source": [
    "body = re.sub(r\"\\b[\\d.]+\\b\", \" NUMMER \", body)\n",
    "\n",
    "print(body)"
   ]
  },
  {
   "attachments": {},
   "cell_type": "markdown",
   "metadata": {},
   "source": [
    "We kunnen met behulp van reguliere expressies ook leestekens verwijderen en e-mailadressen en namen van websites verwijderen. We voegen dit alles samen in een functie:"
   ]
  },
  {
   "cell_type": "code",
   "execution_count": 162,
   "metadata": {},
   "outputs": [
    {
     "name": "stdout",
     "output_type": "stream",
     "text": [
      "free motorola cell phone with NUMMER cash back newline free phone newline offer subject to voicestream wireless credit approval must activate a new newline line of service to receive a free phone a one time activation fee of NUMMER newline applies to all new activations coverage not available in all areas offer newline fulfilled by simplywireless NUMMER com a voicestream authorized dealer see site newline for additional offer details newline NUMMER mail in rebate is available for new voicestream service plans newline NUMMER and greater rebate ends newline NUMMER NUMMER NUMMER newline you are receiving this mailing because you are a newline member of sendgreatoffers NUMMER com and subscribed as jm netnoteinc NUMMER com newline to unsubscribe newline click here newline httpaddr NUMMER com subscription NUMMER asp em jm netnoteinc NUMMER com l sgo newline or reply to this email with remove in the subject line you must newline also include the body of this message to be unsubscribed any correspondence about newline the products services should be directed to newline the company in the ad newline em jm netnoteinc NUMMER com em newline htmltag htmltag htmltag htmltag htmltag htmltag htmltag htmltag htmltag htmltag htmltag htmltag htmltag htmltag htmltag htmltag htmltag htmltag htmltag htmltag htmltag htmltag htmltag htmltag htmltag htmltag htmltag htmltag htmltag htmltag htmltag htmltag htmltag htmltag htmltag htmltag htmltag htmltag htmltag htmltag htmltag htmltag htmltag htmltag htmltag htmltag htmltag htmltag htmltag htmltag htmltag htmltag htmltag htmltag htmltag htmltag htmltag htmltag htmltag htmltag htmltag htmltag htmltag htmltag htmltag htmltag htmltag htmltag htmltag htmltag htmltag htmltag htmltag htmltag htmltag htmltag htmltag htmltag htmltag linktag linktag linktag linktag linktag linktag linktag linktag linktag linktag linktag linktag linktag linktag linktag linktag\n"
     ]
    }
   ],
   "source": [
    "def clean_email(text):\n",
    "    #vervang urls door 'httpadr'\n",
    "    text = re.sub(r\"(http|https)://[^\\s]*\", 'httpaddr', text)\n",
    "    \n",
    "    #vervang emailadressen door 'emailadr'\n",
    "    text = re.sub(r\"\\b[^\\s]+@[^\\s]+[.][^\\s]+\\b\", 'emailadr', text)\n",
    "    \n",
    "    # verwijder alle leestekens\n",
    "    text = re.sub(r\"([^\\w\\s]+)|([_-]+)\", \" \", text)\n",
    "    \n",
    "    # vervang alle enters door ' newline '\n",
    "    text = re.sub(r\"\\n\", \" newline \", text)\n",
    "    \n",
    "    # vervang opeenvolgende spaties en tabs door een enkele spatie\n",
    "    text = re.sub(r\"\\s+\", \" \", text)\n",
    "    \n",
    "    #vervang getallen door 'NUMMER'\n",
    "    text = re.sub(r\"\\b[\\d.]+\\b\", \" NUMMER \", text)\n",
    "    \n",
    "    # verwijder onnodige spaties aan begin en eind\n",
    "    text = text.strip(\" \")\n",
    "    \n",
    "    return text\n",
    "\n",
    "body = clean_email(body)\n",
    "print (body)"
   ]
  },
  {
   "attachments": {},
   "cell_type": "markdown",
   "metadata": {},
   "source": [
    "Het resultaat van al onze inspanningen is een lijst met alleen maar woorden gescheiden door spaties.\n",
    "\n",
    "Maak nu een functie `email_to_text()` die als argument een email krijgt en als resultaat de lijst met woorden in de email teruggeeft.\n",
    "\n",
    "Deze functie combineert dus bovenstaande stappen: haal met `Beautiful Soup` de tekst uit de e-mail, tel het aantal html tags en links en voegt hier speciale woorden voor toe. Zet vervolgens alle tekst om naar kleine letter en verwijder getallen en leestekens met behulp van `clean_email()`.\n",
    "\n",
    "Zet deze stappen tussen `try:` en `except:`. Dit deel van de code is al gegeven en zorgt ervoor dat emails die fouten veroorzaken (omdat ze onleesbare tekens of bijvoorbeeld attachments bevatten) worden overgeslagen."
   ]
  },
  {
   "cell_type": "code",
   "execution_count": 163,
   "metadata": {},
   "outputs": [],
   "source": [
    "def email_to_text(email):\n",
    "    try: \n",
    "        # haal de tekst uit de e-mail met behulp van Beautiful Soup\n",
    "        soup = BeautifulSoup(email.get_content().strip(), 'html.parser')\n",
    "        body = soup.get_text()\n",
    "\n",
    "        # tel het aantal html tags en links en voeg hier speciale woorden voor toe\n",
    "        nhtml = len(soup.find_all())\n",
    "        nlinks = len(soup.find_all('a'))\n",
    "        body = body + nhtml*\" htmltag \" + nlinks*\" linktag \"\n",
    "\n",
    "        # zet de tekst om naar kleine letters verwijder getallen en leestekens met behulp van clean_email\n",
    "        body = body.lower()\n",
    "        body = clean_email(body)\n",
    "        \n",
    "        return body\n",
    "    except: # handel onleesbare e-mails (i.v.m. attachment) af\n",
    "        return ''"
   ]
  },
  {
   "attachments": {},
   "cell_type": "markdown",
   "metadata": {},
   "source": [
    "Met behulp van deze functie kunnen we nu onze data in het juist formaat brengen om een classifier te trainen.\n",
    "Maak een vector X met alle emails en een target vector y met de bijbehorende labels. Kies bijvoorbeeld 0 als label voor ham en 1 voor spam."
   ]
  },
  {
   "cell_type": "code",
   "execution_count": 164,
   "metadata": {},
   "outputs": [
    {
     "name": "stdout",
     "output_type": "stream",
     "text": [
      "3000\n"
     ]
    },
    {
     "name": "stderr",
     "output_type": "stream",
     "text": [
      "C:\\Users\\Aghoo\\AppData\\Local\\Temp\\ipykernel_10212\\180421093.py:1: VisibleDeprecationWarning: Creating an ndarray from ragged nested sequences (which is a list-or-tuple of lists-or-tuples-or ndarrays with different lengths or shapes) is deprecated. If you meant to do this, you must specify 'dtype=object' when creating the ndarray.\n",
      "  X = np.array(ham_emails + spam_emails)\n"
     ]
    }
   ],
   "source": [
    "X = np.array(ham_emails + spam_emails)\n",
    "y = np.array([0] * len(ham_emails) + [1] * len(spam_emails))\n",
    "\n",
    "print(len(X))"
   ]
  },
  {
   "attachments": {},
   "cell_type": "markdown",
   "metadata": {},
   "source": [
    "Splits de data in een training set en een test set."
   ]
  },
  {
   "cell_type": "code",
   "execution_count": 165,
   "metadata": {},
   "outputs": [],
   "source": [
    "X_train, X_test, y_train, y_test = train_test_split(X, y, test_size=0.2, random_state=42)"
   ]
  },
  {
   "attachments": {},
   "cell_type": "markdown",
   "metadata": {},
   "source": [
    "We willen nu ieder email omzetten naar een vector met getallen. Deze vector bevat een getal voor elk woord dat voorkomt in de dataset. Voor elke email tellen we vervolgens hoe vaak ieder woord voorkomt in die e-mail, dit zijn de features van de e-mails. (Omdat lang niet ieder woord voorkomt in iedere e-mail, zullen heel veel van deze getallen 0 zijn).\n",
    "\n",
    "We hoeven dit gelukkig niet zelf te doen. sklearn geeft ons de `CountVectorizer` die precies dit doet. Zoek uit hoe deze werkt en pas deze toe op `X_train` om een dataset `X_vec_train` van feature vectoren te krijgen.\n",
    "\n",
    "`CountVectorizer` heeft als input een lijst met strings van woorden gescheiden door spaties nodig.\n",
    "Merk ook op dat `CountVectorizer` een optioneel argument preprocessor heeft, dat verwijst naar een functie die de ingevoerde data omzet naar zo'n string. Dit is precies de functie `email_to_text()` die wij zojuist gemaakt hebben."
   ]
  },
  {
   "cell_type": "code",
   "execution_count": 166,
   "metadata": {},
   "outputs": [
    {
     "name": "stderr",
     "output_type": "stream",
     "text": [
      "C:\\Users\\Aghoo\\AppData\\Local\\Temp\\ipykernel_10212\\576199697.py:4: MarkupResemblesLocatorWarning: The input looks more like a filename than markup. You may want to open this file and pass the filehandle into Beautiful Soup.\n",
      "  soup = BeautifulSoup(email.get_content().strip(), 'html.parser')\n"
     ]
    },
    {
     "name": "stderr",
     "output_type": "stream",
     "text": [
      "C:\\Users\\Aghoo\\AppData\\Local\\Temp\\ipykernel_10212\\576199697.py:4: MarkupResemblesLocatorWarning: The input looks more like a URL than markup. You may want to use an HTTP client like requests to get the document behind the URL, and feed that document to Beautiful Soup.\n",
      "  soup = BeautifulSoup(email.get_content().strip(), 'html.parser')\n"
     ]
    }
   ],
   "source": [
    "from sklearn.feature_extraction.text import CountVectorizer\n",
    "vectorizer = CountVectorizer(preprocessor=email_to_text, min_df = 15)\n",
    "\n",
    "X_vec_train = vectorizer.fit_transform(X_train)"
   ]
  },
  {
   "attachments": {},
   "cell_type": "markdown",
   "metadata": {},
   "source": [
    "Onze features bestaan nu dus uit getallen. `CountVectorizer` heeft een functie `get_feature_names()` die op volgorde de woorden teruggeeft die bij deze features horen. Gebruik deze functie om een Pandas `DataFrame` te maken waarmee we de dataset kunnen bekijken. "
   ]
  },
  {
   "cell_type": "code",
   "execution_count": 169,
   "metadata": {},
   "outputs": [
    {
     "name": "stdout",
     "output_type": "stream",
     "text": [
      "2457\n"
     ]
    }
   ],
   "source": [
    "print(len(vectorizer.get_feature_names_out()))"
   ]
  },
  {
   "cell_type": "code",
   "execution_count": 171,
   "metadata": {},
   "outputs": [
    {
     "data": {
      "text/html": [
       "<div>\n",
       "<style scoped>\n",
       "    .dataframe tbody tr th:only-of-type {\n",
       "        vertical-align: middle;\n",
       "    }\n",
       "\n",
       "    .dataframe tbody tr th {\n",
       "        vertical-align: top;\n",
       "    }\n",
       "\n",
       "    .dataframe thead th {\n",
       "        text-align: right;\n",
       "    }\n",
       "</style>\n",
       "<table border=\"1\" class=\"dataframe\">\n",
       "  <thead>\n",
       "    <tr style=\"text-align: right;\">\n",
       "      <th></th>\n",
       "      <th>06t18</th>\n",
       "      <th>10acpi</th>\n",
       "      <th>1st</th>\n",
       "      <th>3rd</th>\n",
       "      <th>NUMMER</th>\n",
       "      <th>ability</th>\n",
       "      <th>able</th>\n",
       "      <th>about</th>\n",
       "      <th>above</th>\n",
       "      <th>absolutely</th>\n",
       "      <th>...</th>\n",
       "      <th>yesterday</th>\n",
       "      <th>yet</th>\n",
       "      <th>york</th>\n",
       "      <th>you</th>\n",
       "      <th>young</th>\n",
       "      <th>your</th>\n",
       "      <th>yours</th>\n",
       "      <th>yourself</th>\n",
       "      <th>zero</th>\n",
       "      <th>zip</th>\n",
       "    </tr>\n",
       "  </thead>\n",
       "  <tbody>\n",
       "    <tr>\n",
       "      <th>0</th>\n",
       "      <td>0</td>\n",
       "      <td>0</td>\n",
       "      <td>0</td>\n",
       "      <td>0</td>\n",
       "      <td>0</td>\n",
       "      <td>0</td>\n",
       "      <td>0</td>\n",
       "      <td>0</td>\n",
       "      <td>0</td>\n",
       "      <td>0</td>\n",
       "      <td>...</td>\n",
       "      <td>0</td>\n",
       "      <td>0</td>\n",
       "      <td>0</td>\n",
       "      <td>0</td>\n",
       "      <td>0</td>\n",
       "      <td>0</td>\n",
       "      <td>0</td>\n",
       "      <td>0</td>\n",
       "      <td>0</td>\n",
       "      <td>0</td>\n",
       "    </tr>\n",
       "    <tr>\n",
       "      <th>1</th>\n",
       "      <td>0</td>\n",
       "      <td>0</td>\n",
       "      <td>0</td>\n",
       "      <td>0</td>\n",
       "      <td>0</td>\n",
       "      <td>0</td>\n",
       "      <td>0</td>\n",
       "      <td>0</td>\n",
       "      <td>0</td>\n",
       "      <td>0</td>\n",
       "      <td>...</td>\n",
       "      <td>0</td>\n",
       "      <td>0</td>\n",
       "      <td>0</td>\n",
       "      <td>0</td>\n",
       "      <td>0</td>\n",
       "      <td>0</td>\n",
       "      <td>0</td>\n",
       "      <td>0</td>\n",
       "      <td>0</td>\n",
       "      <td>0</td>\n",
       "    </tr>\n",
       "    <tr>\n",
       "      <th>2</th>\n",
       "      <td>0</td>\n",
       "      <td>0</td>\n",
       "      <td>0</td>\n",
       "      <td>0</td>\n",
       "      <td>1</td>\n",
       "      <td>0</td>\n",
       "      <td>0</td>\n",
       "      <td>0</td>\n",
       "      <td>0</td>\n",
       "      <td>0</td>\n",
       "      <td>...</td>\n",
       "      <td>0</td>\n",
       "      <td>0</td>\n",
       "      <td>0</td>\n",
       "      <td>0</td>\n",
       "      <td>0</td>\n",
       "      <td>1</td>\n",
       "      <td>0</td>\n",
       "      <td>0</td>\n",
       "      <td>0</td>\n",
       "      <td>0</td>\n",
       "    </tr>\n",
       "    <tr>\n",
       "      <th>3</th>\n",
       "      <td>0</td>\n",
       "      <td>0</td>\n",
       "      <td>0</td>\n",
       "      <td>0</td>\n",
       "      <td>0</td>\n",
       "      <td>0</td>\n",
       "      <td>0</td>\n",
       "      <td>0</td>\n",
       "      <td>0</td>\n",
       "      <td>0</td>\n",
       "      <td>...</td>\n",
       "      <td>0</td>\n",
       "      <td>0</td>\n",
       "      <td>0</td>\n",
       "      <td>1</td>\n",
       "      <td>0</td>\n",
       "      <td>0</td>\n",
       "      <td>0</td>\n",
       "      <td>0</td>\n",
       "      <td>0</td>\n",
       "      <td>0</td>\n",
       "    </tr>\n",
       "    <tr>\n",
       "      <th>4</th>\n",
       "      <td>0</td>\n",
       "      <td>0</td>\n",
       "      <td>0</td>\n",
       "      <td>0</td>\n",
       "      <td>4</td>\n",
       "      <td>0</td>\n",
       "      <td>0</td>\n",
       "      <td>0</td>\n",
       "      <td>0</td>\n",
       "      <td>0</td>\n",
       "      <td>...</td>\n",
       "      <td>0</td>\n",
       "      <td>0</td>\n",
       "      <td>0</td>\n",
       "      <td>3</td>\n",
       "      <td>0</td>\n",
       "      <td>0</td>\n",
       "      <td>0</td>\n",
       "      <td>0</td>\n",
       "      <td>0</td>\n",
       "      <td>0</td>\n",
       "    </tr>\n",
       "    <tr>\n",
       "      <th>...</th>\n",
       "      <td>...</td>\n",
       "      <td>...</td>\n",
       "      <td>...</td>\n",
       "      <td>...</td>\n",
       "      <td>...</td>\n",
       "      <td>...</td>\n",
       "      <td>...</td>\n",
       "      <td>...</td>\n",
       "      <td>...</td>\n",
       "      <td>...</td>\n",
       "      <td>...</td>\n",
       "      <td>...</td>\n",
       "      <td>...</td>\n",
       "      <td>...</td>\n",
       "      <td>...</td>\n",
       "      <td>...</td>\n",
       "      <td>...</td>\n",
       "      <td>...</td>\n",
       "      <td>...</td>\n",
       "      <td>...</td>\n",
       "      <td>...</td>\n",
       "    </tr>\n",
       "    <tr>\n",
       "      <th>2395</th>\n",
       "      <td>0</td>\n",
       "      <td>0</td>\n",
       "      <td>0</td>\n",
       "      <td>0</td>\n",
       "      <td>0</td>\n",
       "      <td>0</td>\n",
       "      <td>0</td>\n",
       "      <td>0</td>\n",
       "      <td>0</td>\n",
       "      <td>0</td>\n",
       "      <td>...</td>\n",
       "      <td>0</td>\n",
       "      <td>0</td>\n",
       "      <td>0</td>\n",
       "      <td>1</td>\n",
       "      <td>0</td>\n",
       "      <td>0</td>\n",
       "      <td>0</td>\n",
       "      <td>0</td>\n",
       "      <td>0</td>\n",
       "      <td>0</td>\n",
       "    </tr>\n",
       "    <tr>\n",
       "      <th>2396</th>\n",
       "      <td>0</td>\n",
       "      <td>0</td>\n",
       "      <td>0</td>\n",
       "      <td>0</td>\n",
       "      <td>0</td>\n",
       "      <td>0</td>\n",
       "      <td>0</td>\n",
       "      <td>0</td>\n",
       "      <td>0</td>\n",
       "      <td>0</td>\n",
       "      <td>...</td>\n",
       "      <td>0</td>\n",
       "      <td>0</td>\n",
       "      <td>0</td>\n",
       "      <td>0</td>\n",
       "      <td>0</td>\n",
       "      <td>0</td>\n",
       "      <td>0</td>\n",
       "      <td>0</td>\n",
       "      <td>0</td>\n",
       "      <td>0</td>\n",
       "    </tr>\n",
       "    <tr>\n",
       "      <th>2397</th>\n",
       "      <td>0</td>\n",
       "      <td>0</td>\n",
       "      <td>0</td>\n",
       "      <td>0</td>\n",
       "      <td>0</td>\n",
       "      <td>0</td>\n",
       "      <td>0</td>\n",
       "      <td>0</td>\n",
       "      <td>0</td>\n",
       "      <td>0</td>\n",
       "      <td>...</td>\n",
       "      <td>0</td>\n",
       "      <td>0</td>\n",
       "      <td>0</td>\n",
       "      <td>0</td>\n",
       "      <td>0</td>\n",
       "      <td>0</td>\n",
       "      <td>0</td>\n",
       "      <td>0</td>\n",
       "      <td>0</td>\n",
       "      <td>0</td>\n",
       "    </tr>\n",
       "    <tr>\n",
       "      <th>2398</th>\n",
       "      <td>0</td>\n",
       "      <td>0</td>\n",
       "      <td>0</td>\n",
       "      <td>0</td>\n",
       "      <td>6</td>\n",
       "      <td>0</td>\n",
       "      <td>0</td>\n",
       "      <td>0</td>\n",
       "      <td>0</td>\n",
       "      <td>0</td>\n",
       "      <td>...</td>\n",
       "      <td>0</td>\n",
       "      <td>0</td>\n",
       "      <td>0</td>\n",
       "      <td>0</td>\n",
       "      <td>0</td>\n",
       "      <td>0</td>\n",
       "      <td>0</td>\n",
       "      <td>0</td>\n",
       "      <td>0</td>\n",
       "      <td>0</td>\n",
       "    </tr>\n",
       "    <tr>\n",
       "      <th>2399</th>\n",
       "      <td>0</td>\n",
       "      <td>0</td>\n",
       "      <td>0</td>\n",
       "      <td>0</td>\n",
       "      <td>28</td>\n",
       "      <td>0</td>\n",
       "      <td>0</td>\n",
       "      <td>1</td>\n",
       "      <td>0</td>\n",
       "      <td>0</td>\n",
       "      <td>...</td>\n",
       "      <td>0</td>\n",
       "      <td>0</td>\n",
       "      <td>0</td>\n",
       "      <td>2</td>\n",
       "      <td>0</td>\n",
       "      <td>0</td>\n",
       "      <td>0</td>\n",
       "      <td>0</td>\n",
       "      <td>0</td>\n",
       "      <td>0</td>\n",
       "    </tr>\n",
       "  </tbody>\n",
       "</table>\n",
       "<p>2400 rows × 2457 columns</p>\n",
       "</div>"
      ],
      "text/plain": [
       "      06t18  10acpi  1st  3rd  NUMMER  ability  able  about  above  \\\n",
       "0         0       0    0    0       0        0     0      0      0   \n",
       "1         0       0    0    0       0        0     0      0      0   \n",
       "2         0       0    0    0       1        0     0      0      0   \n",
       "3         0       0    0    0       0        0     0      0      0   \n",
       "4         0       0    0    0       4        0     0      0      0   \n",
       "...     ...     ...  ...  ...     ...      ...   ...    ...    ...   \n",
       "2395      0       0    0    0       0        0     0      0      0   \n",
       "2396      0       0    0    0       0        0     0      0      0   \n",
       "2397      0       0    0    0       0        0     0      0      0   \n",
       "2398      0       0    0    0       6        0     0      0      0   \n",
       "2399      0       0    0    0      28        0     0      1      0   \n",
       "\n",
       "      absolutely  ...  yesterday  yet  york  you  young  your  yours  \\\n",
       "0              0  ...          0    0     0    0      0     0      0   \n",
       "1              0  ...          0    0     0    0      0     0      0   \n",
       "2              0  ...          0    0     0    0      0     1      0   \n",
       "3              0  ...          0    0     0    1      0     0      0   \n",
       "4              0  ...          0    0     0    3      0     0      0   \n",
       "...          ...  ...        ...  ...   ...  ...    ...   ...    ...   \n",
       "2395           0  ...          0    0     0    1      0     0      0   \n",
       "2396           0  ...          0    0     0    0      0     0      0   \n",
       "2397           0  ...          0    0     0    0      0     0      0   \n",
       "2398           0  ...          0    0     0    0      0     0      0   \n",
       "2399           0  ...          0    0     0    2      0     0      0   \n",
       "\n",
       "      yourself  zero  zip  \n",
       "0            0     0    0  \n",
       "1            0     0    0  \n",
       "2            0     0    0  \n",
       "3            0     0    0  \n",
       "4            0     0    0  \n",
       "...        ...   ...  ...  \n",
       "2395         0     0    0  \n",
       "2396         0     0    0  \n",
       "2397         0     0    0  \n",
       "2398         0     0    0  \n",
       "2399         0     0    0  \n",
       "\n",
       "[2400 rows x 2457 columns]"
      ]
     },
     "execution_count": 171,
     "metadata": {},
     "output_type": "execute_result"
    }
   ],
   "source": [
    "pd.DataFrame(X_vec_train.toarray(), columns=vectorizer.get_feature_names_out())"
   ]
  },
  {
   "attachments": {},
   "cell_type": "markdown",
   "metadata": {},
   "source": [
    "Zet nu ook de test data in `X_test` om naar features. Let op: hiervoor gebruik je de codering die de vectorizer op basis van `X_train` 'geleerd' heeft. Zoek, als je dat niet al gedaan hebt, in de documentatie het verschil tussen de functies `fit()`, `transform()` en `fit_transform()` op."
   ]
  },
  {
   "cell_type": "code",
   "execution_count": 172,
   "metadata": {},
   "outputs": [
    {
     "name": "stderr",
     "output_type": "stream",
     "text": [
      "C:\\Users\\Aghoo\\AppData\\Local\\Temp\\ipykernel_10212\\576199697.py:4: MarkupResemblesLocatorWarning: The input looks more like a filename than markup. You may want to open this file and pass the filehandle into Beautiful Soup.\n",
      "  soup = BeautifulSoup(email.get_content().strip(), 'html.parser')\n"
     ]
    }
   ],
   "source": [
    "X_vec_test = vectorizer.transform(X_test)"
   ]
  },
  {
   "attachments": {},
   "cell_type": "markdown",
   "metadata": {},
   "source": [
    "\n",
    "fit(): De fit()-functie wordt gebruikt om een model of een vectorizer te trainen op basis van de gegevens. Het wordt alleen toegepast op de trainingsdata en niet op de testdata\n",
    "\n",
    "transform(): De transform()-functie wordt gebruikt om gegevens om te zetten in een gestructureerde representatie op basis van wat het model of de vectorizer heeft geleerd tijdens de training. Belangrijk is dat transform() wordt toegepast op zowel de trainingsdata als de testdata.\n",
    "\n",
    "fit_transform(): De fit_transform()-functie is een combinatie van fit() en transform(). Het wordt vaak gebruikt bij vectorizers om zowel de interne representatie van de trainingsdata te bouwen als de trainingsdata om te zetten in numerieke kenmerken"
   ]
  },
  {
   "attachments": {},
   "cell_type": "markdown",
   "metadata": {},
   "source": [
    "Train en test nu een classifier of deep learning model op basis van deze data."
   ]
  },
  {
   "cell_type": "code",
   "execution_count": 173,
   "metadata": {},
   "outputs": [
    {
     "name": "stdout",
     "output_type": "stream",
     "text": [
      "Accuracy:  0.925\n"
     ]
    }
   ],
   "source": [
    "# gebruik KNN om de classificatie uit te voeren\n",
    "from sklearn.neighbors import KNeighborsClassifier\n",
    "knn = KNeighborsClassifier(n_neighbors=5)\n",
    "knn.fit(X_vec_train, y_train)\n",
    "\n",
    "y_pred = knn.predict(X_vec_test)\n",
    "\n",
    "print(\"Accuracy: \", accuracy_score(y_test, y_pred))"
   ]
  },
  {
   "cell_type": "code",
   "execution_count": 179,
   "metadata": {},
   "outputs": [
    {
     "name": "stdout",
     "output_type": "stream",
     "text": [
      "[[491  14]\n",
      " [  7  88]]\n"
     ]
    },
    {
     "data": {
      "image/png": "[encoded data removed]",
      "text/plain": [
       "<Figure size 640x480 with 2 Axes>"
      ]
     },
     "metadata": {},
     "output_type": "display_data"
    }
   ],
   "source": [
    "# evalueer de classificatie met behulp van een confusion matrix en een classification report\n",
    "from sklearn.metrics import confusion_matrix, classification_report\n",
    "print(confusion_matrix(y_test, y_pred))\n",
    "\n",
    "# heatmap van de confusion matrix\n",
    "import seaborn as sns\n",
    "import matplotlib.pyplot as plt\n",
    "sns.heatmap(confusion_matrix(y_test, y_pred), annot=True, fmt='d')\n",
    "plt.ylabel('True label')\n",
    "plt.xlabel('Predicted label')\n",
    "plt.show()"
   ]
  },
  {
   "attachments": {},
   "cell_type": "markdown",
   "metadata": {},
   "source": [
    "Het model levert best wel een goede resulaten waar alleen 14 valse positieven zijn en 7 als valse negatieven. "
   ]
  },
  {
   "cell_type": "code",
   "execution_count": 174,
   "metadata": {},
   "outputs": [
    {
     "name": "stdout",
     "output_type": "stream",
     "text": [
      "Accuracy:  0.965\n"
     ]
    }
   ],
   "source": [
    "# gebruik een Random Forest om de classificatie uit te voeren\n",
    "from sklearn.ensemble import RandomForestClassifier\n",
    "rf = RandomForestClassifier(n_estimators=100, random_state=42)\n",
    "rf.fit(X_vec_train, y_train)\n",
    "\n",
    "y_pred = rf.predict(X_vec_test)\n",
    "\n",
    "print(\"Accuracy: \", accuracy_score(y_test, y_pred))"
   ]
  },
  {
   "cell_type": "code",
   "execution_count": 180,
   "metadata": {},
   "outputs": [
    {
     "data": {
      "image/png": "[encoded data removed]",
      "text/plain": [
       "<Figure size 640x480 with 1 Axes>"
      ]
     },
     "metadata": {},
     "output_type": "display_data"
    }
   ],
   "source": [
    "# evalueer de model met behulp van een roc-curve\n",
    "from sklearn.metrics import roc_curve, roc_auc_score\n",
    "y_pred_proba = rf.predict_proba(X_vec_test)[:,1]\n",
    "fpr, tpr, thresholds = roc_curve(y_test, y_pred_proba)\n",
    "\n",
    "plt.plot([0, 1], [0, 1], 'k--')\n",
    "plt.plot(fpr, tpr, label='Random Forest')\n",
    "plt.xlabel('False Positive Rate')\n",
    "plt.ylabel('True Positive Rate')\n",
    "plt.title('ROC Curve')\n",
    "plt.show()"
   ]
  },
  {
   "attachments": {},
   "cell_type": "markdown",
   "metadata": {},
   "source": [
    "<b>\n",
    "\n",
    "Deze resultaten zijn zeer positief. Uit deze plot kunnen we afleiden dat er weinig valse positieven en veel ware positieven zijn. Dit wijst erop dat het model goed is in het voorspellen van spam. Bovendien is de AUC zeer groot. En hoe groter de AUC, hoe beter de predections zijn."
   ]
  }
 ],
 "metadata": {
  "kernelspec": {
   "display_name": "Python 3 (ipykernel)",
   "language": "python",
   "name": "python3"
  },
  "language_info": {
   "codemirror_mode": {
    "name": "ipython",
    "version": 3
   },
   "file_extension": ".py",
   "mimetype": "text/x-python",
   "name": "python",
   "nbconvert_exporter": "python",
   "pygments_lexer": "ipython3",
   "version": "3.10.9"
  }
 },
 "nbformat": 4,
 "nbformat_minor": 2
}
