{
 "cells": [
  {
   "cell_type": "code",
   "execution_count": null,
   "metadata": {},
   "outputs": [],
   "source": [
    "import numpy as np\n",
    "import matplotlib.pyplot as plt\n",
    "import pandas as pd\n",
    "import seaborn as sns\n",
    "import os\n",
    "import researchpy, numpy, pandas\n",
    "import scipy.stats\n",
    "from scipy import stats\n",
    "import math\n",
    "import statistics\n",
    "import researchpy as rp\n",
    "import scipy.stats as stats"
   ]
  },
  {
   "cell_type": "code",
   "execution_count": null,
   "metadata": {},
   "outputs": [],
   "source": [
    "#De data binnenhalen\n",
    "train=pd.read_csv('/Users/dickheinhuis/Desktop/Airlinesatisfaction.csv')"
   ]
  },
  {
   "cell_type": "code",
   "execution_count": null,
   "metadata": {
    "scrolled": true
   },
   "outputs": [],
   "source": [
    "#Random steekproef van 100\n",
    "random_subset = train.sample(n=100)\n",
    "print(random_subset.head(5))"
   ]
  },
  {
   "cell_type": "code",
   "execution_count": null,
   "metadata": {},
   "outputs": [],
   "source": [
    "# Drop unnecessary columns\n",
    "random_subset = random_subset.drop('Unnamed: 0', axis=1)\n",
    "random_subset = random_subset.drop('id', axis=1)"
   ]
  },
  {
   "cell_type": "code",
   "execution_count": null,
   "metadata": {},
   "outputs": [],
   "source": [
    "#Check de data even; zorg dat je geen missing values hebt (zit alleen bij Arrival Delay)\n",
    "random_subset.info()"
   ]
  },
  {
   "cell_type": "code",
   "execution_count": null,
   "metadata": {},
   "outputs": [],
   "source": [
    "#Vervang codering voor cijfers\n",
    "random_subset['satisfaction'].replace({'neutral or dissatisfied': 0, 'satisfied': 1},inplace = True)"
   ]
  },
  {
   "cell_type": "code",
   "execution_count": null,
   "metadata": {},
   "outputs": [],
   "source": [
    "#Eens kijken wat we in de dataset hebben; de variabelen met gemiddelde en de standaardafwijking\n",
    "random_subset.describe().transpose()"
   ]
  },
  {
   "cell_type": "code",
   "execution_count": null,
   "metadata": {},
   "outputs": [],
   "source": [
    "#We gaan het een en ander doen met satisfaction; verstandig om te coderen naar cijfers\n",
    "train['satisfaction'].replace({'neutral or dissatisfied': 0, 'satisfied': 1},inplace = True)"
   ]
  },
  {
   "cell_type": "code",
   "execution_count": null,
   "metadata": {},
   "outputs": [],
   "source": [
    "random_subset['Age'].value_counts()"
   ]
  },
  {
   "cell_type": "code",
   "execution_count": null,
   "metadata": {},
   "outputs": [],
   "source": [
    "random_subset['satisfaction'].value_counts()"
   ]
  },
  {
   "cell_type": "code",
   "execution_count": null,
   "metadata": {},
   "outputs": [],
   "source": [
    "#Mooiere output\n",
    "rp.summary_cont(random_subset['Age'])"
   ]
  },
  {
   "cell_type": "code",
   "execution_count": null,
   "metadata": {},
   "outputs": [],
   "source": [
    "#Bekend is dat een aantal libraries niet werken met spaties in de variabele namen. Deze eerst maar omzetten\n",
    "# Replace spaces in the column names with underscore\n",
    "random_subset.columns = [c.replace(' ', '_') for c in random_subset.columns]"
   ]
  },
  {
   "cell_type": "code",
   "execution_count": null,
   "metadata": {},
   "outputs": [],
   "source": [
    "rp.summary_cont(random_subset['Flight_Distance'])"
   ]
  },
  {
   "cell_type": "code",
   "execution_count": null,
   "metadata": {},
   "outputs": [],
   "source": [
    "#Visuele checks van de verdelingen\n",
    "x = random_subset['Flight_Distance']\n",
    "sns.distplot(x, bins = 15)\n",
    "plt.title('Flight Distance Distribution')\n"
   ]
  },
  {
   "cell_type": "code",
   "execution_count": null,
   "metadata": {},
   "outputs": [],
   "source": [
    "x = random_subset['Age']\n",
    "sns.distplot(x, bins = 15)\n",
    "plt.title('/Age')\n"
   ]
  },
  {
   "cell_type": "code",
   "execution_count": null,
   "metadata": {},
   "outputs": [],
   "source": [
    "x = random_subset['Departure_Delay_in_Minutes']\n",
    "sns.distplot(x, bins = 15)\n",
    "plt.title('Departure Delay in Minutes')"
   ]
  },
  {
   "cell_type": "code",
   "execution_count": null,
   "metadata": {},
   "outputs": [],
   "source": [
    "x = random_subset['Arrival_Delay_in_Minutes']\n",
    "sns.distplot(x, bins = 15)\n",
    "plt.title('Arrival Delay in Minutes')"
   ]
  },
  {
   "cell_type": "code",
   "execution_count": null,
   "metadata": {},
   "outputs": [],
   "source": [
    "#We willen een toets doen om te bepalen of de data normaal verdeeld is\n",
    "#Dan moeten we de betrefffende variabele eerst sorteren van laag naar hoog\n",
    "#Dat blijkt evenwel slechts bij sommige librairies met KS nodig te zijn\n",
    "#Hierbij toch de code, voor het geval je een andere library gebruikt\n",
    "#waarbij het wel nodig is\n",
    "random_subset.sort_values(\n",
    "    ['Age'],\n",
    "    ascending=True,\n",
    "    inplace=True)"
   ]
  },
  {
   "cell_type": "code",
   "execution_count": null,
   "metadata": {},
   "outputs": [],
   "source": [
    "#Vervolgens moeten we de data normaliseren (dus omzetten in z -scores)\n",
    "#Ik maak daar een nieuwe dataset van (df_z)\n",
    "from sklearn.preprocessing import StandardScaler\n",
    "#En ik zet eerst alle scores om in cijfers\n",
    "random_subset['Gender'].replace({'Male': 0, 'Female': 1}, inplace = True)\n",
    "random_subset['Customer_Type'].replace({'disloyal Customer': 0, 'Loyal Customer': 1}, inplace = True)\n",
    "random_subset['Type_of_Travel'].replace({'Personal Travel': 0, 'Business travel': 1}, inplace = True)\n",
    "random_subset['Class'].replace({'Eco': 1, 'Eco Plus': 2, 'Business':3}, inplace = True)\n"
   ]
  },
  {
   "cell_type": "code",
   "execution_count": null,
   "metadata": {},
   "outputs": [],
   "source": [
    "#Eindelijk is het zover\n",
    "print(random_subset[0:5])\n",
    "scaler = StandardScaler()\n",
    "df_z = pd.DataFrame(scaler.fit_transform(random_subset), columns = random_subset.columns)\n",
    "print(df_z[0:5])"
   ]
  },
  {
   "cell_type": "code",
   "execution_count": null,
   "metadata": {},
   "outputs": [],
   "source": [
    "#Dan een test. Er zijn vele mogelijkheden; we kiezen voor de Kolmogorov Smirnov Test\n",
    "#Deze voer ik dus uit op de gestandaardiseerde dataset\n",
    "stats.kstest(df_z['Age'], stats.norm.cdf)\n"
   ]
  },
  {
   "cell_type": "code",
   "execution_count": null,
   "metadata": {},
   "outputs": [],
   "source": [
    "stats.kstest(df_z['Flight_Distance'], stats.norm.cdf)\n"
   ]
  },
  {
   "cell_type": "code",
   "execution_count": null,
   "metadata": {},
   "outputs": [],
   "source": [
    "stats.kstest(df_z['Departure_Delay_in_Minutes'], stats.norm.cdf)\n"
   ]
  },
  {
   "cell_type": "code",
   "execution_count": null,
   "metadata": {},
   "outputs": [],
   "source": [
    "stats.kstest(df_z['Arrival_Delay_in_Minutes'], stats.norm.cdf)"
   ]
  },
  {
   "cell_type": "code",
   "execution_count": null,
   "metadata": {},
   "outputs": [],
   "source": [
    "random_subset.describe().transpose()"
   ]
  },
  {
   "cell_type": "code",
   "execution_count": null,
   "metadata": {},
   "outputs": [],
   "source": [
    "import seaborn as sns\n",
    "sns.boxplot(x=random_subset['Age'])"
   ]
  },
  {
   "cell_type": "code",
   "execution_count": null,
   "metadata": {},
   "outputs": [],
   "source": [
    "sns.boxplot(x=random_subset['Flight_Distance'])"
   ]
  },
  {
   "cell_type": "code",
   "execution_count": null,
   "metadata": {},
   "outputs": [],
   "source": [
    "sns.boxplot(x=random_subset['Departure_Delay_in_Minutes'])"
   ]
  },
  {
   "cell_type": "code",
   "execution_count": null,
   "metadata": {},
   "outputs": [],
   "source": [
    "sns.boxplot(x=random_subset['Arrival_Delay_in_Minutes'])"
   ]
  },
  {
   "cell_type": "code",
   "execution_count": null,
   "metadata": {},
   "outputs": [],
   "source": [
    "# Maak eerst een opsplitsing in de data tussen tevreden en ontevreden passagiers\n",
    "tevreden = random_subset.loc[random_subset['satisfaction'] == 1]\n",
    "ontevreden = random_subset.loc[random_subset['satisfaction'] == 0]"
   ]
  },
  {
   "cell_type": "code",
   "execution_count": null,
   "metadata": {},
   "outputs": [],
   "source": [
    "#Bekend is dat een aantal libraries niet werken met spaties in de variabele namen. Deze eerst maar omzetten\n",
    "# Replace spaces in the column names with underscore\n",
    "random_subset.columns = [c.replace(' ', '_') for c in random_subset.columns]"
   ]
  },
  {
   "cell_type": "code",
   "execution_count": null,
   "metadata": {},
   "outputs": [],
   "source": [
    "random_subset.describe().transpose()"
   ]
  },
  {
   "cell_type": "code",
   "execution_count": null,
   "metadata": {},
   "outputs": [],
   "source": [
    "random_subset.describe().transpose()"
   ]
  },
  {
   "cell_type": "code",
   "execution_count": null,
   "metadata": {
    "scrolled": true
   },
   "outputs": [],
   "source": [
    "#Correlaties berekenen. Een gemakkelijke waarbij we alle relevante variabelen in een tabel krijgen\n",
    "random_subset.corr()"
   ]
  },
  {
   "cell_type": "code",
   "execution_count": null,
   "metadata": {},
   "outputs": [],
   "source": [
    "#Correlatie berekenen\n",
    "stats.pearsonr(random_subset['Age'],random_subset['Departure_Delay_in_Minutes'])"
   ]
  },
  {
   "cell_type": "code",
   "execution_count": null,
   "metadata": {},
   "outputs": [],
   "source": [
    "#Tijd voor meer overzicht\n",
    "import pingouin as pg"
   ]
  },
  {
   "cell_type": "code",
   "execution_count": null,
   "metadata": {},
   "outputs": [],
   "source": [
    "#Correlatie tussen alle variabelen in een tabel\n",
    "random_subset.iloc[:, 0:25].rcorr()"
   ]
  },
  {
   "cell_type": "code",
   "execution_count": null,
   "metadata": {},
   "outputs": [],
   "source": [
    "#Beperking van aantal variabelen met nu ook de p waardes in de tabel\n",
    "#Bepaal het significantie niveau (p waardes)\n",
    "#Onder de diagonaal de r waardes; boven de diagonaal de p waardes\n",
    "random_subset.iloc[:, [0,1,2,5,20,21]].rcorr(stars=False, decimals=3)"
   ]
  },
  {
   "cell_type": "code",
   "execution_count": null,
   "metadata": {
    "scrolled": true
   },
   "outputs": [],
   "source": [
    "#Niet omdat het moet, maar omdat het kan \n",
    "random_subset.iloc[:, [0,1,6,7,8,9,10,11,12,13,14,15,16,17,18,19]].rcorr(stars=False, decimals=3)"
   ]
  },
  {
   "cell_type": "code",
   "execution_count": null,
   "metadata": {
    "scrolled": true
   },
   "outputs": [],
   "source": [
    "#Een alternatieve methode\n",
    "#De r en p waardes\n",
    "random_subset[['Age', 'Flight_Distance', 'Departure_Delay_in_Minutes', 'Arrival_Delay_in_Minutes']].rcorr(stars=False)"
   ]
  },
  {
   "cell_type": "code",
   "execution_count": null,
   "metadata": {},
   "outputs": [],
   "source": [
    "#Tijd voor lineaire regressie\n",
    "#Met gebruik van Pingouin\n",
    "#Voorspellen van Flight Distance op basis van leeftijd\n",
    "lm = pg.linear_regression(random_subset['Age'], random_subset['Flight_Distance'])\n",
    "lm.round(2)"
   ]
  },
  {
   "cell_type": "code",
   "execution_count": null,
   "metadata": {},
   "outputs": [],
   "source": [
    "#Voorspellen van Arrival Delay op basis van Flight Distance\n",
    "lm = pg.linear_regression(random_subset['Flight_Distance'], random_subset['Arrival_Delay_in_Minutes'])\n",
    "lm.round(2)"
   ]
  },
  {
   "cell_type": "code",
   "execution_count": null,
   "metadata": {},
   "outputs": [],
   "source": [
    "#We stoppen ook Departure Delay in het model\n",
    "lm = pg.linear_regression(random_subset[['Flight_Distance', 'Departure_Delay_in_Minutes']], random_subset['Arrival_Delay_in_Minutes'])\n",
    "lm.round(2)"
   ]
  },
  {
   "cell_type": "code",
   "execution_count": null,
   "metadata": {},
   "outputs": [],
   "source": [
    "#We voegen ook nog leeftijd toe (ouderen vertragen het boarden .....)\n",
    "lm = pg.linear_regression(random_subset[['Flight_Distance', 'Departure_Delay_in_Minutes', 'Age']], random_subset['Arrival_Delay_in_Minutes'])\n",
    "lm.round(2)"
   ]
  },
  {
   "cell_type": "code",
   "execution_count": null,
   "metadata": {},
   "outputs": [],
   "source": [
    "#Interessante uitkomst; we zien de r2 toenemen als we Departure Delay toevoegen. \n",
    "#We zien ook dat Flight Distance niet significant is\n",
    "#Age toevoegen verandert niets aan ons model en is niet significant\n",
    "#Dus we doen de regressie vergelijking nog een keer zonder FD en Age\n",
    "lm = pg.linear_regression(random_subset['Departure_Delay_in_Minutes'], random_subset['Arrival_Delay_in_Minutes'])\n",
    "lm.round(2)"
   ]
  },
  {
   "cell_type": "code",
   "execution_count": null,
   "metadata": {},
   "outputs": [],
   "source": [
    "#Een briljante constatering: je voorspelt vertraging bij aankomst heel goed met vertraging bij vertrek :-)\n",
    "#Voor de liefhebbers: we kunnen het ook met numpy uitvoeren\n",
    "X = random_subset[['Flight_Distance', 'Departure_Delay_in_Minutes', 'Age']].to_numpy()\n",
    "y = random_subset['Arrival_Delay_in_Minutes'].to_numpy()\n",
    "pg.linear_regression(X, y).round(2)"
   ]
  },
  {
   "cell_type": "code",
   "execution_count": null,
   "metadata": {},
   "outputs": [],
   "source": [
    "#We weten nu wel de coefficienten, maar niet het belang van de variabelen\n",
    "#Is wel te herleiden uit t scores en p waarden, maar toch\n",
    "lm = pg.linear_regression(X, y, remove_na=True, relimp=True)\n",
    "lm[['names', 'relimp', 'relimp_perc']]"
   ]
  }
 ],
 "metadata": {
  "kernelspec": {
   "display_name": "Python 3",
   "language": "python",
   "name": "python3"
  },
  "language_info": {
   "codemirror_mode": {
    "name": "ipython",
    "version": 3
   },
   "file_extension": ".py",
   "mimetype": "text/x-python",
   "name": "python",
   "nbconvert_exporter": "python",
   "pygments_lexer": "ipython3",
   "version": "3.8.3"
  }
 },
 "nbformat": 4,
 "nbformat_minor": 4
}
