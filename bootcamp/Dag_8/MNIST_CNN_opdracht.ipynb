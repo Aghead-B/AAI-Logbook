{
 "cells": [
  {
   "cell_type": "markdown",
   "metadata": {
    "id": "zUWF7J_ASRv3"
   },
   "source": [
    "# Herkenning van handgeschreven cijfers met Deep Learning 2\n",
    "\n",
    "## Convolutionele Neurale Netwerken\n",
    "\n",
    "Stijn Oomes\n",
    "\n",
    "donderdag 15 september 2022"
   ]
  },
  {
   "cell_type": "markdown",
   "metadata": {
    "id": "cRKUniK0SfRg"
   },
   "source": [
    "## Importeer libraries"
   ]
  },
  {
   "cell_type": "code",
   "execution_count": 1,
   "metadata": {
    "id": "S-aMKgrbSl6I",
    "tags": []
   },
   "outputs": [],
   "source": [
    "import numpy as np\n",
    "\n",
    "import matplotlib.pyplot as plt\n",
    "import seaborn as sns; sns.set()\n",
    "\n",
    "from tensorflow.keras.utils import to_categorical\n",
    "from keras import models, layers\n",
    "\n",
    "from keras.datasets import mnist\n",
    "from keras.layers import Dense, Dropout, Flatten, Conv2D, MaxPooling2D, AveragePooling2D"
   ]
  },
  {
   "cell_type": "markdown",
   "metadata": {
    "id": "oe0on0c2StYe"
   },
   "source": [
    "## Verover de data"
   ]
  },
  {
   "cell_type": "code",
   "execution_count": 2,
   "metadata": {
    "colab": {
     "base_uri": "https://localhost:8080/"
    },
    "id": "gh2EoCY-Ssg7",
    "outputId": "f52aab3d-b6e9-4490-d5db-612f49a18e1b",
    "tags": []
   },
   "outputs": [],
   "source": [
    "(train_images, train_labels), (test_images, test_labels) = mnist.load_data()"
   ]
  },
  {
   "cell_type": "code",
   "execution_count": 3,
   "metadata": {
    "colab": {
     "base_uri": "https://localhost:8080/"
    },
    "id": "7FlNpFtxSrMQ",
    "outputId": "a51d1184-a362-42ee-86cd-50dd4bd018b0",
    "tags": []
   },
   "outputs": [
    {
     "data": {
      "text/plain": [
       "(60000, 28, 28)"
      ]
     },
     "execution_count": 3,
     "metadata": {},
     "output_type": "execute_result"
    }
   ],
   "source": [
    "train_images.shape"
   ]
  },
  {
   "cell_type": "code",
   "execution_count": 4,
   "metadata": {
    "colab": {
     "base_uri": "https://localhost:8080/"
    },
    "id": "FBfuBT6ATHyg",
    "outputId": "f6a74f22-c809-4078-a46c-a55b86f0a39b",
    "tags": []
   },
   "outputs": [
    {
     "data": {
      "text/plain": [
       "(60000,)"
      ]
     },
     "execution_count": 4,
     "metadata": {},
     "output_type": "execute_result"
    }
   ],
   "source": [
    "train_labels.shape"
   ]
  },
  {
   "cell_type": "markdown",
   "metadata": {
    "id": "jG7BXYcRYY5a"
   },
   "source": [
    "## Prepareer de images\n",
    "\n",
    "* normalizeren --> pixel waardes tussen 0.0 en 1.0\n",
    "* reshapen --> extra dimensie!"
   ]
  },
  {
   "cell_type": "code",
   "execution_count": 5,
   "metadata": {
    "id": "bafaBFuypcEY",
    "tags": []
   },
   "outputs": [],
   "source": [
    "train_images_normalized = train_images.astype('float32')/255"
   ]
  },
  {
   "cell_type": "code",
   "execution_count": 6,
   "metadata": {
    "id": "qPLYzqeeYeV0",
    "tags": []
   },
   "outputs": [],
   "source": [
    "train_images_enhanced = train_images_normalized.reshape(60000,28,28,1)"
   ]
  },
  {
   "cell_type": "code",
   "execution_count": 7,
   "metadata": {
    "colab": {
     "base_uri": "https://localhost:8080/"
    },
    "id": "h3vOWjp2YwS_",
    "outputId": "aaba4242-1580-4a28-f967-c16c39301fff",
    "tags": []
   },
   "outputs": [
    {
     "data": {
      "text/plain": [
       "(60000, 28, 28, 1)"
      ]
     },
     "execution_count": 7,
     "metadata": {},
     "output_type": "execute_result"
    }
   ],
   "source": [
    "train_images_enhanced.shape"
   ]
  },
  {
   "cell_type": "markdown",
   "metadata": {},
   "source": [
    "Doe hetzelfde met de test images:"
   ]
  },
  {
   "cell_type": "code",
   "execution_count": 8,
   "metadata": {
    "tags": []
   },
   "outputs": [
    {
     "data": {
      "text/plain": [
       "(10000, 28, 28)"
      ]
     },
     "execution_count": 8,
     "metadata": {},
     "output_type": "execute_result"
    }
   ],
   "source": [
    "test_images.shape"
   ]
  },
  {
   "cell_type": "code",
   "execution_count": 9,
   "metadata": {
    "id": "Rt4W7_fIYyuA",
    "tags": []
   },
   "outputs": [],
   "source": [
    "test_images_normalized = test_images.astype('float32')/255"
   ]
  },
  {
   "cell_type": "code",
   "execution_count": 10,
   "metadata": {
    "tags": []
   },
   "outputs": [],
   "source": [
    "test_images_enhanced  = test_images_normalized.reshape(10000, 28, 28, 1)"
   ]
  },
  {
   "cell_type": "code",
   "execution_count": 11,
   "metadata": {
    "colab": {
     "base_uri": "https://localhost:8080/"
    },
    "id": "4C3y58dJY5tp",
    "outputId": "a9253636-a47e-4c43-89e1-49e5d7164dc2",
    "tags": []
   },
   "outputs": [
    {
     "data": {
      "text/plain": [
       "(10000, 28, 28, 1)"
      ]
     },
     "execution_count": 11,
     "metadata": {},
     "output_type": "execute_result"
    }
   ],
   "source": [
    "test_images_enhanced.shape"
   ]
  },
  {
   "cell_type": "markdown",
   "metadata": {
    "id": "jb2JCpgYUWlu"
   },
   "source": [
    "## Prepareer de labels"
   ]
  },
  {
   "cell_type": "markdown",
   "metadata": {
    "id": "xB3XhWK_D_ZW"
   },
   "source": [
    "**OPDRACHT**: introduceer \"one-hot encoding\" voor de labels (zowel train set als de test set)"
   ]
  },
  {
   "cell_type": "code",
   "execution_count": 12,
   "metadata": {
    "colab": {
     "base_uri": "https://localhost:8080/"
    },
    "id": "GKRqlPkMU6tj",
    "outputId": "4bf786ce-a08f-4074-9299-1618b6ee2e71",
    "tags": []
   },
   "outputs": [
    {
     "data": {
      "text/plain": [
       "array([5, 0, 4, ..., 5, 6, 8], dtype=uint8)"
      ]
     },
     "execution_count": 12,
     "metadata": {},
     "output_type": "execute_result"
    }
   ],
   "source": [
    "train_labels"
   ]
  },
  {
   "cell_type": "code",
   "execution_count": 13,
   "metadata": {
    "id": "8_Jmmw6MUOy-",
    "tags": []
   },
   "outputs": [],
   "source": [
    "train_labels_encoded = to_categorical(train_labels)\n",
    "test_labels_encoded = to_categorical(test_labels)"
   ]
  },
  {
   "cell_type": "code",
   "execution_count": 14,
   "metadata": {
    "colab": {
     "base_uri": "https://localhost:8080/"
    },
    "id": "7V_g1CMBUb_7",
    "outputId": "b2fe5641-d4c5-4e33-bbb9-a2851e787f60",
    "tags": []
   },
   "outputs": [
    {
     "data": {
      "text/plain": [
       "array([[0., 0., 0., ..., 0., 0., 0.],\n",
       "       [1., 0., 0., ..., 0., 0., 0.],\n",
       "       [0., 0., 0., ..., 0., 0., 0.],\n",
       "       ...,\n",
       "       [0., 0., 0., ..., 0., 0., 0.],\n",
       "       [0., 0., 0., ..., 0., 0., 0.],\n",
       "       [0., 0., 0., ..., 0., 1., 0.]], dtype=float32)"
      ]
     },
     "execution_count": 14,
     "metadata": {},
     "output_type": "execute_result"
    }
   ],
   "source": [
    "train_labels_encoded"
   ]
  },
  {
   "cell_type": "code",
   "execution_count": 15,
   "metadata": {
    "tags": []
   },
   "outputs": [
    {
     "data": {
      "text/plain": [
       "array([[0., 0., 0., ..., 1., 0., 0.],\n",
       "       [0., 0., 1., ..., 0., 0., 0.],\n",
       "       [0., 1., 0., ..., 0., 0., 0.],\n",
       "       ...,\n",
       "       [0., 0., 0., ..., 0., 0., 0.],\n",
       "       [0., 0., 0., ..., 0., 0., 0.],\n",
       "       [0., 0., 0., ..., 0., 0., 0.]], dtype=float32)"
      ]
     },
     "execution_count": 15,
     "metadata": {},
     "output_type": "execute_result"
    }
   ],
   "source": [
    "test_labels_encoded"
   ]
  },
  {
   "cell_type": "markdown",
   "metadata": {
    "id": "m_2zOWq_ZAY-"
   },
   "source": [
    "## Definieeer netwerk / model"
   ]
  },
  {
   "cell_type": "markdown",
   "metadata": {
    "id": "_cS-T3cWEfZh"
   },
   "source": [
    "**OPDRACHT**: voeg nog 1 convolutie laag en nog 1 volledig verbonden (\"Dense\") laag toe"
   ]
  },
  {
   "cell_type": "code",
   "execution_count": 32,
   "metadata": {
    "id": "yfUEGL0bY77-",
    "tags": []
   },
   "outputs": [],
   "source": [
    "cnn = models.Sequential()\n",
    "\n",
    "cnn.add(Conv2D(filters=32, kernel_size=(3, 3), activation='relu', input_shape=(28,28,1)))\n",
    "cnn.add(AveragePooling2D())\n",
    "\n",
    "cnn.add(Conv2D(filters=64, kernel_size=(4, 4), activation='sigmoid'))\n",
    "cnn.add(AveragePooling2D())\n",
    "\n",
    "cnn.add(Flatten())\n",
    "cnn.add(Dropout(0.5))\n",
    "\n",
    "cnn.add(Dense(units=64, activation='relu'))\n",
    "cnn.add(Dense(units=10, activation = 'softmax'))"
   ]
  },
  {
   "cell_type": "code",
   "execution_count": 33,
   "metadata": {
    "colab": {
     "base_uri": "https://localhost:8080/"
    },
    "id": "XsJ8orLUZRR5",
    "outputId": "b22c4db0-254b-4e86-83e3-76131e183e1c",
    "tags": []
   },
   "outputs": [
    {
     "name": "stdout",
     "output_type": "stream",
     "text": [
      "Model: \"sequential_3\"\n",
      "_________________________________________________________________\n",
      " Layer (type)                Output Shape              Param #   \n",
      "=================================================================\n",
      " conv2d_6 (Conv2D)           (None, 26, 26, 32)        320       \n",
      "                                                                 \n",
      " average_pooling2d_3 (Averag  (None, 13, 13, 32)       0         \n",
      " ePooling2D)                                                     \n",
      "                                                                 \n",
      " conv2d_7 (Conv2D)           (None, 10, 10, 64)        32832     \n",
      "                                                                 \n",
      " average_pooling2d_4 (Averag  (None, 5, 5, 64)         0         \n",
      " ePooling2D)                                                     \n",
      "                                                                 \n",
      " flatten_3 (Flatten)         (None, 1600)              0         \n",
      "                                                                 \n",
      " dropout_3 (Dropout)         (None, 1600)              0         \n",
      "                                                                 \n",
      " dense_7 (Dense)             (None, 64)                102464    \n",
      "                                                                 \n",
      " dense_8 (Dense)             (None, 10)                650       \n",
      "                                                                 \n",
      "=================================================================\n",
      "Total params: 136,266\n",
      "Trainable params: 136,266\n",
      "Non-trainable params: 0\n",
      "_________________________________________________________________\n"
     ]
    }
   ],
   "source": [
    "cnn.summary()"
   ]
  },
  {
   "cell_type": "code",
   "execution_count": 34,
   "metadata": {
    "id": "FXYJJMAJa_Tf",
    "tags": []
   },
   "outputs": [],
   "source": [
    "cnn.compile(optimizer='adam',\n",
    "            metrics = ['accuracy'],\n",
    "            loss = 'categorical_crossentropy')"
   ]
  },
  {
   "cell_type": "markdown",
   "metadata": {
    "id": "qQqs0gLGGony"
   },
   "source": [
    "**OPDRACHT**: meet hoe lang het trainen duurt, niet met %%timeit maar met time.time().\n"
   ]
  },
  {
   "cell_type": "code",
   "execution_count": 35,
   "metadata": {
    "colab": {
     "base_uri": "https://localhost:8080/"
    },
    "id": "fsCH8KqEbR2P",
    "outputId": "e3d03e5d-e3e7-4225-ba65-605eb2d295aa",
    "tags": []
   },
   "outputs": [
    {
     "name": "stdout",
     "output_type": "stream",
     "text": [
      "Epoch 1/3\n",
      "469/469 [==============================] - 15s 31ms/step - loss: 0.9110 - accuracy: 0.6830 - val_loss: 0.2006 - val_accuracy: 0.9434\n",
      "Epoch 2/3\n",
      "469/469 [==============================] - 15s 32ms/step - loss: 0.2024 - accuracy: 0.9393 - val_loss: 0.1207 - val_accuracy: 0.9629\n",
      "Epoch 3/3\n",
      "469/469 [==============================] - 15s 32ms/step - loss: 0.1451 - accuracy: 0.9564 - val_loss: 0.0853 - val_accuracy: 0.9750\n",
      "De totale uitvoeringstijd van trainen was: 45.19728493690491 seconden.\n"
     ]
    }
   ],
   "source": [
    "import time\n",
    "\n",
    "# noteer de huidige tijd voor het uitvoeren van de code\n",
    "start_time = time.time()\n",
    "\n",
    "history_cnn = cnn.fit(train_images_enhanced,\n",
    "        train_labels_encoded,\n",
    "        epochs = 3, # varieer het aantal epochs\n",
    "        batch_size = 128,\n",
    "        validation_data = (test_images_enhanced, test_labels_encoded))\n",
    "\n",
    "# noteer de huidige tijd na het uitvoeren van de code\n",
    "end_time = time.time()\n",
    "\n",
    "# bereken de totale uitvoeringstijd\n",
    "total_time = end_time - start_time\n",
    "\n",
    "# print de totale uitvoeringstijd\n",
    "print(\"De totale uitvoeringstijd van trainen was:\", total_time, \"seconden.\")"
   ]
  },
  {
   "cell_type": "markdown",
   "metadata": {
    "id": "hYi1uJV-Gxgn"
   },
   "source": [
    "**OPDRACHT**: meet hoe lang het testen duurt, niet met %%timeit maar met time.time()."
   ]
  },
  {
   "cell_type": "code",
   "execution_count": 36,
   "metadata": {
    "colab": {
     "base_uri": "https://localhost:8080/"
    },
    "id": "S52r-pcHbtJJ",
    "outputId": "4a887c82-761c-44fa-86a6-d0fd48ce0300",
    "tags": []
   },
   "outputs": [
    {
     "name": "stdout",
     "output_type": "stream",
     "text": [
      "313/313 [==============================] - 1s 3ms/step - loss: 0.0853 - accuracy: 0.9750\n",
      "De nauwkeurigheid was: 0.9750000238418579\n",
      "De totale uitvoeringstijd van testen was: 1.103806734085083 seconden.\n"
     ]
    }
   ],
   "source": [
    "import time\n",
    "\n",
    "start_time = time.time()\n",
    "\n",
    "loss, acc = cnn.evaluate(test_images_enhanced,\n",
    "                         test_labels_encoded)\n",
    "end_time = time.time()\n",
    "\n",
    "total_time = end_time - start_time\n",
    "\n",
    "print(f\"De nauwkeurigheid was: {acc}\")\n",
    "print(\"De totale uitvoeringstijd van testen was:\", total_time, \"seconden.\")"
   ]
  },
  {
   "cell_type": "markdown",
   "metadata": {},
   "source": [
    "**OPDRACHT**: voeg labels aan deze grafiek toe"
   ]
  },
  {
   "cell_type": "code",
   "execution_count": 39,
   "metadata": {
    "colab": {
     "base_uri": "https://localhost:8080/",
     "height": 269
    },
    "id": "fspLE94uj_0p",
    "outputId": "fe013ce6-10a1-4585-e1a8-eddf471cdca9",
    "tags": []
   },
   "outputs": [
    {
     "data": {
      "image/png": "[encoded data removed]",
      "text/plain": [
       "<Figure size 640x480 with 1 Axes>"
      ]
     },
     "metadata": {},
     "output_type": "display_data"
    }
   ],
   "source": [
    "plt.plot(history_cnn.history['accuracy'], label='Training accuracy')\n",
    "plt.plot(history_cnn.history['val_accuracy'],'r', label='Validation accuracy')\n",
    "plt.ylim(0.75,1.0)\n",
    "plt.title('Training and validation accuracy')\n",
    "plt.xlabel('Epochs')\n",
    "plt.ylabel('Accuracy')\n",
    "plt.legend()\n",
    "plt.show()"
   ]
  },
  {
   "cell_type": "markdown",
   "metadata": {
    "id": "PKVFGXpIFa-v"
   },
   "source": [
    "**OPDRACHT**: evalueer je resultaten:\n",
    "\n",
    "* hoe is de nauwkeurigheid? \n",
    "    - Ik zelf vind dat de nauwkeurigheid best wel goed is, namelijk 97.50%.\n",
    "* is het netwerk onder- of over-trained?\n",
    "    - Het netwerk is ondergetrained, dat kunnen we zien aan de grafiek dat het netwerk niet genoeg heeft geleerd van de trainingsgegevens.\n",
    "* laat een paar fouten zien\n",
    " * wat kun je zeggen over de aard van de fouten?\n",
    "* wat is sneller: het trainen of het testen?\n",
    "    - Aan de hand van de timer die terug te zien is in dit bestand, zien we dat het testen veel snelle is. Het duurde namelijk maar 1.1 sec.\n",
    "* wat kun je nog doen om de nauwkeurigheid te verhogen?\n",
    "    - Meerdere lagen toevoegen, het activiatiefuncties varieren, de epochs, batch_sizes enz....\n",
    "(noteer de veranderingen die je hebt aangebracht en wat daar de resultaten van zijn)\n",
    "    - Ik had eerst vergeten om een tweede averagepool toe te voegen, de resultaten waren echt te laag. \n",
    "    - Ik heb activiatiefuncties gevarieerd."
   ]
  },
  {
   "cell_type": "markdown",
   "metadata": {
    "id": "ycBT1S6wIK7y"
   },
   "source": [
    "## Evalueer cijferherkenning met kNN, NN, en CNN"
   ]
  },
  {
   "cell_type": "markdown",
   "metadata": {
    "id": "xm7oOIZxGFYw"
   },
   "source": [
    "**OPDRACHT**: evalueer je resultaten:\n",
    "\n",
    "vergelijk de resultaten van kNN, NN, en CNN\n",
    "\n",
    "* wat concludeer je hieruit?\n",
    "* welke type fouten maken de verschillende classifiers?\n",
    "\n",
    "\n"
   ]
  },
  {
   "cell_type": "markdown",
   "metadata": {
    "id": "xTdfwGeRGjCB"
   },
   "source": [
    "* Het resultaat van de Convolutional Neural Network (CNN) was hoger (0.975) dan het resultaat van de K-Nearest Neighbors (KNN) classifier (0.9691). Dit suggereert dat de CNN beter presteert dan de KNN classifier op de gegeven dataset.\n",
    "\n",
    "* KNN kan fouten maken als gevolg van de nabijheid van handgeschreven cijfers die op elkaar lijken, zoals een 4 en een 9, of een 1 en een 7. Dit kan leiden tot classificatiefouten als de KNN-classifier de verkeerde klasse kiest vanwege de nabijheid van datapunten.\n",
    "\n",
    "* CNN kan fouten maken als het model onvoldoende variatie in de trainingsgegevens heeft waardoor het moeilijk wordt om nieuwe, ongeziene voorbeelden correct te classificeren."
   ]
  },
  {
   "cell_type": "code",
   "execution_count": null,
   "metadata": {},
   "outputs": [],
   "source": []
  }
 ],
 "metadata": {
  "accelerator": "GPU",
  "colab": {
   "name": "2021_02_11 MNIST CNN uitwerking.ipynb",
   "provenance": []
  },
  "kernelspec": {
   "display_name": "Python 3 (ipykernel)",
   "language": "python",
   "name": "python3"
  },
  "language_info": {
   "codemirror_mode": {
    "name": "ipython",
    "version": 3
   },
   "file_extension": ".py",
   "mimetype": "text/x-python",
   "name": "python",
   "nbconvert_exporter": "python",
   "pygments_lexer": "ipython3",
   "version": "3.10.9"
  }
 },
 "nbformat": 4,
 "nbformat_minor": 4
}
