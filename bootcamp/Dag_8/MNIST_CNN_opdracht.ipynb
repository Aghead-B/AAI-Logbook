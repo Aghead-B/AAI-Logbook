{
 "cells": [
  {
   "cell_type": "markdown",
   "metadata": {
    "id": "zUWF7J_ASRv3"
   },
   "source": [
    "# Herkenning van handgeschreven cijfers met Deep Learning 2\n",
    "\n",
    "## Convolutionele Neurale Netwerken\n",
    "\n",
    "Stijn Oomes\n",
    "\n",
    "donderdag 15 september 2022"
   ]
  },
  {
   "cell_type": "markdown",
   "metadata": {
    "id": "cRKUniK0SfRg"
   },
   "source": [
    "## Importeer libraries"
   ]
  },
  {
   "cell_type": "code",
   "execution_count": 2,
   "metadata": {
    "id": "S-aMKgrbSl6I",
    "tags": []
   },
   "outputs": [],
   "source": [
    "import numpy as np\n",
    "\n",
    "import matplotlib.pyplot as plt\n",
    "import seaborn as sns; sns.set()\n",
    "\n",
    "from tensorflow.keras.utils import to_categorical\n",
    "from keras import models, layers\n",
    "\n",
    "from keras.datasets import mnist\n",
    "from keras.layers import Dense, Dropout, Flatten, Conv2D, MaxPooling2D, AveragePooling2D"
   ]
  },
  {
   "cell_type": "markdown",
   "metadata": {
    "id": "oe0on0c2StYe"
   },
   "source": [
    "## Verover de data"
   ]
  },
  {
   "cell_type": "code",
   "execution_count": 3,
   "metadata": {
    "colab": {
     "base_uri": "https://localhost:8080/"
    },
    "id": "gh2EoCY-Ssg7",
    "outputId": "f52aab3d-b6e9-4490-d5db-612f49a18e1b",
    "tags": []
   },
   "outputs": [],
   "source": [
    "(train_images, train_labels), (test_images, test_labels) = mnist.load_data()"
   ]
  },
  {
   "cell_type": "code",
   "execution_count": 4,
   "metadata": {
    "colab": {
     "base_uri": "https://localhost:8080/"
    },
    "id": "7FlNpFtxSrMQ",
    "outputId": "a51d1184-a362-42ee-86cd-50dd4bd018b0",
    "tags": []
   },
   "outputs": [
    {
     "data": {
      "text/plain": [
       "(60000, 28, 28)"
      ]
     },
     "execution_count": 4,
     "metadata": {},
     "output_type": "execute_result"
    }
   ],
   "source": [
    "train_images.shape"
   ]
  },
  {
   "cell_type": "code",
   "execution_count": 5,
   "metadata": {
    "colab": {
     "base_uri": "https://localhost:8080/"
    },
    "id": "FBfuBT6ATHyg",
    "outputId": "f6a74f22-c809-4078-a46c-a55b86f0a39b",
    "tags": []
   },
   "outputs": [
    {
     "data": {
      "text/plain": [
       "(60000,)"
      ]
     },
     "execution_count": 5,
     "metadata": {},
     "output_type": "execute_result"
    }
   ],
   "source": [
    "train_labels.shape"
   ]
  },
  {
   "cell_type": "markdown",
   "metadata": {
    "id": "jG7BXYcRYY5a"
   },
   "source": [
    "## Prepareer de images\n",
    "\n",
    "* normalizeren --> pixel waardes tussen 0.0 en 1.0\n",
    "* reshapen --> extra dimensie!"
   ]
  },
  {
   "cell_type": "code",
   "execution_count": 6,
   "metadata": {
    "id": "bafaBFuypcEY",
    "tags": []
   },
   "outputs": [],
   "source": [
    "train_images_normalized = train_images.astype('float32')/255"
   ]
  },
  {
   "cell_type": "code",
   "execution_count": 7,
   "metadata": {
    "id": "qPLYzqeeYeV0",
    "tags": []
   },
   "outputs": [],
   "source": [
    "train_images_enhanced = train_images_normalized.reshape(60000,28,28,1)"
   ]
  },
  {
   "cell_type": "code",
   "execution_count": 8,
   "metadata": {
    "colab": {
     "base_uri": "https://localhost:8080/"
    },
    "id": "h3vOWjp2YwS_",
    "outputId": "aaba4242-1580-4a28-f967-c16c39301fff",
    "tags": []
   },
   "outputs": [
    {
     "data": {
      "text/plain": [
       "(60000, 28, 28, 1)"
      ]
     },
     "execution_count": 8,
     "metadata": {},
     "output_type": "execute_result"
    }
   ],
   "source": [
    "train_images_enhanced.shape"
   ]
  },
  {
   "cell_type": "markdown",
   "metadata": {},
   "source": [
    "Doe hetzelfde met de test images:"
   ]
  },
  {
   "cell_type": "code",
   "execution_count": 9,
   "metadata": {
    "tags": []
   },
   "outputs": [
    {
     "data": {
      "text/plain": [
       "(10000, 28, 28)"
      ]
     },
     "execution_count": 9,
     "metadata": {},
     "output_type": "execute_result"
    }
   ],
   "source": [
    "test_images.shape"
   ]
  },
  {
   "cell_type": "code",
   "execution_count": 10,
   "metadata": {
    "id": "Rt4W7_fIYyuA",
    "tags": []
   },
   "outputs": [],
   "source": [
    "test_images_normalized = test_images.astype('float32')/255"
   ]
  },
  {
   "cell_type": "code",
   "execution_count": 11,
   "metadata": {
    "tags": []
   },
   "outputs": [],
   "source": [
    "test_images_enhanced  = test_images_normalized.reshape(10000, 28, 28, 1)"
   ]
  },
  {
   "cell_type": "code",
   "execution_count": 12,
   "metadata": {
    "colab": {
     "base_uri": "https://localhost:8080/"
    },
    "id": "4C3y58dJY5tp",
    "outputId": "a9253636-a47e-4c43-89e1-49e5d7164dc2",
    "tags": []
   },
   "outputs": [
    {
     "data": {
      "text/plain": [
       "(10000, 28, 28, 1)"
      ]
     },
     "execution_count": 12,
     "metadata": {},
     "output_type": "execute_result"
    }
   ],
   "source": [
    "test_images_enhanced.shape"
   ]
  },
  {
   "cell_type": "markdown",
   "metadata": {
    "id": "jb2JCpgYUWlu"
   },
   "source": [
    "## Prepareer de labels"
   ]
  },
  {
   "cell_type": "markdown",
   "metadata": {
    "id": "xB3XhWK_D_ZW"
   },
   "source": [
    "**OPDRACHT**: introduceer \"one-hot encoding\" voor de labels (zowel train set als de test set)"
   ]
  },
  {
   "cell_type": "code",
   "execution_count": 13,
   "metadata": {
    "colab": {
     "base_uri": "https://localhost:8080/"
    },
    "id": "GKRqlPkMU6tj",
    "outputId": "4bf786ce-a08f-4074-9299-1618b6ee2e71",
    "tags": []
   },
   "outputs": [
    {
     "data": {
      "text/plain": [
       "array([5, 0, 4, ..., 5, 6, 8], dtype=uint8)"
      ]
     },
     "execution_count": 13,
     "metadata": {},
     "output_type": "execute_result"
    }
   ],
   "source": [
    "train_labels"
   ]
  },
  {
   "cell_type": "code",
   "execution_count": 14,
   "metadata": {
    "id": "8_Jmmw6MUOy-",
    "tags": []
   },
   "outputs": [],
   "source": [
    "train_labels_encoded = to_categorical(train_labels)\n",
    "test_labels_encoded = to_categorical(test_labels)"
   ]
  },
  {
   "cell_type": "code",
   "execution_count": 15,
   "metadata": {
    "colab": {
     "base_uri": "https://localhost:8080/"
    },
    "id": "7V_g1CMBUb_7",
    "outputId": "b2fe5641-d4c5-4e33-bbb9-a2851e787f60",
    "tags": []
   },
   "outputs": [
    {
     "data": {
      "text/plain": [
       "array([[0., 0., 0., ..., 0., 0., 0.],\n",
       "       [1., 0., 0., ..., 0., 0., 0.],\n",
       "       [0., 0., 0., ..., 0., 0., 0.],\n",
       "       ...,\n",
       "       [0., 0., 0., ..., 0., 0., 0.],\n",
       "       [0., 0., 0., ..., 0., 0., 0.],\n",
       "       [0., 0., 0., ..., 0., 1., 0.]], dtype=float32)"
      ]
     },
     "execution_count": 15,
     "metadata": {},
     "output_type": "execute_result"
    }
   ],
   "source": [
    "train_labels_encoded"
   ]
  },
  {
   "cell_type": "code",
   "execution_count": 16,
   "metadata": {
    "tags": []
   },
   "outputs": [
    {
     "data": {
      "text/plain": [
       "array([[0., 0., 0., ..., 1., 0., 0.],\n",
       "       [0., 0., 1., ..., 0., 0., 0.],\n",
       "       [0., 1., 0., ..., 0., 0., 0.],\n",
       "       ...,\n",
       "       [0., 0., 0., ..., 0., 0., 0.],\n",
       "       [0., 0., 0., ..., 0., 0., 0.],\n",
       "       [0., 0., 0., ..., 0., 0., 0.]], dtype=float32)"
      ]
     },
     "execution_count": 16,
     "metadata": {},
     "output_type": "execute_result"
    }
   ],
   "source": [
    "test_labels_encoded"
   ]
  },
  {
   "cell_type": "markdown",
   "metadata": {
    "id": "m_2zOWq_ZAY-"
   },
   "source": [
    "## Definieeer netwerk / model"
   ]
  },
  {
   "cell_type": "markdown",
   "metadata": {
    "id": "_cS-T3cWEfZh"
   },
   "source": [
    "**OPDRACHT**: voeg nog 1 convolutie laag en nog 1 volledig verbonden (\"Dense\") laag toe"
   ]
  },
  {
   "cell_type": "code",
   "execution_count": 17,
   "metadata": {
    "id": "yfUEGL0bY77-",
    "tags": []
   },
   "outputs": [],
   "source": [
    "cnn = models.Sequential()\n",
    "\n",
    "cnn.add(Conv2D(filters=32, kernel_size=(3, 3), activation='relu', input_shape=(28,28,1)))\n",
    "cnn.add(AveragePooling2D())\n",
    "\n",
    "cnn.add(Conv2D(filters=64, kernel_size=(4, 4), activation='sigmoid'))\n",
    "cnn.add(AveragePooling2D())\n",
    "\n",
    "cnn.add(Flatten())\n",
    "cnn.add(Dropout(0.5))\n",
    "\n",
    "cnn.add(Dense(units=64, activation='relu'))\n",
    "cnn.add(Dense(units=10, activation = 'softmax'))"
   ]
  },
  {
   "cell_type": "code",
   "execution_count": 18,
   "metadata": {
    "colab": {
     "base_uri": "https://localhost:8080/"
    },
    "id": "XsJ8orLUZRR5",
    "outputId": "b22c4db0-254b-4e86-83e3-76131e183e1c",
    "tags": []
   },
   "outputs": [
    {
     "name": "stdout",
     "output_type": "stream",
     "text": [
      "Model: \"sequential\"\n",
      "_________________________________________________________________\n",
      " Layer (type)                Output Shape              Param #   \n",
      "=================================================================\n",
      " conv2d (Conv2D)             (None, 26, 26, 32)        320       \n",
      "                                                                 \n",
      " average_pooling2d (AverageP  (None, 13, 13, 32)       0         \n",
      " ooling2D)                                                       \n",
      "                                                                 \n",
      " conv2d_1 (Conv2D)           (None, 10, 10, 64)        32832     \n",
      "                                                                 \n",
      " average_pooling2d_1 (Averag  (None, 5, 5, 64)         0         \n",
      " ePooling2D)                                                     \n",
      "                                                                 \n",
      " flatten (Flatten)           (None, 1600)              0         \n",
      "                                                                 \n",
      " dropout (Dropout)           (None, 1600)              0         \n",
      "                                                                 \n",
      " dense (Dense)               (None, 64)                102464    \n",
      "                                                                 \n",
      " dense_1 (Dense)             (None, 10)                650       \n",
      "                                                                 \n",
      "=================================================================\n",
      "Total params: 136,266\n",
      "Trainable params: 136,266\n",
      "Non-trainable params: 0\n",
      "_________________________________________________________________\n"
     ]
    }
   ],
   "source": [
    "cnn.summary()"
   ]
  },
  {
   "cell_type": "code",
   "execution_count": 19,
   "metadata": {
    "id": "FXYJJMAJa_Tf",
    "tags": []
   },
   "outputs": [],
   "source": [
    "from keras.callbacks import ModelCheckpoint \n",
    "cnn.compile(optimizer='adam',\n",
    "            metrics = ['accuracy'],\n",
    "            loss = 'categorical_crossentropy')\n",
    "file_path = \"weights{epoch:02d}.hdf5\"\n",
    "checkpoint = ModelCheckpoint(file_path, monitor='val_accuracy', verbose=1, save_best_only=True, mode='max')"
   ]
  },
  {
   "cell_type": "markdown",
   "metadata": {
    "id": "qQqs0gLGGony"
   },
   "source": [
    "**OPDRACHT**: meet hoe lang het trainen duurt, niet met %%timeit maar met time.time().\n"
   ]
  },
  {
   "cell_type": "code",
   "execution_count": 23,
   "metadata": {
    "colab": {
     "base_uri": "https://localhost:8080/"
    },
    "id": "fsCH8KqEbR2P",
    "outputId": "e3d03e5d-e3e7-4225-ba65-605eb2d295aa",
    "tags": []
   },
   "outputs": [
    {
     "name": "stdout",
     "output_type": "stream",
     "text": [
      "Epoch 1/14\n",
      "469/469 [==============================] - ETA: 0s - loss: 0.0675 - accuracy: 0.9790\n",
      "Epoch 1: val_accuracy improved from 0.98550 to 0.98710, saving model to weights01.hdf5\n",
      "469/469 [==============================] - 17s 35ms/step - loss: 0.0675 - accuracy: 0.9790 - val_loss: 0.0393 - val_accuracy: 0.9871\n",
      "Epoch 2/14\n",
      "469/469 [==============================] - ETA: 0s - loss: 0.0651 - accuracy: 0.9798\n",
      "Epoch 2: val_accuracy did not improve from 0.98710\n",
      "469/469 [==============================] - 18s 38ms/step - loss: 0.0651 - accuracy: 0.9798 - val_loss: 0.0390 - val_accuracy: 0.9867\n",
      "Epoch 3/14\n",
      "468/469 [============================>.] - ETA: 0s - loss: 0.0626 - accuracy: 0.9805\n",
      "Epoch 3: val_accuracy improved from 0.98710 to 0.98730, saving model to weights03.hdf5\n",
      "469/469 [==============================] - 18s 38ms/step - loss: 0.0625 - accuracy: 0.9805 - val_loss: 0.0384 - val_accuracy: 0.9873\n",
      "Epoch 4/14\n",
      "469/469 [==============================] - ETA: 0s - loss: 0.0625 - accuracy: 0.9803\n",
      "Epoch 4: val_accuracy did not improve from 0.98730\n",
      "469/469 [==============================] - 17s 37ms/step - loss: 0.0625 - accuracy: 0.9803 - val_loss: 0.0401 - val_accuracy: 0.9864\n",
      "Epoch 5/14\n",
      "469/469 [==============================] - ETA: 0s - loss: 0.0587 - accuracy: 0.9810\n",
      "Epoch 5: val_accuracy did not improve from 0.98730\n",
      "469/469 [==============================] - 17s 37ms/step - loss: 0.0587 - accuracy: 0.9810 - val_loss: 0.0386 - val_accuracy: 0.9866\n",
      "Epoch 6/14\n",
      "468/469 [============================>.] - ETA: 0s - loss: 0.0569 - accuracy: 0.9819\n",
      "Epoch 6: val_accuracy did not improve from 0.98730\n",
      "469/469 [==============================] - 18s 38ms/step - loss: 0.0569 - accuracy: 0.9819 - val_loss: 0.0352 - val_accuracy: 0.9870\n",
      "Epoch 7/14\n",
      "469/469 [==============================] - ETA: 0s - loss: 0.0564 - accuracy: 0.9821\n",
      "Epoch 7: val_accuracy improved from 0.98730 to 0.98830, saving model to weights07.hdf5\n",
      "469/469 [==============================] - 18s 39ms/step - loss: 0.0564 - accuracy: 0.9821 - val_loss: 0.0363 - val_accuracy: 0.9883\n",
      "Epoch 8/14\n",
      "468/469 [============================>.] - ETA: 0s - loss: 0.0545 - accuracy: 0.9825\n",
      "Epoch 8: val_accuracy did not improve from 0.98830\n",
      "469/469 [==============================] - 18s 38ms/step - loss: 0.0544 - accuracy: 0.9826 - val_loss: 0.0350 - val_accuracy: 0.9880\n",
      "Epoch 9/14\n",
      "469/469 [==============================] - ETA: 0s - loss: 0.0527 - accuracy: 0.9839\n",
      "Epoch 9: val_accuracy improved from 0.98830 to 0.98920, saving model to weights09.hdf5\n",
      "469/469 [==============================] - 17s 35ms/step - loss: 0.0527 - accuracy: 0.9839 - val_loss: 0.0327 - val_accuracy: 0.9892\n",
      "Epoch 10/14\n",
      "469/469 [==============================] - ETA: 0s - loss: 0.0504 - accuracy: 0.9837\n",
      "Epoch 10: val_accuracy did not improve from 0.98920\n",
      "469/469 [==============================] - 17s 36ms/step - loss: 0.0504 - accuracy: 0.9837 - val_loss: 0.0343 - val_accuracy: 0.9882\n",
      "Epoch 11/14\n",
      "469/469 [==============================] - ETA: 0s - loss: 0.0516 - accuracy: 0.9836\n",
      "Epoch 11: val_accuracy did not improve from 0.98920\n",
      "469/469 [==============================] - 17s 35ms/step - loss: 0.0516 - accuracy: 0.9836 - val_loss: 0.0349 - val_accuracy: 0.9882\n",
      "Epoch 12/14\n",
      "469/469 [==============================] - ETA: 0s - loss: 0.0497 - accuracy: 0.9844\n",
      "Epoch 12: val_accuracy improved from 0.98920 to 0.98960, saving model to weights12.hdf5\n",
      "469/469 [==============================] - 17s 36ms/step - loss: 0.0497 - accuracy: 0.9844 - val_loss: 0.0312 - val_accuracy: 0.9896\n",
      "Epoch 13/14\n",
      "469/469 [==============================] - ETA: 0s - loss: 0.0480 - accuracy: 0.9845\n",
      "Epoch 13: val_accuracy did not improve from 0.98960\n",
      "469/469 [==============================] - 17s 36ms/step - loss: 0.0480 - accuracy: 0.9845 - val_loss: 0.0337 - val_accuracy: 0.9884\n",
      "Epoch 14/14\n",
      "469/469 [==============================] - ETA: 0s - loss: 0.0478 - accuracy: 0.9850\n",
      "Epoch 14: val_accuracy did not improve from 0.98960\n",
      "469/469 [==============================] - 18s 37ms/step - loss: 0.0478 - accuracy: 0.9850 - val_loss: 0.0351 - val_accuracy: 0.9879\n",
      "De totale uitvoeringstijd van trainen was: 242.04390287399292 seconden.\n"
     ]
    }
   ],
   "source": [
    "import time\n",
    "\n",
    "# noteer de huidige tijd voor het uitvoeren van de code\n",
    "start_time = time.time()\n",
    "\n",
    "history_cnn = cnn.fit(train_images_enhanced,\n",
    "        train_labels_encoded,\n",
    "        epochs = 14, # varieer het aantal epochs\n",
    "        batch_size = 128,\n",
    "        validation_data = (test_images_enhanced, test_labels_encoded),\n",
    "        callbacks = [checkpoint])\n",
    "\n",
    "# noteer de huidige tijd na het uitvoeren van de code\n",
    "end_time = time.time()\n",
    "\n",
    "# bereken de totale uitvoeringstijd\n",
    "total_time = end_time - start_time\n",
    "\n",
    "# print de totale uitvoeringstijd\n",
    "print(\"De totale uitvoeringstijd van trainen was:\", total_time, \"seconden.\")"
   ]
  },
  {
   "cell_type": "markdown",
   "metadata": {
    "id": "hYi1uJV-Gxgn"
   },
   "source": [
    "**OPDRACHT**: meet hoe lang het testen duurt, niet met %%timeit maar met time.time()."
   ]
  },
  {
   "cell_type": "code",
   "execution_count": 21,
   "metadata": {
    "colab": {
     "base_uri": "https://localhost:8080/"
    },
    "id": "S52r-pcHbtJJ",
    "outputId": "4a887c82-761c-44fa-86a6-d0fd48ce0300",
    "tags": []
   },
   "outputs": [
    {
     "name": "stdout",
     "output_type": "stream",
     "text": [
      "313/313 [==============================] - 1s 3ms/step - loss: 0.0420 - accuracy: 0.9855\n",
      "De nauwkeurigheid was: 0.9854999780654907\n",
      "De totale uitvoeringstijd van testen was: 1.153001308441162 seconden.\n"
     ]
    }
   ],
   "source": [
    "import time\n",
    "\n",
    "start_time = time.time()\n",
    "\n",
    "loss, acc = cnn.evaluate(test_images_enhanced,\n",
    "                         test_labels_encoded)\n",
    "end_time = time.time()\n",
    "\n",
    "total_time = end_time - start_time\n",
    "\n",
    "print(f\"De nauwkeurigheid was: {acc}\")\n",
    "print(\"De totale uitvoeringstijd van testen was:\", total_time, \"seconden.\")"
   ]
  },
  {
   "cell_type": "markdown",
   "metadata": {},
   "source": [
    "**OPDRACHT**: voeg labels aan deze grafiek toe"
   ]
  },
  {
   "cell_type": "code",
   "execution_count": 22,
   "metadata": {
    "colab": {
     "base_uri": "https://localhost:8080/",
     "height": 269
    },
    "id": "fspLE94uj_0p",
    "outputId": "fe013ce6-10a1-4585-e1a8-eddf471cdca9",
    "tags": []
   },
   "outputs": [
    {
     "data": {
      "image/png": "[encoded data removed]",
      "text/plain": [
       "<Figure size 640x480 with 1 Axes>"
      ]
     },
     "metadata": {},
     "output_type": "display_data"
    }
   ],
   "source": [
    "plt.plot(history_cnn.history['accuracy'], label='Training accuracy')\n",
    "plt.plot(history_cnn.history['val_accuracy'],'r', label='Validation accuracy')\n",
    "plt.ylim(0.75,1.0)\n",
    "plt.title('Training and validation accuracy')\n",
    "plt.xlabel('Epochs')\n",
    "plt.ylabel('Accuracy')\n",
    "plt.legend()\n",
    "plt.show()"
   ]
  },
  {
   "cell_type": "markdown",
   "metadata": {
    "id": "PKVFGXpIFa-v"
   },
   "source": [
    "**OPDRACHT**: evalueer je resultaten:\n",
    "\n",
    "* hoe is de nauwkeurigheid? \n",
    "    - Ik zelf vind dat de nauwkeurigheid best wel goed is, namelijk 97.50%.\n",
    "* is het netwerk onder- of over-trained?\n",
    "    - Het netwerk is ondergetrained, dat kunnen we zien aan de grafiek dat het netwerk niet genoeg heeft geleerd van de trainingsgegevens.\n",
    "* laat een paar fouten zien\n",
    "    - Dat is hieronder gedaan\n",
    " * wat kun je zeggen over de aard van de fouten?\n",
    "     - Dat de cijfers echt verwarend zijn, zelfs voor mij.\n",
    "* wat is sneller: het trainen of het testen?\n",
    "    - Aan de hand van de timer die terug te zien is in dit bestand, zien we dat het testen veel snelle is. Het duurde namelijk maar 1.1 sec.\n",
    "* wat kun je nog doen om de nauwkeurigheid te verhogen?\n",
    "    - Meerdere lagen toevoegen, het activiatiefuncties varieren, de epochs, batch_sizes enz....\n",
    "(noteer de veranderingen die je hebt aangebracht en wat daar de resultaten van zijn)\n",
    "    - Ik had eerst vergeten om een tweede averagepool toe te voegen, de resultaten waren echt te laag. \n",
    "    - Ik heb activiatiefuncties gevarieerd.\n",
    "    - Ik heb ModelCheckpoint toegevoegd waardoor de nauwkeurigheid omhoog is gegaan"
   ]
  },
  {
   "cell_type": "code",
   "execution_count": 38,
   "metadata": {
    "tags": []
   },
   "outputs": [
    {
     "name": "stdout",
     "output_type": "stream",
     "text": [
      "313/313 [==============================] - 1s 3ms/step\n",
      "Number of mistakes: 121\n"
     ]
    }
   ],
   "source": [
    "y_predicted_labels = cnn.predict(test_images_enhanced)\n",
    "mistakes = test_labels != np.argmax(y_predicted_labels, axis=1)\n",
    "num_mistakes = np.count_nonzero(mistakes)\n",
    "\n",
    "print(f\"Number of mistakes: {num_mistakes}\")"
   ]
  },
  {
   "cell_type": "code",
   "execution_count": 39,
   "metadata": {
    "tags": []
   },
   "outputs": [
    {
     "data": {
      "image/png": "[encoded data removed]",
      "text/plain": [
       "<Figure size 800x600 with 12 Axes>"
      ]
     },
     "metadata": {},
     "output_type": "display_data"
    }
   ],
   "source": [
    "# plot de eerste 12 fouten\n",
    "fig, ax = plt.subplots(nrows=3, ncols=4, figsize=(8, 6))\n",
    "\n",
    "for i, axi in enumerate(ax.flat):\n",
    "    while True:\n",
    "        j = np.random.randint(len(test_images_enhanced))\n",
    "        if mistakes[j]:\n",
    "            axi.imshow(test_images_enhanced[j], cmap='gray')\n",
    "            axi.set_title('{0} seen as {1}'.format(test_labels[j], np.argmax(y_predicted_labels[j])))\n",
    "            axi.set_xticks([])\n",
    "            axi.set_yticks([])\n",
    "            break\n",
    "\n",
    "plt.tight_layout()\n",
    "plt.show()"
   ]
  },
  {
   "cell_type": "markdown",
   "metadata": {
    "id": "ycBT1S6wIK7y"
   },
   "source": [
    "## Evalueer cijferherkenning met kNN, NN, en CNN"
   ]
  },
  {
   "cell_type": "markdown",
   "metadata": {
    "id": "xm7oOIZxGFYw"
   },
   "source": [
    "**OPDRACHT**: evalueer je resultaten:\n",
    "\n",
    "vergelijk de resultaten van kNN, NN, en CNN\n",
    "\n",
    "* wat concludeer je hieruit?\n",
    "* welke type fouten maken de verschillende classifiers?\n",
    "\n",
    "\n"
   ]
  },
  {
   "cell_type": "markdown",
   "metadata": {
    "id": "xTdfwGeRGjCB"
   },
   "source": [
    "* Het resultaat van de Convolutional Neural Network (CNN) was hoger (0.9855) dan het resultaat van de K-Nearest Neighbors (KNN) classifier (0.9691) en van de Neurale Netwerk (NN) classifier (0.980) . Dit suggereert dat de CNN beter presteert dan de KNN & NN classifier op de gegeven dataset.\n",
    "\n",
    "* KNN kan fouten maken als gevolg van de nabijheid van handgeschreven cijfers die op elkaar lijken, zoals een 4 en een 9, of een 1 en een 7. Dit kan leiden tot classificatiefouten als de KNN-classifier de verkeerde klasse kiest vanwege de nabijheid van datapunten.\n",
    "\n",
    "* CNN kan fouten maken als het model onvoldoende variatie in de trainingsgegevens heeft waardoor het moeilijk wordt om nieuwe, ongeziene voorbeelden correct te classificeren.\n",
    "\n",
    "* NN kan fouten maken wanneer er een sprake is van verkeerde classificatie, onevenwichtige trainingsset, onderfitting en overfitting."
   ]
  }
 ],
 "metadata": {
  "accelerator": "GPU",
  "colab": {
   "name": "2021_02_11 MNIST CNN uitwerking.ipynb",
   "provenance": []
  },
  "kernelspec": {
   "display_name": "Python 3 (ipykernel)",
   "language": "python",
   "name": "python3"
  },
  "language_info": {
   "codemirror_mode": {
    "name": "ipython",
    "version": 3
   },
   "file_extension": ".py",
   "mimetype": "text/x-python",
   "name": "python",
   "nbconvert_exporter": "python",
   "pygments_lexer": "ipython3",
   "version": "3.10.9"
  }
 },
 "nbformat": 4,
 "nbformat_minor": 4
}
