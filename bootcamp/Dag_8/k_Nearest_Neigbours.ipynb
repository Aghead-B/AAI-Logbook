{
 "cells": [
  {
   "cell_type": "markdown",
   "id": "2a56675f-119f-446e-8f1e-113fced476cf",
   "metadata": {},
   "source": [
    "## Importeer libraries"
   ]
  },
  {
   "cell_type": "code",
   "execution_count": 1,
   "id": "b112eb04-fa4b-44da-b525-0838a9b2fca2",
   "metadata": {
    "tags": []
   },
   "outputs": [],
   "source": [
    "import numpy as np\n",
    "\n",
    "from matplotlib import pyplot as plt\n",
    "import seaborn as sns; sns.set()\n",
    "\n",
    "from sklearn import neighbors\n",
    "from sklearn.metrics import accuracy_score\n",
    "from sklearn.metrics import confusion_matrix\n",
    "\n",
    "from keras.datasets import mnist"
   ]
  },
  {
   "cell_type": "markdown",
   "id": "bd5ad64f-a929-4e5b-9b68-1fb1abf3948e",
   "metadata": {},
   "source": [
    "## Data"
   ]
  },
  {
   "cell_type": "code",
   "execution_count": 2,
   "id": "4088ef65-7aea-4a70-af33-90ffea53513d",
   "metadata": {
    "tags": []
   },
   "outputs": [],
   "source": [
    "(X_train_images, y_train_labels), (X_test_images, y_test_labels) = mnist.load_data()"
   ]
  },
  {
   "cell_type": "markdown",
   "id": "d15c0f9c-46b5-4a70-ac69-4be3f7f7cd2f",
   "metadata": {},
   "source": [
    "## Trainingsdata:"
   ]
  },
  {
   "cell_type": "code",
   "execution_count": 3,
   "id": "c3482de6-57f9-4de9-9888-e3518cd947f2",
   "metadata": {
    "tags": []
   },
   "outputs": [
    {
     "name": "stdout",
     "output_type": "stream",
     "text": [
      "Afbeeldingen: (60000, 28, 28)\n"
     ]
    }
   ],
   "source": [
    "print(\"Afbeeldingen:\", X_train_images.shape)"
   ]
  },
  {
   "cell_type": "code",
   "execution_count": 4,
   "id": "ce7607f2-0cf8-459a-b3ee-0793a32ba6ea",
   "metadata": {
    "tags": []
   },
   "outputs": [
    {
     "name": "stdout",
     "output_type": "stream",
     "text": [
      "Labels: (60000,)\n"
     ]
    }
   ],
   "source": [
    "print(\"Labels:\", y_train_labels.shape )"
   ]
  },
  {
   "cell_type": "code",
   "execution_count": 5,
   "id": "0a971297-a043-4289-8599-dfd305782225",
   "metadata": {
    "tags": []
   },
   "outputs": [
    {
     "name": "stdout",
     "output_type": "stream",
     "text": [
      "Aantal unieke labels: 10\n",
      "Unieke labels: [0 1 2 3 4 5 6 7 8 9]\n"
     ]
    }
   ],
   "source": [
    "# checken hoeveel unique labels er zijn\n",
    "classes = np.unique(y_train_labels)\n",
    "num_classes = len(np.unique(y_train_labels))\n",
    "print(\"Aantal unieke labels:\", num_classes)\n",
    "print(\"Unieke labels:\", classes)"
   ]
  },
  {
   "cell_type": "markdown",
   "id": "9d472f2f-fd92-4b2b-b9a5-a3a2202e95de",
   "metadata": {},
   "source": [
    "## Testdata:"
   ]
  },
  {
   "cell_type": "code",
   "execution_count": 6,
   "id": "1dd5c6c0-dc6f-40ce-bdcd-f5eb00c4cdde",
   "metadata": {
    "tags": []
   },
   "outputs": [
    {
     "name": "stdout",
     "output_type": "stream",
     "text": [
      "Afbeeldingen: (10000, 28, 28)\n"
     ]
    }
   ],
   "source": [
    "print(\"Afbeeldingen:\", X_test_images.shape)"
   ]
  },
  {
   "cell_type": "code",
   "execution_count": 7,
   "id": "f68a2585-ddd9-4781-ad5e-c40125f34170",
   "metadata": {
    "tags": []
   },
   "outputs": [
    {
     "name": "stdout",
     "output_type": "stream",
     "text": [
      "Labels: (10000,)\n"
     ]
    }
   ],
   "source": [
    "print(\"Labels:\", y_test_labels.shape)"
   ]
  },
  {
   "cell_type": "code",
   "execution_count": 8,
   "id": "20550cc3-f2a9-4000-bf56-9821034c4e1f",
   "metadata": {
    "tags": []
   },
   "outputs": [
    {
     "name": "stdout",
     "output_type": "stream",
     "text": [
      "Eerste 20 labels: [5 0 4 1 9 2 1 3 1 4 3 5 3 6 1 7 2 8 6 9]\n"
     ]
    }
   ],
   "source": [
    "print(\"Eerste 20 labels:\", y_train_labels[:20])"
   ]
  },
  {
   "cell_type": "markdown",
   "id": "34375a68-fb44-49ca-ae19-77a384c8bf95",
   "metadata": {},
   "source": [
    "## Toon 12 random cijfers"
   ]
  },
  {
   "cell_type": "code",
   "execution_count": 9,
   "id": "842fa3c4-b5bd-44e5-9ac3-278189ebc6d0",
   "metadata": {
    "tags": []
   },
   "outputs": [
    {
     "data": {
      "image/png": "[encoded data removed]",
      "text/plain": [
       "<Figure size 640x480 with 12 Axes>"
      ]
     },
     "metadata": {},
     "output_type": "display_data"
    }
   ],
   "source": [
    "for sub in range(1, 13):\n",
    "        plt.subplot(3,4, sub)\n",
    "        i = np.random.randint(60000)\n",
    "\n",
    "        #plt.imshow(X_train_images[i], cmap='gray')\n",
    "        plt.imshow(255 - X_train_images[i], cmap='gray')\n",
    "        plt.title(y_train_labels[i]);\n",
    "        plt.axis(\"off\")"
   ]
  },
  {
   "cell_type": "markdown",
   "id": "3e7fd3c7-057c-4b26-afbd-6932dbdb8fff",
   "metadata": {
    "tags": []
   },
   "source": [
    "## Maak de images geschikt voor ML modellen"
   ]
  },
  {
   "cell_type": "markdown",
   "id": "e14bf502-0e2f-4c04-9990-200a71636242",
   "metadata": {
    "tags": []
   },
   "source": [
    "**OPDRACHT**: \"flatten\" de images naar een nieuwe data structuur met dimensies (60000, 28*28)"
   ]
  },
  {
   "cell_type": "code",
   "execution_count": 10,
   "id": "931e090e-b9a2-4498-9c3a-69e115c63b36",
   "metadata": {
    "tags": []
   },
   "outputs": [
    {
     "name": "stdout",
     "output_type": "stream",
     "text": [
      "Number of dimensions: 3\n"
     ]
    }
   ],
   "source": [
    "print(\"Number of dimensions: {}\".format(X_train_images.ndim))"
   ]
  },
  {
   "cell_type": "code",
   "execution_count": 11,
   "id": "f52d3d1a-193e-4e96-a61b-7c45238f87be",
   "metadata": {
    "tags": []
   },
   "outputs": [
    {
     "name": "stdout",
     "output_type": "stream",
     "text": [
      "Vorm van de afgevlakte array(flattened_X_train_images): (60000, 784)\n",
      "Vorm van de afgevlakte array(flattened_X_test_images): (10000, 784)\n"
     ]
    }
   ],
   "source": [
    "# Omzetten van de X_train_images AND X_test_images array naar een 2D array\n",
    "flattened_X_train_images = X_train_images.reshape(X_train_images.shape[0], -1)\n",
    "print(\"Vorm van de afgevlakte array(flattened_X_train_images):\", flattened_X_train_images.shape)\n",
    "\n",
    "flattened_X_test_images = X_test_images.reshape(X_test_images.shape[0], -1)\n",
    "print(\"Vorm van de afgevlakte array(flattened_X_test_images):\", flattened_X_test_images.shape)"
   ]
  },
  {
   "cell_type": "markdown",
   "id": "88b85d2f-3399-4740-b6a2-bffa388291bc",
   "metadata": {},
   "source": [
    "## k-Nearest Neighbours"
   ]
  },
  {
   "cell_type": "markdown",
   "id": "72fc5ea7-d629-42bd-a5d2-5e080b412dc5",
   "metadata": {},
   "source": [
    "Het is beter om in eerste instantie slechts een deel van de training set en de test set te gebruiken, bijvoorbeeld 10%.\n",
    "\n",
    "Het trainen duurt niet lang, maar het voorspellen kan zeer rekenintensief zijn.\n",
    "\n",
    "Gebruik %%timeit om deze bewering te controleren."
   ]
  },
  {
   "cell_type": "code",
   "execution_count": 12,
   "id": "eafa5852-5ee9-417c-aa30-089fe090d4d0",
   "metadata": {
    "tags": []
   },
   "outputs": [],
   "source": [
    "knn = neighbors.KNeighborsClassifier(n_neighbors=5, weights='distance')"
   ]
  },
  {
   "cell_type": "markdown",
   "id": "b07a7303-3f88-4f7c-8787-34c62fdf802b",
   "metadata": {},
   "source": [
    "**OPDRACHT**: train de kNN met fit() en pas het model toe met predict(). Kies eerst 10% van de train set en test set. Je mag dat later verruimen."
   ]
  },
  {
   "cell_type": "code",
   "execution_count": 13,
   "id": "83e3ab5f-0931-4b9c-8652-d040be8791f5",
   "metadata": {
    "tags": []
   },
   "outputs": [
    {
     "name": "stdout",
     "output_type": "stream",
     "text": [
      "508 µs ± 3.02 µs per loop (mean ± std. dev. of 7 runs, 1,000 loops each)\n"
     ]
    }
   ],
   "source": [
    "%%timeit\n",
    "# train 10% van de trainings- en testgegevens \n",
    "knn.fit(flattened_X_train_images[:6000,:], y_train_labels[:6000])"
   ]
  },
  {
   "cell_type": "code",
   "execution_count": 14,
   "id": "28b816f7-aa50-46b8-bc64-952feadce904",
   "metadata": {
    "tags": []
   },
   "outputs": [
    {
     "name": "stdout",
     "output_type": "stream",
     "text": [
      "147 ms ± 1.17 ms per loop (mean ± std. dev. of 7 runs, 10 loops each)\n"
     ]
    }
   ],
   "source": [
    "%%timeit\n",
    "# predict 10% van de trainings- en testgegevens \n",
    "y_predicted_labels = knn.predict(flattened_X_test_images[:1000,:])"
   ]
  },
  {
   "cell_type": "code",
   "execution_count": 15,
   "id": "e93ad391-77ab-4b12-80d1-a13f4e8e3047",
   "metadata": {
    "tags": []
   },
   "outputs": [],
   "source": [
    "# nog een keertje zonder de %%timeit\n",
    "y_predicted_labels = knn.predict(flattened_X_test_images[:1000,:])\n",
    "acc = accuracy_score(y_test_labels[:1000], y_predicted_labels[:1000])"
   ]
  },
  {
   "cell_type": "code",
   "execution_count": 16,
   "id": "7a477e8f-2427-4e04-b1dd-8543104a65f6",
   "metadata": {
    "tags": []
   },
   "outputs": [
    {
     "name": "stdout",
     "output_type": "stream",
     "text": [
      "Nauwkeurigheid: 0.919\n"
     ]
    }
   ],
   "source": [
    "print(f\"Nauwkeurigheid: {acc}\")"
   ]
  },
  {
   "cell_type": "markdown",
   "id": "b7ee23d8-57a9-4ac1-8185-6e6189666df0",
   "metadata": {},
   "source": [
    "**OPDRACHT**: Hoeveel sneller is het testen ten opzichte van het trainen?"
   ]
  },
  {
   "cell_type": "code",
   "execution_count": 17,
   "id": "fa7ba335-6d41-4660-8af2-53af3ccf01c2",
   "metadata": {
    "tags": []
   },
   "outputs": [
    {
     "name": "stdout",
     "output_type": "stream",
     "text": [
      "0.28988326848249024\n"
     ]
    }
   ],
   "source": [
    "print (0.149 / 0.514) "
   ]
  },
  {
   "cell_type": "markdown",
   "id": "ae190682-e1ae-4cf2-a91b-1f469e58e232",
   "metadata": {},
   "source": [
    "**We nemen nu de hele dataset**"
   ]
  },
  {
   "cell_type": "code",
   "execution_count": 18,
   "id": "0bcafb31-e131-48fe-b6b4-85439da46649",
   "metadata": {
    "tags": []
   },
   "outputs": [
    {
     "name": "stdout",
     "output_type": "stream",
     "text": [
      "3.16 ms ± 43.5 µs per loop (mean ± std. dev. of 7 runs, 100 loops each)\n"
     ]
    }
   ],
   "source": [
    "%%timeit\n",
    "# train 100% van de trainings- en testgegevens \n",
    "knn.fit(flattened_X_train_images, y_train_labels)"
   ]
  },
  {
   "cell_type": "code",
   "execution_count": 19,
   "id": "5eb93255-5856-42e9-9d4f-6c64c809e084",
   "metadata": {
    "tags": []
   },
   "outputs": [
    {
     "name": "stdout",
     "output_type": "stream",
     "text": [
      "13.1 s ± 293 ms per loop (mean ± std. dev. of 7 runs, 1 loop each)\n"
     ]
    }
   ],
   "source": [
    "%%timeit\n",
    "# predict 100% van de trainings- en testgegevens \n",
    "y_predicted_labels = knn.predict(flattened_X_test_images)"
   ]
  },
  {
   "cell_type": "code",
   "execution_count": 20,
   "id": "f844c594-7858-4d99-b405-2e856ffd8753",
   "metadata": {
    "tags": []
   },
   "outputs": [],
   "source": [
    "# nog een keertje zonder de %%timeit\n",
    "y_predicted_labels = knn.predict(flattened_X_test_images)\n",
    "acc = accuracy_score(y_test_labels, y_predicted_labels)"
   ]
  },
  {
   "cell_type": "code",
   "execution_count": 21,
   "id": "2fefc74c-beec-45f6-a626-cd804e054467",
   "metadata": {
    "tags": []
   },
   "outputs": [
    {
     "name": "stdout",
     "output_type": "stream",
     "text": [
      "Nauwkeurigheid: 0.9691\n"
     ]
    }
   ],
   "source": [
    "print(f\"Nauwkeurigheid: {acc}\")"
   ]
  },
  {
   "cell_type": "code",
   "execution_count": 24,
   "id": "c50fd9ab-fd00-4abc-8c24-b193da14b746",
   "metadata": {
    "tags": []
   },
   "outputs": [
    {
     "name": "stdout",
     "output_type": "stream",
     "text": [
      "[[ 85   0   0   0   0   0   0   0   0   0]\n",
      " [  0 126   0   0   0   0   0   0   0   0]\n",
      " [  2   0 108   0   0   0   1   4   1   0]\n",
      " [  0   1   0 101   0   2   0   2   0   1]\n",
      " [  1   1   0   0 102   0   1   0   0   5]\n",
      " [  0   0   0   0   1  85   0   0   0   1]\n",
      " [  1   0   0   0   1   0  85   0   0   0]\n",
      " [  0   1   0   0   1   0   0  97   0   0]\n",
      " [  1   1   0   3   0   0   0   0  83   1]\n",
      " [  0   0   0   0   0   0   0   1   1  92]]\n"
     ]
    }
   ],
   "source": [
    "cm = confusion_matrix(y_test_labels[:1000], y_predicted_labels[:1000])\n",
    "\n",
    "print(cm)"
   ]
  },
  {
   "cell_type": "code",
   "execution_count": 25,
   "id": "58fe7185-fafb-4475-b43e-0e32387ebb48",
   "metadata": {
    "tags": []
   },
   "outputs": [
    {
     "data": {
      "image/png": "[encoded data removed]",
      "text/plain": [
       "<Figure size 640x480 with 1 Axes>"
      ]
     },
     "metadata": {},
     "output_type": "display_data"
    }
   ],
   "source": [
    "sns.heatmap(cm, square=True, annot=True, cbar=False)\n",
    "plt.xlabel('predicted value')\n",
    "plt.ylabel('true value');"
   ]
  },
  {
   "cell_type": "markdown",
   "id": "756ed598-cac5-4185-9b2a-de379e693a0c",
   "metadata": {},
   "source": [
    "## Toon 12 voorbeelden van fouten van het model"
   ]
  },
  {
   "cell_type": "code",
   "execution_count": 32,
   "id": "515d9ec6-e2f5-478d-8b7a-da62b47202a8",
   "metadata": {
    "tags": []
   },
   "outputs": [],
   "source": [
    "# bekijken welke cijfers fout zijn gecategoriseerd.\n",
    "mistakes = y_test_labels[:1000] != y_predicted_labels[:1000]"
   ]
  },
  {
   "cell_type": "code",
   "execution_count": 33,
   "id": "9e6fc6d6-e6bd-4fa6-9252-785c1b2427a8",
   "metadata": {
    "tags": []
   },
   "outputs": [
    {
     "name": "stdout",
     "output_type": "stream",
     "text": [
      "[False False False False False False False False False False False False\n",
      " False False False False False False False False False False False False\n",
      " False False False False False False False False False  True False False\n",
      " False False False False False False False False False False False False\n",
      " False False False False False False False False False False False False\n",
      " False False False False False False False False False False False False\n",
      " False False False False False False False False False False False False\n",
      " False False False False False False False False False False False False\n",
      " False False False False]\n"
     ]
    }
   ],
   "source": [
    "# bekijken aantal voorbeelden van de eerste 100 mistakes\n",
    "print(mistakes[:100])"
   ]
  },
  {
   "cell_type": "code",
   "execution_count": 34,
   "id": "2768f800-1e0b-4774-915f-a32c9f7d0aea",
   "metadata": {
    "tags": []
   },
   "outputs": [
    {
     "name": "stdout",
     "output_type": "stream",
     "text": [
      "36\n"
     ]
    }
   ],
   "source": [
    "# print het aantal fouten die er zijn\n",
    "print(np.count_nonzero(mistakes))"
   ]
  },
  {
   "cell_type": "markdown",
   "id": "089c5939-e8b6-4d6c-a986-09010ebe5886",
   "metadata": {},
   "source": [
    "**OPDRACHT**: schrijf de code om naar alleen fout geclassificeerde cijfers."
   ]
  },
  {
   "cell_type": "code",
   "execution_count": 40,
   "id": "01a71c87-8caa-4c7e-83c9-dc0a17d79717",
   "metadata": {
    "tags": []
   },
   "outputs": [
    {
     "data": {
      "image/png": "[encoded data removed]",
      "text/plain": [
       "<Figure size 640x480 with 12 Axes>"
      ]
     },
     "metadata": {},
     "output_type": "display_data"
    }
   ],
   "source": [
    "for sub in range(1, 13):\n",
    "    plt.subplot(3,4, sub)\n",
    "    while True:\n",
    "        i = np.random.randint(1000)\n",
    "        predicted_number = y_predicted_labels[i]\n",
    "        actual_number = y_test_labels[i]\n",
    "        if predicted_number != actual_number:\n",
    "            plt.imshow(255 - X_test_images[i,:,:], cmap='gray')\n",
    "            plt.axis(\"off\")\n",
    "            plt.title('{0} seen as {1}'.format(actual_number, predicted_number))\n",
    "            break"
   ]
  }
 ],
 "metadata": {
  "kernelspec": {
   "display_name": "Python 3 (ipykernel)",
   "language": "python",
   "name": "python3"
  },
  "language_info": {
   "codemirror_mode": {
    "name": "ipython",
    "version": 3
   },
   "file_extension": ".py",
   "mimetype": "text/x-python",
   "name": "python",
   "nbconvert_exporter": "python",
   "pygments_lexer": "ipython3",
   "version": "3.10.9"
  }
 },
 "nbformat": 4,
 "nbformat_minor": 5
}
