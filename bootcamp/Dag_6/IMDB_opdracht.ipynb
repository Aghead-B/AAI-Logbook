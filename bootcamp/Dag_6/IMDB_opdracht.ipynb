{
 "cells": [
  {
   "cell_type": "code",
   "execution_count": 1,
   "metadata": {},
   "outputs": [
    {
     "name": "stderr",
     "output_type": "stream",
     "text": [
      "Using TensorFlow backend.\n"
     ]
    }
   ],
   "source": [
    "import numpy as np\n",
    "import pandas as pd\n",
    "import warnings\n",
    "warnings.filterwarnings('ignore')\n",
    "from keras import models\n",
    "from keras import layers\n",
    "import matplotlib.pyplot as plt"
   ]
  },
  {
   "cell_type": "markdown",
   "metadata": {},
   "source": [
    "Verover de data. Het is een dataset van IMDB met filmrecensies. De labels zijn binair en geven aan of een film wel of geen aanrader is volgens de reviews."
   ]
  },
  {
   "cell_type": "code",
   "execution_count": 2,
   "metadata": {},
   "outputs": [],
   "source": [
    "from keras.datasets import imdb\n",
    "\n",
    "(X_train, y_train), (X_test, y_test) = imdb.load_data(path=\"imdb.npz\",\n",
    "                                                      num_words=10000,\n",
    "                                                      skip_top=0,\n",
    "                                                      maxlen=None,\n",
    "                                                      seed=42,\n",
    "                                                      start_char=1,\n",
    "                                                      oov_char=2,\n",
    "                                                      index_from=3)"
   ]
  },
  {
   "cell_type": "markdown",
   "metadata": {},
   "source": [
    "bekijk de geimporteerde data."
   ]
  },
  {
   "cell_type": "code",
   "execution_count": 3,
   "metadata": {},
   "outputs": [
    {
     "data": {
      "text/plain": [
       "array([list([1, 11, 4079, 11, 4, 1986, 745, 3304, 299, 1206, 590, 3029, 1042, 37, 47, 27, 1269, 2, 7637, 19, 6, 3586, 15, 1367, 3196, 17, 1002, 723, 1768, 2887, 757, 46, 4, 232, 1131, 39, 107, 3589, 11, 4, 4539, 198, 24, 4, 1834, 133, 4, 107, 7, 98, 413, 8911, 5835, 11, 35, 781, 8, 169, 4, 2179, 5, 259, 334, 3773, 8, 4, 3497, 10, 10, 17, 16, 3381, 46, 34, 101, 612, 7, 84, 18, 49, 282, 167, 2, 7173, 122, 24, 1414, 8, 177, 4, 392, 531, 19, 259, 15, 934, 40, 507, 39, 2, 260, 77, 8, 162, 5097, 121, 4, 65, 304, 273, 13, 70, 1276, 2, 8, 15, 745, 3304, 5, 27, 322, 2197, 2, 2, 70, 30, 2, 88, 17, 6, 3029, 1042, 29, 100, 30, 4943, 50, 21, 18, 148, 15, 26, 5980, 12, 152, 157, 10, 10, 21, 19, 3196, 46, 50, 5, 4, 1636, 112, 828, 6, 1003, 4, 162, 5097, 2, 517, 6, 2, 7, 4, 9527, 5593, 4, 351, 232, 385, 125, 6, 1693, 39, 2383, 5, 29, 69, 5593, 5670, 6, 162, 5097, 1567, 232, 256, 34, 718, 5612, 2980, 8, 6, 226, 762, 7, 2, 7830, 5, 517, 2, 6, 3242, 7, 4, 351, 232, 37, 9, 1861, 8, 123, 3196, 2, 5612, 188, 5165, 857, 11, 4, 86, 22, 121, 29, 1990, 1495, 10, 10, 1276, 61, 514, 11, 14, 22, 9, 1456, 9533, 14, 575, 208, 159, 9533, 16, 2, 5, 187, 15, 58, 29, 93, 6, 2, 7, 395, 62, 30, 1211, 493, 37, 26, 66, 2, 29, 299, 4, 172, 243, 7, 217, 11, 4, 2, 7106, 22, 4, 2, 1038, 13, 70, 243, 7, 3468, 19, 9533, 11, 15, 236, 1313, 136, 121, 29, 5, 5612, 26, 112, 4382, 180, 34, 3304, 1768, 5, 320, 4, 162, 5097, 568, 319, 4, 3324, 5235, 1456, 269, 8, 401, 56, 19, 5612, 16, 142, 334, 88, 146, 243, 7, 11, 2, 2756, 150, 11, 4, 2, 2550, 10, 10, 7173, 828, 4, 206, 170, 33, 6, 52, 4968, 225, 55, 117, 180, 58, 11, 14, 22, 48, 50, 16, 101, 329, 12, 62, 30, 35, 6637, 1532, 22, 4079, 11, 4, 1986, 1199, 35, 735, 18, 118, 204, 881, 15, 291, 10, 10, 7173, 82, 93, 52, 361, 7, 4, 162, 5097, 2, 5, 4, 785, 6542, 49, 7, 4, 172, 2572, 7, 665, 26, 303, 343, 11, 23, 4, 2, 11, 192, 4079, 11, 4, 1986, 9, 44, 84, 24, 2, 54, 36, 66, 144, 11, 68, 205, 118, 602, 55, 729, 174, 8, 23, 4, 2, 10, 10, 4079, 11, 4, 1986, 127, 316, 2606, 37, 16, 3445, 19, 12, 150, 138, 426, 2, 7173, 79, 49, 542, 162, 5097, 4413, 84, 11, 4, 392, 555]),\n",
       "       list([1, 48, 25, 942, 72, 4, 86, 31, 16, 66, 128, 31, 168, 33, 2695, 1983, 1331, 59, 9, 147, 384, 2747, 250, 168, 33, 4232, 4601, 59, 9, 43, 117, 2418, 2348, 187, 59, 9, 164, 84, 92, 6467, 41, 333, 7422, 16, 1036, 5, 893, 11, 86, 20, 150, 29, 9, 896, 393, 65, 9, 24, 15, 52, 5, 13, 81, 24, 391, 138, 161, 36, 97, 14, 31, 86, 12, 9, 4, 454, 2, 156, 164, 19, 65, 14, 9, 24, 2747, 14, 9, 395, 86, 31, 47, 128, 156, 128, 65, 5, 94, 384, 13, 104, 15, 4, 228, 9, 128, 11, 2747, 2998, 300, 5, 4, 228, 9, 128, 11, 2747, 2998, 342, 12, 9, 24, 4, 249, 20, 13, 219, 21, 11, 2, 19, 86, 31, 94, 31, 194, 194, 194, 164]),\n",
       "       list([1, 13, 244, 6, 194, 337, 6, 2, 787, 1716, 5, 207, 110, 98, 32, 5, 14, 9, 31, 7, 4, 118, 45, 163, 731, 5, 6, 356, 13, 386, 14, 18, 32, 2088, 45, 87, 18, 117, 362, 88, 45, 73, 2379, 5, 87, 18, 1473, 5, 1629, 88, 45, 163, 5, 24, 120, 4, 350, 13, 296, 12, 54, 13, 16, 117, 5, 13, 131, 106, 12, 150, 12, 47, 87, 411, 15, 61, 223, 5, 13, 3194, 32, 4, 58, 4, 116, 9, 87, 5, 12, 115, 214, 154, 48, 25, 40, 2447, 2953, 5, 6978, 25, 80, 119, 14, 207, 296, 111, 6, 2379, 20, 11, 61, 58, 5, 14, 9, 4, 118, 7, 98, 32, 806, 910, 13, 545, 386, 14, 20, 5, 32, 4, 2, 787, 1716, 287, 36, 32, 1271, 8, 32, 2088, 5, 26, 32, 955, 5, 55, 441]),\n",
       "       list([1, 13, 43, 1769, 886, 6, 274, 44, 8269, 14, 20, 16, 2357, 6213, 45, 40, 36, 188, 6, 1029, 7, 1433, 5, 43, 93, 285, 56, 27, 2, 5, 2, 71, 73, 4261, 180, 8, 4, 333, 54, 4, 58, 16, 56, 36, 317, 726, 36, 69, 32, 7, 4, 278, 42, 24, 36, 69, 3628, 7, 175, 1320, 121, 8, 471, 525, 2, 115, 219, 90, 33, 4, 3756, 29, 16, 579, 15, 8269, 1539, 18, 27, 6979, 103, 8269, 317, 2, 115, 60, 219, 8269, 159, 4, 314, 8269, 16, 556, 64, 4453, 7, 90, 4, 96, 27, 1366, 1066, 1131, 71, 2, 8269, 115, 8138, 6, 1982, 34, 309, 40, 29, 122, 11, 14, 20, 48, 13, 69, 115, 332, 4, 274, 279, 13, 100, 28, 510, 4, 20, 4, 116, 16, 6, 227, 120, 4, 350, 11, 1370, 4, 206, 16, 3701, 17, 73, 23, 333, 197, 13, 824, 48, 13, 62, 28, 510, 12, 76, 60, 48, 13, 1869, 332, 4, 274]),\n",
       "       list([1, 5060, 1712, 5, 9774, 2, 193, 49, 5142, 7025, 34, 6, 4847, 763, 49, 1702, 34, 6, 762, 7, 9325, 208, 2, 2, 4, 91, 1572, 9775, 7, 4, 91, 2, 2, 23, 4, 1225, 8, 316, 37, 2018, 533, 6, 2, 5, 2423, 14, 17, 4, 2, 7, 9174, 279, 68, 375, 22, 80, 4337, 2, 1802, 2, 5, 4, 2, 7, 4, 2, 2, 1416, 2893, 1702, 34, 49, 2, 2, 2, 5, 683, 68, 22, 51, 4, 182, 738, 8, 124, 44, 5281, 1116, 14, 22, 2478, 39, 199, 338, 365, 1234, 5, 583, 7, 692, 8, 4, 91, 1121, 1553, 7, 2, 92, 437, 129, 58, 5, 278, 43, 471, 23, 129, 244, 1878, 5, 1632, 8, 3409, 2, 18, 6, 378, 7, 504, 18, 879, 5, 490, 79, 4, 172, 749, 19, 4, 172, 651, 7, 2772, 4762]),\n",
       "       list([1, 14, 66, 9, 35, 1048, 22, 24, 64, 127, 12, 6911, 4, 5646, 1651, 7, 2, 5, 2, 84, 8, 3235, 68, 2, 544, 21, 12, 82, 287, 4, 2351, 1630, 56, 18, 94, 2, 2, 5, 4144, 8112, 18, 406, 2657, 5, 532, 7238, 5783, 9, 617, 17, 6, 55, 2510, 5, 3389, 2121, 2519, 429, 51, 70, 64, 30, 2, 17, 6, 5707, 5840, 4170, 7, 101, 281, 7, 2, 42, 1351, 134, 1057, 28, 4148, 6, 5770, 1025, 233, 4725, 159, 10, 10, 5, 11, 4, 1665, 2, 75, 67, 4, 2997, 280, 174, 3661, 4, 5849, 5, 2, 32, 281, 7, 635, 45, 483, 2244, 8, 106, 4, 2405, 5592, 7, 4, 6780, 1275, 368, 73, 15, 4, 2, 7, 9431, 15, 1106, 7575, 9, 6, 6646, 196, 343, 34, 2, 298, 2, 5, 68, 1573, 2, 5437, 4, 929, 166, 12, 788, 15, 14, 9, 24, 6, 7673, 7, 248, 42, 4173, 929, 21, 35, 5399, 2, 7, 6, 84, 5, 94, 1372, 997, 18, 94, 705, 371, 6, 728, 585, 18, 259, 19, 6, 5321, 134, 2531, 22, 1188, 1833, 263, 2, 196, 412, 5783, 10, 10, 75, 359, 8, 2, 4, 4147, 15, 257, 704, 215, 30, 1668, 8, 2257, 94, 1372, 5, 8, 2061, 11, 771, 15, 4, 2159, 1085, 1183, 86, 6925, 11, 14, 1773, 9, 4, 359, 8, 124, 51, 4, 6097, 7, 4, 904, 26, 5, 14, 664, 127, 6, 87, 292, 7, 399, 43, 15]),\n",
       "       list([1, 48, 25, 1452, 143, 4, 3352, 14, 22, 70, 30, 33, 211, 1350, 5, 85, 211, 179, 2, 45, 32, 50, 21, 4, 392, 2492, 11, 4, 4837, 1181, 2, 9427, 33, 4, 58, 134, 26, 4, 5014, 7, 6, 1031, 2634, 15, 9, 131, 395, 46, 92, 1128, 99, 515, 18, 4, 2, 131, 11, 3087, 18, 4, 211, 36, 26, 6, 2, 137, 4, 22, 2679, 23, 4, 4198, 876, 7, 2, 5, 45, 2, 33, 4, 58, 15, 584, 256, 6, 3539, 508, 11, 4, 5986, 7, 4, 2, 2, 2, 3368, 5, 2, 11, 4, 6737, 943, 7, 1222, 2472, 4983, 6, 2, 8, 4, 1057, 39, 31, 37, 16, 50, 874, 2004, 4, 999, 128, 74, 207, 110, 159]),\n",
       "       list([1, 17, 6, 564, 13, 169, 108, 14, 78, 231, 12, 83, 365, 6, 601, 3688, 11, 4, 393, 740, 44, 3503, 13, 16, 487, 128, 537, 74, 14, 11, 2, 1242, 78, 116, 78, 487, 78, 940, 5, 54, 1283, 32, 295, 4, 959, 9, 601, 5, 964, 2104, 10, 10, 4, 64, 155, 14, 20, 1030, 8, 5283, 9, 2, 4, 6259, 2, 83, 3121, 68, 58, 37, 62, 1419, 641, 142, 38, 862, 398, 45, 24, 1614, 1096, 1393, 2570, 1397, 629, 905, 164, 10, 10, 4, 105, 26, 1035, 5, 357, 19, 57, 943, 4, 114, 9, 17, 5715, 17, 35, 2, 70, 36, 820, 1319, 8, 177, 6, 171, 55, 1081, 156, 37, 32, 215, 30, 184, 1680, 18, 157, 42, 1383, 31, 7, 134, 364, 352, 1724, 102, 80, 471, 46, 8, 30, 4, 375, 3995, 1219, 14, 229, 144, 28, 77, 343, 8, 347, 6, 3998, 1935, 24, 6, 20, 10, 10, 449, 5, 236, 21, 24, 222, 6, 2, 2, 2, 255, 7, 265, 47, 4, 2124, 8, 516, 349, 5, 372, 1453, 41, 3587, 209, 6, 1651, 5, 11, 6, 686, 2479, 10, 10, 798, 14, 2165, 40, 12, 80, 2, 25, 19, 35, 2]),\n",
       "       list([1, 146, 2437, 153, 154, 5, 13, 119, 14, 1072, 2967, 3622, 5, 8152, 2, 97, 6, 87, 2162, 14, 20, 9, 66, 163, 5, 13, 119, 4, 690, 61, 514, 690, 26, 25, 191, 401, 6, 52, 912, 180, 5, 15, 613, 44, 5798, 13, 104, 45, 446, 803, 1923, 9, 6447, 14, 16, 4, 236, 20, 19, 2, 2, 37, 256, 4, 544, 7, 2160, 2151, 61, 514, 109, 9, 1441, 21, 13, 169, 2, 544, 9, 38, 253, 8, 842, 261, 49, 139, 13, 165, 258, 629, 13, 131, 28, 6, 254, 58, 149, 4, 136, 19, 7329, 925, 5, 9713, 2629, 4, 595, 46, 7, 72, 85, 105, 40, 711, 2, 13, 258, 66, 163, 4, 277, 16, 4276, 5, 16, 165, 619, 93, 72, 1415, 6, 117, 13, 202, 14, 20, 693, 158]),\n",
       "       list([1, 14, 22, 62, 633, 2, 17, 4, 249, 20, 365, 126, 126, 21, 11, 61, 652, 12, 9, 869, 4, 1529, 4, 4442, 458, 5, 881, 166, 14, 22, 4828, 13, 1247, 4, 20, 1864, 2, 143, 4, 4866, 6523, 33, 61, 719, 6567, 2022, 72, 5, 49, 369, 95, 296, 12, 3397, 1864, 247, 1819, 12, 515, 3860, 15, 14, 286, 101, 1280, 22, 305, 6, 4828, 2, 7, 51, 80, 242, 30, 592, 2, 236, 22, 33, 86, 75, 71, 1471, 5, 71, 1930, 18, 4, 288, 1799, 8, 30, 679, 125, 21, 2670, 11, 263, 2, 1110, 57, 31, 100, 30, 2627, 305, 75, 296, 4, 22, 208, 143, 33, 4, 130, 75, 515, 5372, 75, 69, 258, 101, 2, 925, 142, 15, 25, 70, 2, 462, 33, 18, 634, 1864, 1104, 18, 32, 4, 355, 1007, 75, 515, 1177, 32, 263, 85, 369, 5, 36, 99, 4746, 14, 286, 6, 157, 7, 4366, 22, 14, 16, 6, 22, 15, 25, 70, 371, 4440, 624, 1104, 33, 14, 16, 6, 22, 15, 259, 70, 358, 14, 16, 1262])],\n",
       "      dtype=object)"
      ]
     },
     "execution_count": 3,
     "metadata": {},
     "output_type": "execute_result"
    }
   ],
   "source": [
    "X_train[0:10]"
   ]
  },
  {
   "cell_type": "markdown",
   "metadata": {},
   "source": [
    "Zoals je kunt zien bevat `X_train` vectoren met getallen. Elke vector staat voor een review. Elk getal staat voor een woord.\n",
    "\n",
    "Met onderstaande code kun je een vector met getallen terugvertalen naar woorden. Run deze code."
   ]
  },
  {
   "cell_type": "code",
   "execution_count": 4,
   "metadata": {},
   "outputs": [
    {
     "data": {
      "text/plain": [
       "\"? in panic in the streets richard widmark plays u s navy doctor who has his week ? interrupted with a corpse that contains plague as cop paul douglas properly points out the guy died from two bullets in the chest that's not the issue here the two of them become unwilling partners in an effort to find the killers and anyone else exposed to the disease br br as was pointed out by any number of people for some reason director ? kazan did not bother to cast the small parts with anyone that sounds like they're from ? having been to new orleans where the story takes place i can personally ? to that richard widmark and his wife barbara ? ? can be ? because as a navy doctor he could be assigned there but for those that are natives it doesn't work br br but with plague out there and the news being kept a secret the new orleans ? starts a ? of the city's underworld the dead guy came off a ship from europe and he had underworld connections a new orleans wise guy played by jack palance jumps to a whole bunch of ? conclusions and starts ? a cousin of the dead guy who is starting to show plague ? palance got rave reviews in the first film where he received notice br br personally my favorite in this film is zero mostel this happened right before mostel was ? and around that time he made a ? of playing would be tough guys who are really ? he plays the same kind of role in the ? bogart film the ? sadly i can kind of identify with mostel in that last chase scene where he and palance are being chased down by widmark douglas and half the new orleans police seeing the weight challenged zero trying to keep up with palance was something else because i'm kind of in ? league now in the ? department br br kazan kept the action going at a good clip there's very little down time in this film if there was any less it would be an indiana jones film panic in the streets won an oscar for best original screenplay that year br br kazan also made good use of the new orleans ? and the french quarter some of the same kinds of shots are later used in on the ? in fact panic in the streets is about people not ? when they really should in their own best interest very similar again to on the ? br br panic in the streets does everyone proud who was associated with it now why couldn't ? kazan get some decent new orleans sounding people in the small roles\""
      ]
     },
     "execution_count": 4,
     "metadata": {},
     "output_type": "execute_result"
    }
   ],
   "source": [
    "word_index = imdb.get_word_index()\n",
    "reverse_word_index = dict([(value, key) for (key, value) in word_index.items()])\n",
    "\n",
    "decoded_review = ' '.join([reverse_word_index.get(i - 3, '?') for i in X_train[0]])\n",
    "decoded_review"
   ]
  },
  {
   "cell_type": "markdown",
   "metadata": {},
   "source": [
    "In de tekst zie je een aantal vraagtekens. Een vraagteken staat in dit geval voor 'onbekend woord'."
   ]
  },
  {
   "cell_type": "markdown",
   "metadata": {},
   "source": [
    "De input is in deze vorm lastig te verwerken voor een neuraal netwerk. De getallen zijn categorische labels. Daarom gebruiken we One-hot-encoding. Helaas kan de `OneHotEncoder` uit sklearn niet overweg met deze input. Daarom maken we de input handmatig geschikt voor het neurale netwerk."
   ]
  },
  {
   "cell_type": "code",
   "execution_count": 5,
   "metadata": {},
   "outputs": [],
   "source": [
    "def vectorize_sequences(sequences, dimension=10000):\n",
    "    # Maak een matrix van de vorm (len(sequences), dimension) met nullen\n",
    "    results = np.zeros((len(sequences), dimension))\n",
    "    for i, sequence in enumerate(sequences):\n",
    "        results[i, sequence] = 1.  # zet de juiste waarden in results[i] op 1\n",
    "    return results"
   ]
  },
  {
   "cell_type": "code",
   "execution_count": 6,
   "metadata": {},
   "outputs": [],
   "source": [
    "X_train = vectorize_sequences(X_train)\n",
    "X_test = vectorize_sequences(X_test)\n",
    "\n",
    "y_train = np.asarray(y_train).astype('float32')\n",
    "y_test = np.asarray(y_test).astype('float32')"
   ]
  },
  {
   "cell_type": "markdown",
   "metadata": {},
   "source": [
    "Controleer of het omzetten van de data goed gegaan is"
   ]
  },
  {
   "cell_type": "code",
   "execution_count": null,
   "metadata": {},
   "outputs": [],
   "source": []
  },
  {
   "cell_type": "markdown",
   "metadata": {},
   "source": [
    "Maak een neuraal netwerk dat met deze data overweg kan."
   ]
  },
  {
   "cell_type": "code",
   "execution_count": null,
   "metadata": {},
   "outputs": [],
   "source": []
  },
  {
   "cell_type": "markdown",
   "metadata": {},
   "source": [
    "Kies een loss function en optimizer en compileer het netwerk. Bedenk hierbij goed welke het meest geschikt is voor het probleem dat je aan het oplossen bent en voor de vorm van de output."
   ]
  },
  {
   "cell_type": "code",
   "execution_count": null,
   "metadata": {},
   "outputs": [],
   "source": []
  },
  {
   "cell_type": "markdown",
   "metadata": {},
   "source": [
    "Split in train en validatieset"
   ]
  },
  {
   "cell_type": "code",
   "execution_count": null,
   "metadata": {},
   "outputs": [],
   "source": []
  },
  {
   "cell_type": "markdown",
   "metadata": {},
   "source": [
    "Train je model model met de gemaakte train- en validatieset. "
   ]
  },
  {
   "cell_type": "code",
   "execution_count": null,
   "metadata": {},
   "outputs": [],
   "source": []
  },
  {
   "cell_type": "markdown",
   "metadata": {},
   "source": [
    "Plot een learning curve. Zet de accuraatheid uit tegen de epochs en maak onderscheid tussen de training en validatie data. Wat zou volgens dit figuur het optimale aantal epochs zijn?"
   ]
  },
  {
   "cell_type": "code",
   "execution_count": null,
   "metadata": {},
   "outputs": [],
   "source": []
  },
  {
   "cell_type": "markdown",
   "metadata": {},
   "source": [
    "Plot een foutcurve. Zet de loss uit tegen de epochs en maak onderscheid tussen de training en validatie data. Bekijk of er misschien sprake is van overfitting/underfitting."
   ]
  },
  {
   "cell_type": "code",
   "execution_count": null,
   "metadata": {},
   "outputs": [],
   "source": []
  },
  {
   "cell_type": "markdown",
   "metadata": {},
   "source": [
    "Test je model"
   ]
  },
  {
   "cell_type": "code",
   "execution_count": null,
   "metadata": {},
   "outputs": [],
   "source": []
  },
  {
   "cell_type": "markdown",
   "metadata": {},
   "source": [
    "Kijk wat er gebeurt met de foutcurves van de train en validatiedata en met de testscore als je verschillende netwerken maakt met verschillende instellingen (aantal lagen, aantal neuronen, optimizer)."
   ]
  },
  {
   "cell_type": "code",
   "execution_count": null,
   "metadata": {},
   "outputs": [],
   "source": []
  },
  {
   "cell_type": "code",
   "execution_count": null,
   "metadata": {},
   "outputs": [],
   "source": []
  },
  {
   "cell_type": "code",
   "execution_count": null,
   "metadata": {},
   "outputs": [],
   "source": []
  },
  {
   "cell_type": "markdown",
   "metadata": {},
   "source": [
    "Bonusvraag: Zoek uit wat dropout lagen voor deep learning zijn en experimenteer met dropout lagen in jouw netwerk. Welke effect heeft dit op de resultaten?"
   ]
  },
  {
   "cell_type": "code",
   "execution_count": null,
   "metadata": {},
   "outputs": [],
   "source": []
  }
 ],
 "metadata": {
  "kernelspec": {
   "display_name": "Python 3 (ipykernel)",
   "language": "python",
   "name": "python3"
  },
  "language_info": {
   "codemirror_mode": {
    "name": "ipython",
    "version": 3
   },
   "file_extension": ".py",
   "mimetype": "text/x-python",
   "name": "python",
   "nbconvert_exporter": "python",
   "pygments_lexer": "ipython3",
   "version": "3.9.5"
  }
 },
 "nbformat": 4,
 "nbformat_minor": 2
}
