{
 "cells": [
  {
   "cell_type": "code",
   "execution_count": 2,
   "id": "daa3cde5",
   "metadata": {},
   "outputs": [
    {
     "name": "stdout",
     "output_type": "stream",
     "text": [
      "Dit is een \"Print\" voor de inisialisatie van gitRepo aka Logbook\n"
     ]
    }
   ],
   "source": [
    "print(\"Dit is een \\\"Print\\\" voor de inisialisatie van gitRepo aka Logbook\")"
   ]
  },
  {
   "cell_type": "code",
   "execution_count": null,
   "id": "2c85c7b6",
   "metadata": {},
   "outputs": [],
   "source": []
  }
 ],
 "metadata": {
  "kernelspec": {
   "display_name": "Python 3 (ipykernel)",
   "language": "python",
   "name": "python3"
  },
  "language_info": {
   "codemirror_mode": {
    "name": "ipython",
    "version": 3
   },
   "file_extension": ".py",
   "mimetype": "text/x-python",
   "name": "python",
   "nbconvert_exporter": "python",
   "pygments_lexer": "ipython3",
   "version": "3.10.9"
  }
 },
 "nbformat": 4,
 "nbformat_minor": 5
}
