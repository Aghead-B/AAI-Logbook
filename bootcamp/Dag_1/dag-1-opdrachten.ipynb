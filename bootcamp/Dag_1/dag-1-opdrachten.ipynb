{
 "cells": [
  {
   "cell_type": "markdown",
   "id": "13a08773",
   "metadata": {},
   "source": [
    "# Hello world exercises:"
   ]
  },
  {
   "cell_type": "code",
   "execution_count": 14,
   "id": "3e4f6a8d",
   "metadata": {},
   "outputs": [
    {
     "name": "stdout",
     "output_type": "stream",
     "text": [
      "Hello world\n"
     ]
    }
   ],
   "source": [
    "print('Hello world')"
   ]
  },
  {
   "cell_type": "code",
   "execution_count": 15,
   "id": "9942bbba",
   "metadata": {},
   "outputs": [
    {
     "name": "stdout",
     "output_type": "stream",
     "text": [
      "Hello world\n"
     ]
    }
   ],
   "source": [
    "hw = 'Hello world'\n",
    "\n",
    "print(hw)"
   ]
  },
  {
   "cell_type": "code",
   "execution_count": 16,
   "id": "6a0076b4",
   "metadata": {},
   "outputs": [
    {
     "name": "stdout",
     "output_type": "stream",
     "text": [
      "l\n"
     ]
    }
   ],
   "source": [
    "print(hw[2])"
   ]
  },
  {
   "cell_type": "code",
   "execution_count": 24,
   "id": "868ba8e6",
   "metadata": {},
   "outputs": [
    {
     "name": "stdout",
     "output_type": "stream",
     "text": [
      "Hello\n"
     ]
    }
   ],
   "source": [
    "wordArray = hw.split()\n",
    "\n",
    "print(wordArray[0])"
   ]
  },
  {
   "cell_type": "code",
   "execution_count": 25,
   "id": "f51e961c",
   "metadata": {},
   "outputs": [
    {
     "name": "stdout",
     "output_type": "stream",
     "text": [
      "d\n"
     ]
    }
   ],
   "source": [
    "print(hw[-1])"
   ]
  },
  {
   "cell_type": "code",
   "execution_count": 27,
   "id": "3e3bd5bb",
   "metadata": {},
   "outputs": [
    {
     "name": "stdout",
     "output_type": "stream",
     "text": [
      "Hello world\n"
     ]
    }
   ],
   "source": [
    "def printHelloWorld():\n",
    "    print('Hello world')\n",
    "\n",
    "printHelloWorld()"
   ]
  },
  {
   "cell_type": "code",
   "execution_count": 28,
   "id": "dd82ed28",
   "metadata": {
    "scrolled": true
   },
   "outputs": [
    {
     "data": {
      "text/plain": [
       "'Hello world'"
      ]
     },
     "execution_count": 28,
     "metadata": {},
     "output_type": "execute_result"
    }
   ],
   "source": [
    "# function for printen t text\n",
    "def helloWorld():\n",
    "    return('Hello world')\n",
    "\n",
    "helloWorld()"
   ]
  },
  {
   "cell_type": "code",
   "execution_count": 42,
   "id": "2f9ca625",
   "metadata": {},
   "outputs": [
    {
     "name": "stdout",
     "output_type": "stream",
     "text": [
      "Hi this is a function that prints a given text\n"
     ]
    }
   ],
   "source": [
    "# function for printen a given text\n",
    "def printText(text: str):\n",
    "    print(text)\n",
    "\n",
    "printText('Hi this is a function that prints a given text')"
   ]
  },
  {
   "cell_type": "code",
   "execution_count": 40,
   "id": "4ab37289",
   "metadata": {},
   "outputs": [
    {
     "name": "stdout",
     "output_type": "stream",
     "text": [
      "35\n"
     ]
    }
   ],
   "source": [
    "# function for printen a given variable\n",
    "def printVariable(var):\n",
    "    print(var)\n",
    "\n",
    "printVariable(5*7)"
   ]
  },
  {
   "cell_type": "code",
   "execution_count": null,
   "id": "4bb65a00",
   "metadata": {},
   "outputs": [],
   "source": []
  }
 ],
 "metadata": {
  "kernelspec": {
   "display_name": "Python 3 (ipykernel)",
   "language": "python",
   "name": "python3"
  },
  "language_info": {
   "codemirror_mode": {
    "name": "ipython",
    "version": 3
   },
   "file_extension": ".py",
   "mimetype": "text/x-python",
   "name": "python",
   "nbconvert_exporter": "python",
   "pygments_lexer": "ipython3",
   "version": "3.10.9"
  }
 },
 "nbformat": 4,
 "nbformat_minor": 5
}
