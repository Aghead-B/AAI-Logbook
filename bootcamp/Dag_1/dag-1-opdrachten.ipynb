{
 "cells": [
  {
   "cell_type": "markdown",
   "id": "dcfae9a4",
   "metadata": {},
   "source": [
    "# Hello world exercises:"
   ]
  },
  {
   "cell_type": "code",
   "execution_count": 14,
   "id": "0d1a390a",
   "metadata": {},
   "outputs": [
    {
     "name": "stdout",
     "output_type": "stream",
     "text": [
      "Hello world\n"
     ]
    }
   ],
   "source": [
    "print('Hello world')"
   ]
  },
  {
   "cell_type": "code",
   "execution_count": 15,
   "id": "ab9abdc2",
   "metadata": {},
   "outputs": [
    {
     "name": "stdout",
     "output_type": "stream",
     "text": [
      "Hello world\n"
     ]
    }
   ],
   "source": [
    "hw = 'Hello world'\n",
    "\n",
    "print(hw)"
   ]
  },
  {
   "cell_type": "code",
   "execution_count": 16,
   "id": "7b3c595b",
   "metadata": {},
   "outputs": [
    {
     "name": "stdout",
     "output_type": "stream",
     "text": [
      "l\n"
     ]
    }
   ],
   "source": [
    "print(hw[2])"
   ]
  },
  {
   "cell_type": "code",
   "execution_count": 24,
   "id": "da92559d",
   "metadata": {},
   "outputs": [
    {
     "name": "stdout",
     "output_type": "stream",
     "text": [
      "Hello\n"
     ]
    }
   ],
   "source": [
    "wordArray = hw.split()\n",
    "\n",
    "print(wordArray[0])"
   ]
  },
  {
   "cell_type": "code",
   "execution_count": 25,
   "id": "c012f481",
   "metadata": {},
   "outputs": [
    {
     "name": "stdout",
     "output_type": "stream",
     "text": [
      "d\n"
     ]
    }
   ],
   "source": [
    "print(hw[-1])"
   ]
  },
  {
   "cell_type": "code",
   "execution_count": 27,
   "id": "22c6fef0",
   "metadata": {},
   "outputs": [
    {
     "name": "stdout",
     "output_type": "stream",
     "text": [
      "Hello world\n"
     ]
    }
   ],
   "source": [
    "def printHelloWorld():\n",
    "    print('Hello world')\n",
    "\n",
    "printHelloWorld()"
   ]
  },
  {
   "cell_type": "code",
   "execution_count": 28,
   "id": "97d1980d",
   "metadata": {
    "scrolled": true
   },
   "outputs": [
    {
     "data": {
      "text/plain": [
       "'Hello world'"
      ]
     },
     "execution_count": 28,
     "metadata": {},
     "output_type": "execute_result"
    }
   ],
   "source": [
    "def helloWorld():\n",
    "    return('Hello world')\n",
    "\n",
    "helloWorld()"
   ]
  },
  {
   "cell_type": "code",
   "execution_count": 42,
   "id": "4781ecb2",
   "metadata": {},
   "outputs": [
    {
     "name": "stdout",
     "output_type": "stream",
     "text": [
      "Hi this is a function that prints a given text\n"
     ]
    }
   ],
   "source": [
    "def printText(text: str):\n",
    "    print(text)\n",
    "\n",
    "printText('Hi this is a function that prints a given text')"
   ]
  },
  {
   "cell_type": "code",
   "execution_count": 40,
   "id": "19b534e5",
   "metadata": {},
   "outputs": [
    {
     "name": "stdout",
     "output_type": "stream",
     "text": [
      "35\n"
     ]
    }
   ],
   "source": [
    "def printVariable(var):\n",
    "    print(var)\n",
    "\n",
    "printVariable(5*7)"
   ]
  },
  {
   "cell_type": "code",
   "execution_count": null,
   "id": "d7f77160",
   "metadata": {},
   "outputs": [],
   "source": []
  }
 ],
 "metadata": {
  "kernelspec": {
   "display_name": "Python 3 (ipykernel)",
   "language": "python",
   "name": "python3"
  },
  "language_info": {
   "codemirror_mode": {
    "name": "ipython",
    "version": 3
   },
   "file_extension": ".py",
   "mimetype": "text/x-python",
   "name": "python",
   "nbconvert_exporter": "python",
   "pygments_lexer": "ipython3",
   "version": "3.10.9"
  }
 },
 "nbformat": 4,
 "nbformat_minor": 5
}
