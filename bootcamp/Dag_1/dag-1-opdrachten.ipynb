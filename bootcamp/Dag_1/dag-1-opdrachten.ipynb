{
 "cells": [
  {
   "cell_type": "markdown",
   "id": "5e6d55ee",
   "metadata": {},
   "source": [
    "# Hello world exercises:"
   ]
  },
  {
   "cell_type": "code",
   "execution_count": 43,
   "id": "71b1e699",
   "metadata": {},
   "outputs": [
    {
     "name": "stdout",
     "output_type": "stream",
     "text": [
      "Hello world\n"
     ]
    }
   ],
   "source": [
    "print('Hello world')"
   ]
  },
  {
   "cell_type": "code",
   "execution_count": 44,
   "id": "8820b3aa",
   "metadata": {},
   "outputs": [
    {
     "name": "stdout",
     "output_type": "stream",
     "text": [
      "Hello world\n"
     ]
    }
   ],
   "source": [
    "hw = 'Hello world'\n",
    "\n",
    "print(hw)"
   ]
  },
  {
   "cell_type": "code",
   "execution_count": 45,
   "id": "d1c10632",
   "metadata": {},
   "outputs": [
    {
     "name": "stdout",
     "output_type": "stream",
     "text": [
      "l\n"
     ]
    }
   ],
   "source": [
    "print(hw[2])"
   ]
  },
  {
   "cell_type": "code",
   "execution_count": 46,
   "id": "3222f10c",
   "metadata": {},
   "outputs": [
    {
     "name": "stdout",
     "output_type": "stream",
     "text": [
      "Hello\n"
     ]
    }
   ],
   "source": [
    "wordArray = hw.split()\n",
    "\n",
    "print(wordArray[0])"
   ]
  },
  {
   "cell_type": "code",
   "execution_count": 47,
   "id": "f62edbf3",
   "metadata": {},
   "outputs": [
    {
     "name": "stdout",
     "output_type": "stream",
     "text": [
      "d\n"
     ]
    }
   ],
   "source": [
    "print(hw[-1])"
   ]
  },
  {
   "cell_type": "code",
   "execution_count": 48,
   "id": "781bcc0f",
   "metadata": {},
   "outputs": [
    {
     "name": "stdout",
     "output_type": "stream",
     "text": [
      "Hello world\n"
     ]
    }
   ],
   "source": [
    "# function for printing \"Hello world\"\n",
    "def printHelloWorld():\n",
    "    print('Hello world')\n",
    "\n",
    "printHelloWorld()"
   ]
  },
  {
   "cell_type": "code",
   "execution_count": 49,
   "id": "6a7da5b2",
   "metadata": {
    "scrolled": true
   },
   "outputs": [
    {
     "data": {
      "text/plain": [
       "'Hello world'"
      ]
     },
     "execution_count": 49,
     "metadata": {},
     "output_type": "execute_result"
    }
   ],
   "source": [
    "# function for to return \"Hello world\"\n",
    "def helloWorld():\n",
    "    return('Hello world')\n",
    "\n",
    "helloWorld()"
   ]
  },
  {
   "cell_type": "code",
   "execution_count": 50,
   "id": "4a9dbb8d",
   "metadata": {},
   "outputs": [
    {
     "name": "stdout",
     "output_type": "stream",
     "text": [
      "Hi this is a function that prints a given text\n"
     ]
    }
   ],
   "source": [
    "# function for printing a given text\n",
    "def printText(text: str):\n",
    "    print(text)\n",
    "\n",
    "printText('Hi this is a function that prints a given text')"
   ]
  },
  {
   "cell_type": "code",
   "execution_count": 51,
   "id": "2efe14e1",
   "metadata": {},
   "outputs": [
    {
     "name": "stdout",
     "output_type": "stream",
     "text": [
      "35\n"
     ]
    }
   ],
   "source": [
    "# function for printing a given variable\n",
    "def printVariable(var):\n",
    "    print(var)\n",
    "\n",
    "printVariable(5*7)"
   ]
  },
  {
   "cell_type": "markdown",
   "id": "71f1ccda",
   "metadata": {},
   "source": [
    "# Exercises & lists:"
   ]
  },
  {
   "cell_type": "code",
   "execution_count": 53,
   "id": "755bdbac",
   "metadata": {},
   "outputs": [
    {
     "name": "stdout",
     "output_type": "stream",
     "text": [
      "2\n"
     ]
    }
   ],
   "source": [
    "print(1+1)"
   ]
  },
  {
   "cell_type": "code",
   "execution_count": 89,
   "id": "df7310da",
   "metadata": {},
   "outputs": [
    {
     "name": "stdout",
     "output_type": "stream",
     "text": [
      "[1, 2, 3, 4, 5, 6, 7, 8, 9, 10]\n",
      "[1, 2, 3, 4, 5, 6, 7, 8, 9, 10, 11, 12, 13, 14, 15]\n",
      "[6, 7, 8, 9, 10, 11, 12, 13, 14, 15, 16, 17, 18, 19, 20]\n",
      "195\n"
     ]
    }
   ],
   "source": [
    "# create a list in a range of 1-10\n",
    "a = [*range(1, 11)]\n",
    "  \n",
    "print(a)\n",
    "\n",
    "b = [11, 12, 13, 14, 15]\n",
    "\n",
    "# extending list a with list b\n",
    "a.extend(b)\n",
    "\n",
    "print(a)\n",
    "\n",
    "# adding 5 to every element in the list a\n",
    "c = [x+5 for x in a]\n",
    "\n",
    "print(c)\n",
    "\n",
    "summ = 0 \n",
    "for x in c:\n",
    "    summ += x\n",
    "print(summ)\n",
    "\n",
    "    "
   ]
  },
  {
   "cell_type": "code",
   "execution_count": 92,
   "id": "248dd2b9",
   "metadata": {},
   "outputs": [
    {
     "name": "stdout",
     "output_type": "stream",
     "text": [
      "5050\n"
     ]
    }
   ],
   "source": [
    "# reken ∑𝑖 uit voor i=100\n",
    "result = 0\n",
    "for x in range(1,101):\n",
    "    result += x\n",
    "print (result)"
   ]
  },
  {
   "cell_type": "markdown",
   "id": "ca1c5f5a",
   "metadata": {},
   "source": [
    "# More functions & conditionals: "
   ]
  },
  {
   "cell_type": "code",
   "execution_count": 93,
   "id": "821f3ac4",
   "metadata": {},
   "outputs": [
    {
     "name": "stdout",
     "output_type": "stream",
     "text": [
      "False\n"
     ]
    }
   ],
   "source": [
    "print(5 == 6)"
   ]
  },
  {
   "cell_type": "code",
   "execution_count": 94,
   "id": "53b2fc49",
   "metadata": {},
   "outputs": [
    {
     "name": "stdout",
     "output_type": "stream",
     "text": [
      "True\n"
     ]
    }
   ],
   "source": [
    "print(5 != 6)"
   ]
  },
  {
   "cell_type": "code",
   "execution_count": 95,
   "id": "75b8ccaf",
   "metadata": {},
   "outputs": [
    {
     "name": "stdout",
     "output_type": "stream",
     "text": [
      "True\n"
     ]
    }
   ],
   "source": [
    "print(5 < 6)"
   ]
  },
  {
   "cell_type": "code",
   "execution_count": 96,
   "id": "a83d2375",
   "metadata": {},
   "outputs": [
    {
     "name": "stdout",
     "output_type": "stream",
     "text": [
      "False\n"
     ]
    }
   ],
   "source": [
    "print(5 > 6)"
   ]
  },
  {
   "cell_type": "code",
   "execution_count": 97,
   "id": "20c3237f",
   "metadata": {},
   "outputs": [
    {
     "name": "stdout",
     "output_type": "stream",
     "text": [
      "False\n"
     ]
    }
   ],
   "source": [
    "print(5 >= 6)"
   ]
  },
  {
   "cell_type": "code",
   "execution_count": 98,
   "id": "cce35b92",
   "metadata": {},
   "outputs": [
    {
     "name": "stdout",
     "output_type": "stream",
     "text": [
      "True\n"
     ]
    }
   ],
   "source": [
    "print(5 <= 6)"
   ]
  },
  {
   "cell_type": "code",
   "execution_count": 102,
   "id": "70af8b16",
   "metadata": {},
   "outputs": [
    {
     "name": "stdout",
     "output_type": "stream",
     "text": [
      "True\n"
     ]
    }
   ],
   "source": [
    "# single chars\n",
    "print('s' in 'Mississippi')"
   ]
  },
  {
   "cell_type": "code",
   "execution_count": 103,
   "id": "0ea884dc",
   "metadata": {},
   "outputs": [
    {
     "name": "stdout",
     "output_type": "stream",
     "text": [
      "True\n"
     ]
    }
   ],
   "source": [
    "# substrings\n",
    "print('sip' in 'Mississippi')"
   ]
  },
  {
   "cell_type": "code",
   "execution_count": 104,
   "id": "da9ea048",
   "metadata": {},
   "outputs": [
    {
     "name": "stdout",
     "output_type": "stream",
     "text": [
      "False\n"
     ]
    }
   ],
   "source": [
    "# case-sensitive\n",
    "print('mis' in 'Mississippi')"
   ]
  },
  {
   "cell_type": "code",
   "execution_count": 115,
   "id": "d28c83d1",
   "metadata": {},
   "outputs": [
    {
     "name": "stdout",
     "output_type": "stream",
     "text": [
      "Variables are not type of String\n"
     ]
    }
   ],
   "source": [
    "\"\"\" \n",
    "this function can print \n",
    "two var of type string and \n",
    "checks if the variables are type of string\n",
    "\"\"\"\n",
    "def addTwoStrings(fString, sString):\n",
    "    if type(fString) == str and type(sString) == str:\n",
    "        print(\"{} {}\".format(fString, sString))\n",
    "    else:\n",
    "        print(\"Variables are not type of String\")\n",
    "\n",
    "addTwoStrings(8, \"world\")"
   ]
  },
  {
   "cell_type": "code",
   "execution_count": 116,
   "id": "287cecca",
   "metadata": {},
   "outputs": [
    {
     "name": "stdout",
     "output_type": "stream",
     "text": [
      "10\n"
     ]
    }
   ],
   "source": [
    "\"\"\" \n",
    "this function add two integers\n",
    "\"\"\"\n",
    "def addTwoIntegers(fInt, sInt):\n",
    "    print(fInt + sInt)\n",
    "\n",
    "addTwoIntegers(8,2)"
   ]
  },
  {
   "cell_type": "code",
   "execution_count": 121,
   "id": "9364543f",
   "metadata": {},
   "outputs": [
    {
     "name": "stdout",
     "output_type": "stream",
     "text": [
      "The second int must be greater than the first int\n"
     ]
    }
   ],
   "source": [
    "\"\"\" \n",
    "this function add two integers only if the\n",
    "first int is smaller than the second int\n",
    "\"\"\"\n",
    "def addTwoIntegers(fInt, sInt):\n",
    "    if fInt < sInt:\n",
    "        print(fInt + sInt)\n",
    "    else:\n",
    "        print(\"The second int must be greater than the first int\")\n",
    "\n",
    "addTwoIntegers(8,2)"
   ]
  },
  {
   "cell_type": "code",
   "execution_count": 124,
   "id": "c1205325",
   "metadata": {},
   "outputs": [
    {
     "name": "stdout",
     "output_type": "stream",
     "text": [
      "The two ints must be even\n"
     ]
    }
   ],
   "source": [
    "\"\"\" \n",
    "this function add two integers only\n",
    "the two ints are even\n",
    "\"\"\"\n",
    "def addTwoIntegers(fInt, sInt):\n",
    "    if fInt == sInt:\n",
    "        print(fInt + sInt)\n",
    "    else:\n",
    "        print(\"The two ints must be even\")\n",
    "\n",
    "addTwoIntegers(8,2)\n",
    "\n"
   ]
  },
  {
   "cell_type": "code",
   "execution_count": 147,
   "id": "1734708b",
   "metadata": {},
   "outputs": [
    {
     "name": "stdout",
     "output_type": "stream",
     "text": [
      "[2, 3, 4]\n"
     ]
    }
   ],
   "source": [
    "# add 1 to the smallest number until it's even with the other one\n",
    "            \n",
    "def getIncreasingNumbers(numbers):\n",
    "    lowestNumber = min(numbers)\n",
    "    result = []\n",
    "    while lowestNumber < max(numbers):\n",
    "        for i in numbers:\n",
    "            if lowestNumber < i:\n",
    "                result.append(lowestNumber)\n",
    "                lowestNumber += 1\n",
    "    return result\n",
    "\n",
    "print(getIncreasingNumbers([5, 2]))"
   ]
  },
  {
   "cell_type": "code",
   "execution_count": 146,
   "id": "48b36854",
   "metadata": {},
   "outputs": [
    {
     "name": "stdout",
     "output_type": "stream",
     "text": [
      "5\n"
     ]
    }
   ],
   "source": [
    "import math\n",
    "\n",
    "# multiply the first index with pi and print the greatest number\n",
    "\n",
    "def multiplyFirstWithPiAndGetMax(lst):\n",
    "    firstNumber = lst[0]\n",
    "    result = firstNumber * math.pi\n",
    "    lst.append(result)\n",
    "    return max(lst)\n",
    "\n",
    "print(multiplyFirstWithPiAndGetMax([1, 2, 3, 4, 5]))"
   ]
  },
  {
   "cell_type": "code",
   "execution_count": null,
   "id": "d22be368",
   "metadata": {},
   "outputs": [],
   "source": []
  },
  {
   "cell_type": "code",
   "execution_count": null,
   "id": "9aca6b65",
   "metadata": {},
   "outputs": [],
   "source": []
  }
 ],
 "metadata": {
  "kernelspec": {
   "display_name": "Python 3 (ipykernel)",
   "language": "python",
   "name": "python3"
  },
  "language_info": {
   "codemirror_mode": {
    "name": "ipython",
    "version": 3
   },
   "file_extension": ".py",
   "mimetype": "text/x-python",
   "name": "python",
   "nbconvert_exporter": "python",
   "pygments_lexer": "ipython3",
   "version": "3.10.9"
  }
 },
 "nbformat": 4,
 "nbformat_minor": 5
}
