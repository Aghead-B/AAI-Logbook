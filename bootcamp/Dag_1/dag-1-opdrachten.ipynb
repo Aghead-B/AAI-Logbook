{
 "cells": [
  {
   "cell_type": "markdown",
   "id": "b7099d65",
   "metadata": {},
   "source": [
    "# Hello world exercises:"
   ]
  },
  {
   "cell_type": "code",
   "execution_count": 43,
   "id": "75870738",
   "metadata": {},
   "outputs": [
    {
     "name": "stdout",
     "output_type": "stream",
     "text": [
      "Hello world\n"
     ]
    }
   ],
   "source": [
    "print('Hello world')"
   ]
  },
  {
   "cell_type": "code",
   "execution_count": 44,
   "id": "04a2743e",
   "metadata": {},
   "outputs": [
    {
     "name": "stdout",
     "output_type": "stream",
     "text": [
      "Hello world\n"
     ]
    }
   ],
   "source": [
    "hw = 'Hello world'\n",
    "\n",
    "print(hw)"
   ]
  },
  {
   "cell_type": "code",
   "execution_count": 45,
   "id": "bacb111a",
   "metadata": {},
   "outputs": [
    {
     "name": "stdout",
     "output_type": "stream",
     "text": [
      "l\n"
     ]
    }
   ],
   "source": [
    "print(hw[2])"
   ]
  },
  {
   "cell_type": "code",
   "execution_count": 46,
   "id": "4097fdba",
   "metadata": {},
   "outputs": [
    {
     "name": "stdout",
     "output_type": "stream",
     "text": [
      "Hello\n"
     ]
    }
   ],
   "source": [
    "wordArray = hw.split()\n",
    "\n",
    "print(wordArray[0])"
   ]
  },
  {
   "cell_type": "code",
   "execution_count": 47,
   "id": "26760b86",
   "metadata": {},
   "outputs": [
    {
     "name": "stdout",
     "output_type": "stream",
     "text": [
      "d\n"
     ]
    }
   ],
   "source": [
    "print(hw[-1])"
   ]
  },
  {
   "cell_type": "code",
   "execution_count": 48,
   "id": "96e14aff",
   "metadata": {},
   "outputs": [
    {
     "name": "stdout",
     "output_type": "stream",
     "text": [
      "Hello world\n"
     ]
    }
   ],
   "source": [
    "# function for printing \"Hello world\"\n",
    "def printHelloWorld():\n",
    "    print('Hello world')\n",
    "\n",
    "printHelloWorld()"
   ]
  },
  {
   "cell_type": "code",
   "execution_count": 49,
   "id": "57522a4b",
   "metadata": {
    "scrolled": true
   },
   "outputs": [
    {
     "data": {
      "text/plain": [
       "'Hello world'"
      ]
     },
     "execution_count": 49,
     "metadata": {},
     "output_type": "execute_result"
    }
   ],
   "source": [
    "# function for to return \"Hello world\"\n",
    "def helloWorld():\n",
    "    return('Hello world')\n",
    "\n",
    "helloWorld()"
   ]
  },
  {
   "cell_type": "code",
   "execution_count": 50,
   "id": "486fda79",
   "metadata": {},
   "outputs": [
    {
     "name": "stdout",
     "output_type": "stream",
     "text": [
      "Hi this is a function that prints a given text\n"
     ]
    }
   ],
   "source": [
    "# function for printing a given text\n",
    "def printText(text: str):\n",
    "    print(text)\n",
    "\n",
    "printText('Hi this is a function that prints a given text')"
   ]
  },
  {
   "cell_type": "code",
   "execution_count": 51,
   "id": "3ba62584",
   "metadata": {},
   "outputs": [
    {
     "name": "stdout",
     "output_type": "stream",
     "text": [
      "35\n"
     ]
    }
   ],
   "source": [
    "# function for printing a given variable\n",
    "def printVariable(var):\n",
    "    print(var)\n",
    "\n",
    "printVariable(5*7)"
   ]
  },
  {
   "cell_type": "markdown",
   "id": "655940f1",
   "metadata": {},
   "source": [
    "# Exercises & lists:"
   ]
  },
  {
   "cell_type": "code",
   "execution_count": 53,
   "id": "06624cdf",
   "metadata": {},
   "outputs": [
    {
     "name": "stdout",
     "output_type": "stream",
     "text": [
      "2\n"
     ]
    }
   ],
   "source": [
    "print(1+1)"
   ]
  },
  {
   "cell_type": "code",
   "execution_count": 89,
   "id": "7a6c0ff2",
   "metadata": {},
   "outputs": [
    {
     "name": "stdout",
     "output_type": "stream",
     "text": [
      "[1, 2, 3, 4, 5, 6, 7, 8, 9, 10]\n",
      "[1, 2, 3, 4, 5, 6, 7, 8, 9, 10, 11, 12, 13, 14, 15]\n",
      "[6, 7, 8, 9, 10, 11, 12, 13, 14, 15, 16, 17, 18, 19, 20]\n",
      "195\n"
     ]
    }
   ],
   "source": [
    "# create a list in a range of 1-10\n",
    "a = [*range(1, 11)]\n",
    "  \n",
    "print(a)\n",
    "\n",
    "b = [11, 12, 13, 14, 15]\n",
    "\n",
    "# extending list a with list b\n",
    "a.extend(b)\n",
    "\n",
    "print(a)\n",
    "\n",
    "# adding 5 to every element in the list a\n",
    "c = [x+5 for x in a]\n",
    "\n",
    "print(c)\n",
    "\n",
    "summ = 0 \n",
    "for x in c:\n",
    "    summ += x\n",
    "print(summ)\n",
    "\n",
    "    "
   ]
  },
  {
   "cell_type": "code",
   "execution_count": 92,
   "id": "e784b524",
   "metadata": {},
   "outputs": [
    {
     "name": "stdout",
     "output_type": "stream",
     "text": [
      "5050\n"
     ]
    }
   ],
   "source": [
    "# reken ∑𝑖 uit voor i=100\n",
    "\n",
    "result = 0\n",
    "for x in range(1,101):\n",
    "    result += x\n",
    "print (result)"
   ]
  },
  {
   "cell_type": "code",
   "execution_count": null,
   "id": "32f6877f",
   "metadata": {},
   "outputs": [],
   "source": []
  }
 ],
 "metadata": {
  "kernelspec": {
   "display_name": "Python 3 (ipykernel)",
   "language": "python",
   "name": "python3"
  },
  "language_info": {
   "codemirror_mode": {
    "name": "ipython",
    "version": 3
   },
   "file_extension": ".py",
   "mimetype": "text/x-python",
   "name": "python",
   "nbconvert_exporter": "python",
   "pygments_lexer": "ipython3",
   "version": "3.10.9"
  }
 },
 "nbformat": 4,
 "nbformat_minor": 5
}
