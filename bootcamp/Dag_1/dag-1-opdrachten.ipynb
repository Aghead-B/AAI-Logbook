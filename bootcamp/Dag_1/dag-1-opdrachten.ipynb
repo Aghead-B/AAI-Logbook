{
 "cells": [
  {
   "cell_type": "markdown",
   "id": "62a99cf3",
   "metadata": {},
   "source": [
    "# Hello world exercises:"
   ]
  },
  {
   "cell_type": "code",
   "execution_count": 43,
   "id": "088879ec",
   "metadata": {},
   "outputs": [
    {
     "name": "stdout",
     "output_type": "stream",
     "text": [
      "Hello world\n"
     ]
    }
   ],
   "source": [
    "print('Hello world')"
   ]
  },
  {
   "cell_type": "code",
   "execution_count": 44,
   "id": "f7b7efe7",
   "metadata": {},
   "outputs": [
    {
     "name": "stdout",
     "output_type": "stream",
     "text": [
      "Hello world\n"
     ]
    }
   ],
   "source": [
    "hw = 'Hello world'\n",
    "\n",
    "print(hw)"
   ]
  },
  {
   "cell_type": "code",
   "execution_count": 45,
   "id": "bac57f5c",
   "metadata": {},
   "outputs": [
    {
     "name": "stdout",
     "output_type": "stream",
     "text": [
      "l\n"
     ]
    }
   ],
   "source": [
    "print(hw[2])"
   ]
  },
  {
   "cell_type": "code",
   "execution_count": 46,
   "id": "ecac05a5",
   "metadata": {},
   "outputs": [
    {
     "name": "stdout",
     "output_type": "stream",
     "text": [
      "Hello\n"
     ]
    }
   ],
   "source": [
    "wordArray = hw.split()\n",
    "\n",
    "print(wordArray[0])"
   ]
  },
  {
   "cell_type": "code",
   "execution_count": 47,
   "id": "6df9322a",
   "metadata": {},
   "outputs": [
    {
     "name": "stdout",
     "output_type": "stream",
     "text": [
      "d\n"
     ]
    }
   ],
   "source": [
    "print(hw[-1])"
   ]
  },
  {
   "cell_type": "code",
   "execution_count": 48,
   "id": "9873289c",
   "metadata": {},
   "outputs": [
    {
     "name": "stdout",
     "output_type": "stream",
     "text": [
      "Hello world\n"
     ]
    }
   ],
   "source": [
    "# function for printing \"Hello world\"\n",
    "def printHelloWorld():\n",
    "    print('Hello world')\n",
    "\n",
    "printHelloWorld()"
   ]
  },
  {
   "cell_type": "code",
   "execution_count": 49,
   "id": "bfb2a006",
   "metadata": {
    "scrolled": true
   },
   "outputs": [
    {
     "data": {
      "text/plain": [
       "'Hello world'"
      ]
     },
     "execution_count": 49,
     "metadata": {},
     "output_type": "execute_result"
    }
   ],
   "source": [
    "# function for to return \"Hello world\"\n",
    "def helloWorld():\n",
    "    return('Hello world')\n",
    "\n",
    "helloWorld()"
   ]
  },
  {
   "cell_type": "code",
   "execution_count": 50,
   "id": "9b76e3bf",
   "metadata": {},
   "outputs": [
    {
     "name": "stdout",
     "output_type": "stream",
     "text": [
      "Hi this is a function that prints a given text\n"
     ]
    }
   ],
   "source": [
    "# function for printing a given text\n",
    "def printText(text: str):\n",
    "    print(text)\n",
    "\n",
    "printText('Hi this is a function that prints a given text')"
   ]
  },
  {
   "cell_type": "code",
   "execution_count": 51,
   "id": "ceec9ab1",
   "metadata": {},
   "outputs": [
    {
     "name": "stdout",
     "output_type": "stream",
     "text": [
      "35\n"
     ]
    }
   ],
   "source": [
    "# function for printing a given variable\n",
    "def printVariable(var):\n",
    "    print(var)\n",
    "\n",
    "printVariable(5*7)"
   ]
  },
  {
   "cell_type": "markdown",
   "id": "0a812219",
   "metadata": {},
   "source": [
    "# Exercises & lists:"
   ]
  },
  {
   "cell_type": "code",
   "execution_count": 53,
   "id": "4fb3bf0c",
   "metadata": {},
   "outputs": [
    {
     "name": "stdout",
     "output_type": "stream",
     "text": [
      "2\n"
     ]
    }
   ],
   "source": [
    "print(1+1)"
   ]
  },
  {
   "cell_type": "code",
   "execution_count": 89,
   "id": "1e0a7d56",
   "metadata": {},
   "outputs": [
    {
     "name": "stdout",
     "output_type": "stream",
     "text": [
      "[1, 2, 3, 4, 5, 6, 7, 8, 9, 10]\n",
      "[1, 2, 3, 4, 5, 6, 7, 8, 9, 10, 11, 12, 13, 14, 15]\n",
      "[6, 7, 8, 9, 10, 11, 12, 13, 14, 15, 16, 17, 18, 19, 20]\n",
      "195\n"
     ]
    }
   ],
   "source": [
    "# create a list in a range of 1-10\n",
    "a = [*range(1, 11)]\n",
    "  \n",
    "print(a)\n",
    "\n",
    "b = [11, 12, 13, 14, 15]\n",
    "\n",
    "# extending list a with list b\n",
    "a.extend(b)\n",
    "\n",
    "print(a)\n",
    "\n",
    "# adding 5 to every element in the list a\n",
    "c = [x+5 for x in a]\n",
    "\n",
    "print(c)\n",
    "\n",
    "summ = 0 \n",
    "for x in c:\n",
    "    summ += x\n",
    "print(summ)\n",
    "\n",
    "    "
   ]
  },
  {
   "cell_type": "code",
   "execution_count": 90,
   "id": "72edf87b",
   "metadata": {},
   "outputs": [
    {
     "ename": "SyntaxError",
     "evalue": "Missing parentheses in call to 'print'. Did you mean print(...)? (2836856091.py, line 6)",
     "output_type": "error",
     "traceback": [
      "\u001b[1;36m  Cell \u001b[1;32mIn[90], line 6\u001b[1;36m\u001b[0m\n\u001b[1;33m    print result\u001b[0m\n\u001b[1;37m    ^\u001b[0m\n\u001b[1;31mSyntaxError\u001b[0m\u001b[1;31m:\u001b[0m Missing parentheses in call to 'print'. Did you mean print(...)?\n"
     ]
    }
   ],
   "source": [
    "# reken ∑𝑖 uit voor i=100\n",
    "\n",
    "result = 0\n",
    "for x in range(1,100):\n",
    "    result += x\n",
    "print result"
   ]
  },
  {
   "cell_type": "code",
   "execution_count": null,
   "id": "373790a9",
   "metadata": {},
   "outputs": [],
   "source": []
  }
 ],
 "metadata": {
  "kernelspec": {
   "display_name": "Python 3 (ipykernel)",
   "language": "python",
   "name": "python3"
  },
  "language_info": {
   "codemirror_mode": {
    "name": "ipython",
    "version": 3
   },
   "file_extension": ".py",
   "mimetype": "text/x-python",
   "name": "python",
   "nbconvert_exporter": "python",
   "pygments_lexer": "ipython3",
   "version": "3.10.9"
  }
 },
 "nbformat": 4,
 "nbformat_minor": 5
}
