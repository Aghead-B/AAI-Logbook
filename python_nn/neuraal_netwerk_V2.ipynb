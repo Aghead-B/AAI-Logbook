{
 "cells": [
  {
   "cell_type": "code",
   "execution_count": 9,
   "id": "f1a26455",
   "metadata": {},
   "outputs": [],
   "source": [
    "import numpy as np\n",
    "\n",
    "def sigmoid(x, derivative=False):\n",
    "    if derivative:\n",
    "        return x * (1 - x)\n",
    "    else:\n",
    "        ''' It returns 1/(1+exp(-x)). where the values lies between zero and one '''\n",
    "        return 1/(1+np.exp(-x))\n",
    "        \n",
    "def RELU(x, derivative=False):\n",
    "    if derivative:\n",
    "        return np.where(x <= 0, 0, 1)\n",
    "    else:\n",
    "        ''' It returns zero if the input is less than zero otherwise it returns the given input. '''\n",
    "        x1=[]\n",
    "        for i in x:\n",
    "            if i<0:\n",
    "                x1.append(0)\n",
    "            else:\n",
    "                x1.append(i)\n",
    "        return x1\n",
    "    \n",
    "def softmax(x, derivative=False):\n",
    "    if derivative:\n",
    "        return x * (1 - x)\n",
    "    else:\n",
    "        ''' Compute softmax values for each sets of scores in x. '''\n",
    "        return np.exp(x) / np.sum(np.exp(x), axis=0)"
   ]
  },
  {
   "cell_type": "code",
   "execution_count": 10,
   "id": "c30f1397",
   "metadata": {},
   "outputs": [],
   "source": [
    "class Layer:\n",
    "    def __init__(self, input_size, output_size, activation):\n",
    "        self.input_size = input_size\n",
    "        self.output_size = output_size\n",
    "        self.activation = activation\n",
    "\n",
    "        self.weights = np.random.randn(self.input_size, self.output_size) * np.sqrt(2 / self.input_size)\n",
    "        self.biases = np.zeros((1, self.output_size))\n",
    "\n",
    "    def forward(self, inputs):\n",
    "        result = (inputs @ self.weights) + self.biases\n",
    "        result = self.activation(result)\n",
    "        return result\n",
    "\n",
    "    def backward(self, inputs, delta):\n",
    "        # Calculate the derivative of the activation function\n",
    "        derivative_activation = self.activation(inputs, derivative=True)\n",
    "\n",
    "        # Calculate the error in this layer\n",
    "        error = np.dot(delta, self.weights.T) * derivative_activation\n",
    "\n",
    "        return error"
   ]
  },
  {
   "cell_type": "code",
   "execution_count": 11,
   "id": "eddc9324",
   "metadata": {},
   "outputs": [],
   "source": [
    "def calculate_output_error(output, target):\n",
    "        \"\"\"Calculates the error in the output layer.\"\"\"\n",
    "        return output - target\n",
    "\n",
    "X = [[1, 2, 3, 2.5],\n",
    "    [2.0, 5.0, -1.0, 2.0],\n",
    "    [-1.5, 2.7, 3.3, -0.8]]\n",
    "\n",
    "X = np.array(X)\n",
    "\n",
    "layer1 = Layer(4, 5, sigmoid)\n",
    "layer2 = Layer(5, 3, sigmoid)\n",
    "layer3 = Layer(3, 1, softmax)"
   ]
  },
  {
   "cell_type": "code",
   "execution_count": 12,
   "id": "29179bd2",
   "metadata": {},
   "outputs": [
    {
     "name": "stdout",
     "output_type": "stream",
     "text": [
      "[[0.98723804 0.06289133 0.10754728 0.76892825 0.98558345]\n",
      " [0.51964357 0.53207272 0.01153945 0.19236734 0.88915034]\n",
      " [0.96925973 0.08180994 0.52244478 0.89532597 0.83327312]]\n"
     ]
    }
   ],
   "source": [
    "layer1_output = layer1.forward(X)\n",
    "print(layer1_output)"
   ]
  },
  {
   "cell_type": "code",
   "execution_count": 13,
   "id": "f96715ae",
   "metadata": {},
   "outputs": [
    {
     "name": "stdout",
     "output_type": "stream",
     "text": [
      "[[0.17001934 0.4917039  0.40621342]\n",
      " [0.20119478 0.46033209 0.59288596]\n",
      " [0.16547137 0.46164041 0.37294871]]\n"
     ]
    }
   ],
   "source": [
    "layer2_output = layer2.forward(layer1_output)\n",
    "print(layer2_output)"
   ]
  },
  {
   "cell_type": "code",
   "execution_count": 14,
   "metadata": {},
   "outputs": [
    {
     "name": "stdout",
     "output_type": "stream",
     "text": [
      "[[0.32584714]\n",
      " [0.37326768]\n",
      " [0.30088518]]\n"
     ]
    }
   ],
   "source": [
    "output = layer3.forward(layer2_output)\n",
    "print(output)"
   ]
  },
  {
   "cell_type": "code",
   "execution_count": 8,
   "id": "4d5eb042",
   "metadata": {},
   "outputs": [
    {
     "name": "stdout",
     "output_type": "stream",
     "text": [
      "output_error[[-0.70063885]\n",
      " [-0.72849549]\n",
      " [-0.57086566]]\n",
      "\n",
      "layer3_error[[-0.06246722  0.2276845   0.21246182]\n",
      " [-0.06422675  0.23622105  0.17979277]\n",
      " [-0.05044932  0.17782189  0.23138682]]\n",
      "\n",
      "layer2_error[[ 0.12405314  0.01424578 -0.03413223 -0.0073753   0.01270878]\n",
      " [ 0.1168596   0.00025324 -0.00017234 -0.01343218  0.00026529]\n",
      " [ 0.10036245  0.0120244  -0.00147994  0.00019128  0.0026663 ]]\n",
      "\n",
      "layer1_error[[ 0.         -0.00343605 -0.09321961  0.37491741]\n",
      " [-0.38189361  0.14875381 -0.10262646  0.2647172 ]\n",
      " [-0.65876107  0.03786641 -0.25648092  0.1408528 ]]\n"
     ]
    }
   ],
   "source": [
    "# calculate output error\n",
    "output_error = calculate_output_error(output, 1)\n",
    "print(\"output_error{}\\n\".format(output_error))\n",
    "\n",
    "# calculate error in layer 3\n",
    "layer3_error = layer3.backward(layer2_output, output_error)\n",
    "print(\"layer3_error{}\\n\".format(layer3_error))\n",
    "\n",
    "# calculate error in layer 2\n",
    "layer2_error = layer2.backward(layer1_output, layer3_error)\n",
    "print(\"layer2_error{}\\n\".format(layer2_error))\n",
    "\n",
    "# calculate error in layer 1\n",
    "layer1_error = layer1.backward(X, layer2_error)\n",
    "print(\"layer1_error{}\".format(layer1_error))"
   ]
  }
 ],
 "metadata": {
  "kernelspec": {
   "display_name": "Python 3 (ipykernel)",
   "language": "python",
   "name": "python3"
  },
  "language_info": {
   "codemirror_mode": {
    "name": "ipython",
    "version": 3
   },
   "file_extension": ".py",
   "mimetype": "text/x-python",
   "name": "python",
   "nbconvert_exporter": "python",
   "pygments_lexer": "ipython3",
   "version": "3.10.9"
  }
 },
 "nbformat": 4,
 "nbformat_minor": 5
}
