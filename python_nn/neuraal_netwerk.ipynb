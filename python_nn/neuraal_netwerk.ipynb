{
 "cells": [
  {
   "cell_type": "code",
   "execution_count": 10,
   "id": "7ac95074-5e63-4e7c-af16-3dbbeac6f776",
   "metadata": {
    "tags": []
   },
   "outputs": [],
   "source": [
    "# import libraries\n",
    "import numpy as np"
   ]
  },
  {
   "cell_type": "code",
   "execution_count": 2,
   "id": "e75ff0e6-a72c-4d1c-a73c-5fa541c34603",
   "metadata": {
    "tags": []
   },
   "outputs": [],
   "source": [
    "# activiation function\n",
    "def sigmoid(x):\n",
    "    return 1 / (1 + np.exp(-x))"
   ]
  },
  {
   "cell_type": "code",
   "execution_count": 11,
   "id": "1c4c8b90-a2c1-492d-9e51-7756a6f1a178",
   "metadata": {
    "tags": []
   },
   "outputs": [],
   "source": [
    "# function to make random weights for each layer\n",
    "def make_weight(neurons,inputs):\n",
    "    W = np.random.normal(size=(neurons,inputs))\n",
    "    return W\n",
    "\n",
    "# function to generate random biases for each layer\n",
    "def make_biases(neurons):\n",
    "    B = np.random.normal(size=(neurons,1))\n",
    "    return B"
   ]
  },
  {
   "cell_type": "code",
   "execution_count": 4,
   "id": "27ba74ee-407b-4c58-a56b-40ba26487142",
   "metadata": {
    "tags": []
   },
   "outputs": [],
   "source": [
    "# this function returns the layer of the neural network\n",
    "def Dense(nr_neurons, inputs, activation_function):\n",
    "    W = make_weight(nr_neurons,inputs)\n",
    "    B = make_biases(nr_neurons)\n",
    "    return { 'weights' : W , 'biases' : B , 'activation_function' : activation_function }"
   ]
  },
  {
   "cell_type": "code",
   "execution_count": 12,
   "id": "6f89e186-d31d-4687-aab9-6155471372a0",
   "metadata": {
    "tags": []
   },
   "outputs": [],
   "source": [
    "# this function passes the input data through the network and calculates the output of the network.\n",
    "def feed_forward(layer, input_data):\n",
    "    # return activation(W @ I + B)\n",
    "    result = layer['weights'] @ input_data \n",
    "    result = result + layer['biases']\n",
    "    result = layer['activation_function'](result)\n",
    "    return result"
   ]
  },
  {
   "cell_type": "code",
   "execution_count": 21,
   "id": "63bbc84c-a148-478c-acfc-25a40b213685",
   "metadata": {
    "tags": []
   },
   "outputs": [],
   "source": [
    "# build a neural network\n",
    "# layers = [\n",
    "#     Dense(2, 3, sigmoid),\n",
    "#     Dense(3, 2, sigmoid),\n",
    "#     Dense(1, 3, sigmoid)\n",
    "# ]\n",
    "layer = Dense(2, 3, sigmoid)"
   ]
  },
  {
   "cell_type": "code",
   "execution_count": 23,
   "id": "7c866afa-2f16-4e86-823b-078e1108ff40",
   "metadata": {
    "tags": []
   },
   "outputs": [
    {
     "data": {
      "text/plain": [
       "array([[0.9373684 , 0.97859352],\n",
       "       [0.28205268, 0.13647521]])"
      ]
     },
     "execution_count": 23,
     "metadata": {},
     "output_type": "execute_result"
    }
   ],
   "source": [
    "X = np.array([[0, 0], [0, 1], [1, 0]])\n",
    "feed_forward(layer, X)"
   ]
  }
 ],
 "metadata": {
  "kernelspec": {
   "display_name": "Python 3 (ipykernel)",
   "language": "python",
   "name": "python3"
  },
  "language_info": {
   "codemirror_mode": {
    "name": "ipython",
    "version": 3
   },
   "file_extension": ".py",
   "mimetype": "text/x-python",
   "name": "python",
   "nbconvert_exporter": "python",
   "pygments_lexer": "ipython3",
   "version": "3.10.9"
  }
 },
 "nbformat": 4,
 "nbformat_minor": 5
}
