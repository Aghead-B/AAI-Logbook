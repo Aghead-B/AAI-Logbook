{
 "cells": [
  {
   "cell_type": "code",
   "execution_count": 17,
   "id": "7ac95074-5e63-4e7c-af16-3dbbeac6f776",
   "metadata": {
    "tags": []
   },
   "outputs": [],
   "source": [
    "# import libraries\n",
    "import numpy as np"
   ]
  },
  {
   "cell_type": "code",
   "execution_count": 18,
   "id": "e75ff0e6-a72c-4d1c-a73c-5fa541c34603",
   "metadata": {
    "tags": []
   },
   "outputs": [],
   "source": [
    "# sigmoid activiation function\n",
    "def sigmoid(x):\n",
    "    return 1 / (1 + np.exp(-x))"
   ]
  },
  {
   "cell_type": "code",
   "execution_count": 19,
   "id": "22310fc5-ab52-4809-a12d-b8c8b31d79f5",
   "metadata": {
    "tags": []
   },
   "outputs": [],
   "source": [
    "# the derivative of sigmoid function\n",
    "def sigmoid_derivative(x):\n",
    "    s = sigmoid(x)\n",
    "    return s * (1 - s)"
   ]
  },
  {
   "cell_type": "code",
   "execution_count": 20,
   "id": "31ce38e7-c633-4b55-a289-89999abc3acc",
   "metadata": {
    "tags": []
   },
   "outputs": [],
   "source": [
    "# relu activiation function\n",
    "def relu(x):\n",
    "    return np.maximum(0, x)"
   ]
  },
  {
   "cell_type": "code",
   "execution_count": 21,
   "id": "d4f85341-8b42-49d7-9d0a-aeeacfc24c36",
   "metadata": {},
   "outputs": [],
   "source": [
    "# the derivative of relu function\n",
    "def relu_derivative(x):\n",
    "    return np.where(x <= 0, 0, 1)"
   ]
  },
  {
   "cell_type": "code",
   "execution_count": 103,
   "id": "1c4c8b90-a2c1-492d-9e51-7756a6f1a178",
   "metadata": {
    "tags": []
   },
   "outputs": [],
   "source": [
    "# function to make random weights for each layer\n",
    "def make_weight(neurons,inputs):\n",
    "    W = np.random.normal(size=(neurons,inputs))\n",
    "    return W\n",
    "\n",
    "# function to generate random biases for each layer\n",
    "def make_biases(neurons):\n",
    "    B = np.random.normal(size=(neurons,1))\n",
    "    return B"
   ]
  },
  {
   "cell_type": "code",
   "execution_count": 104,
   "id": "27ba74ee-407b-4c58-a56b-40ba26487142",
   "metadata": {
    "tags": []
   },
   "outputs": [],
   "source": [
    "# this function returns the layer of the neural network\n",
    "def Dense(nr_neurons, inputs, activation_function):\n",
    "    W = make_weight(nr_neurons,inputs)\n",
    "    B = make_biases(nr_neurons)\n",
    "    return { 'weights' : W , 'biases' : B , 'activation_function' : activation_function }"
   ]
  },
  {
   "cell_type": "code",
   "execution_count": 105,
   "id": "6f89e186-d31d-4687-aab9-6155471372a0",
   "metadata": {
    "tags": []
   },
   "outputs": [],
   "source": [
    "# this function passes the input data through the network and calculates the output of the network.\n",
    "def feed_forward(layer, input_data):\n",
    "    # return activation(W @ I + B)\n",
    "    result = layer['weights'] @ input_data \n",
    "    result = result + layer['biases']\n",
    "    result = layer['activation_function'](result)\n",
    "    return result"
   ]
  },
  {
   "cell_type": "code",
   "execution_count": 125,
   "id": "fc28f1d0-8b48-4068-a6b7-a9d4c3fab1d9",
   "metadata": {
    "tags": []
   },
   "outputs": [],
   "source": [
    "X = [[1, 2, 3, 2.5],\n",
    "     [2.0, 5.0, -1.0, 2.0],\n",
    "     [-1.5, 2.7, 3.3, -0.8]]\n",
    "\n",
    "layer1 = Dense(7, 3, sigmoid)\n",
    "layer2 = Dense(2, 7, sigmoid)\n"
   ]
  },
  {
   "cell_type": "code",
   "execution_count": 127,
   "id": "32d26da5",
   "metadata": {},
   "outputs": [
    {
     "data": {
      "text/plain": [
       "array([[5.14276906e-02, 4.30544332e-01, 9.91426770e-01, 1.14939416e-01],\n",
       "       [3.79862942e-01, 2.43803587e-04, 1.31157654e-04, 2.36041054e-02],\n",
       "       [4.72760932e-02, 3.90134518e-03, 9.38934435e-01, 5.95589609e-02],\n",
       "       [3.58971273e-01, 1.03253701e-01, 6.90856626e-01, 4.64648753e-01],\n",
       "       [9.32437597e-01, 1.21518572e-02, 9.64958966e-03, 9.22853103e-01],\n",
       "       [9.75133684e-01, 9.62308696e-02, 7.53534895e-01, 9.93724491e-01],\n",
       "       [5.65851541e-01, 2.93106811e-04, 2.41253368e-01, 4.28279450e-01]])"
      ]
     },
     "execution_count": 127,
     "metadata": {},
     "output_type": "execute_result"
    }
   ],
   "source": [
    "layer1_output = feed_forward(layer1, X)\n",
    "\n",
    "layer1_output"
   ]
  },
  {
   "cell_type": "code",
   "execution_count": 129,
   "id": "742ce606",
   "metadata": {},
   "outputs": [
    {
     "data": {
      "text/plain": [
       "array([[0.66655911, 0.1541835 , 0.51013336, 0.63797785],\n",
       "       [0.84550632, 0.91214104, 0.9617277 , 0.7794134 ]])"
      ]
     },
     "execution_count": 129,
     "metadata": {},
     "output_type": "execute_result"
    }
   ],
   "source": [
    "layer2_output = feed_forward(layer2, layer1_output)\n",
    "layer2_output"
   ]
  },
  {
   "cell_type": "code",
   "execution_count": null,
   "id": "3f93f70d",
   "metadata": {},
   "outputs": [],
   "source": []
  }
 ],
 "metadata": {
  "kernelspec": {
   "display_name": "Python 3 (ipykernel)",
   "language": "python",
   "name": "python3"
  },
  "language_info": {
   "codemirror_mode": {
    "name": "ipython",
    "version": 3
   },
   "file_extension": ".py",
   "mimetype": "text/x-python",
   "name": "python",
   "nbconvert_exporter": "python",
   "pygments_lexer": "ipython3",
   "version": "3.10.9"
  }
 },
 "nbformat": 4,
 "nbformat_minor": 5
}
